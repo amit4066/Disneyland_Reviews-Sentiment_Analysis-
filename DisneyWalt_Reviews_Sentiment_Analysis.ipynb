{
 "cells": [
  {
   "cell_type": "markdown",
   "metadata": {
    "colab_type": "text",
    "id": "PxvvaRkFdv5c"
   },
   "source": [
    "## Table of Content\n",
    "   \n",
    "1. [Executive Summary](#cell_executivesummary)\n",
    "\n",
    "\n",
    "2. [Data Exploration](#cell_exploration)\n",
    "\n",
    "\n",
    "3. [Sentiment Analysis](#cell_sentiment)\n",
    "\n",
    "\n",
    "4. [Topic Modeling](#cell_TopicModeling)\n",
    "\n",
    " \n",
    "5. [Practical Implication](#cell_PracticalImplication)\n"
   ]
  },
  {
   "cell_type": "markdown",
   "metadata": {
    "colab_type": "text",
    "id": "THnW6RPgLLf6"
   },
   "source": [
    "<a id = \"cell_executivesummary\"></a>\n",
    "### 1. Executive Summary\n",
    " "
   ]
  },
  {
   "cell_type": "markdown",
   "metadata": {},
   "source": [
    "The Management Team at Walt Disney wants to improve its Customer Service and is looking for an analytical solution that could provide an in-depth analysis of customer's Reviews Data of the given three Disney Theme Parks. \n",
    "\n",
    "The aim of the project is to develop a Business Solution based on the Sentiment Analysis that would help the Management Team to focus only on Concerns, Interests and improve its facilities and Services.\n",
    "\n",
    "To achieve the above aim, we have performed Data Exploration to find out the Peak Time to visit each Theme park, their highest average Ratings, Major groups of Visitors etc.\n",
    "\n",
    "The Following are the major Findings:-\n",
    "\n",
    "In performing the Topic Modeling in Part F, G and H, it was found that most of the Visitors are concerned regarding the long waiting time and Food quality in theme parks. Also, in reading some of the significant reviews, it was also discovered that Visitors don't like to visit the HongKong Theme park as it is relatively very small and offers less rides and also serves poor Food quality. Lastly, Visitors are concerned for lack of shade area in hot weather.\n",
    "\n",
    "Also, in answering Part F, it was discovered than most of the visitors are interested in IRON MAN, space mountain rides and shopping from Disney Outlets."
   ]
  },
  {
   "cell_type": "markdown",
   "metadata": {
    "colab_type": "text",
    "id": "qbu5jB7Ydv5d"
   },
   "source": [
    "<a id = \"cell_exploration\"></a>\n",
    "### 2. Data Exploration"
   ]
  },
  {
   "cell_type": "code",
   "execution_count": 62,
   "metadata": {
    "colab": {},
    "colab_type": "code",
    "id": "88Rv0Kzhdv5e"
   },
   "outputs": [],
   "source": [
    "import pandas as pd\n",
    "import numpy as np\n",
    "import matplotlib.pylab as plt\n",
    "from matplotlib import pyplot\n",
    "import seaborn as sns\n",
    "import scipy\n",
    "%matplotlib inline"
   ]
  },
  {
   "cell_type": "code",
   "execution_count": null,
   "metadata": {},
   "outputs": [],
   "source": [
    "# #This only needs to run once to install Gensim package\n",
    "# !pip install gensim "
   ]
  },
  {
   "cell_type": "code",
   "execution_count": 63,
   "metadata": {
    "colab": {},
    "colab_type": "code",
    "id": "OmU9hE6a6jFk"
   },
   "outputs": [],
   "source": [
    "from dfply import *"
   ]
  },
  {
   "cell_type": "code",
   "execution_count": 64,
   "metadata": {
    "colab": {},
    "colab_type": "code",
    "id": "uY5xqIeudv5o"
   },
   "outputs": [],
   "source": [
    "# Reading the Walt Disney File into a Pandas Dataframe.\n",
    "\n",
    "df = pd.read_csv('DisneylandReviews.csv', encoding='latin-1')"
   ]
  },
  {
   "cell_type": "code",
   "execution_count": 65,
   "metadata": {
    "colab": {},
    "colab_type": "code",
    "id": "HyZXOmZ56jFp",
    "outputId": "0e95ea00-ba62-4180-e860-86cf350a66dc"
   },
   "outputs": [
    {
     "data": {
      "text/html": [
       "<div>\n",
       "<style scoped>\n",
       "    .dataframe tbody tr th:only-of-type {\n",
       "        vertical-align: middle;\n",
       "    }\n",
       "\n",
       "    .dataframe tbody tr th {\n",
       "        vertical-align: top;\n",
       "    }\n",
       "\n",
       "    .dataframe thead th {\n",
       "        text-align: right;\n",
       "    }\n",
       "</style>\n",
       "<table border=\"1\" class=\"dataframe\">\n",
       "  <thead>\n",
       "    <tr style=\"text-align: right;\">\n",
       "      <th></th>\n",
       "      <th>Review_ID</th>\n",
       "      <th>Rating</th>\n",
       "      <th>Year_Month</th>\n",
       "      <th>Reviewer_Location</th>\n",
       "      <th>Review_Text</th>\n",
       "      <th>Branch</th>\n",
       "    </tr>\n",
       "  </thead>\n",
       "  <tbody>\n",
       "    <tr>\n",
       "      <td>0</td>\n",
       "      <td>670772142</td>\n",
       "      <td>4</td>\n",
       "      <td>2019-4</td>\n",
       "      <td>Australia</td>\n",
       "      <td>If you've ever been to Disneyland anywhere you...</td>\n",
       "      <td>Disneyland_HongKong</td>\n",
       "    </tr>\n",
       "    <tr>\n",
       "      <td>1</td>\n",
       "      <td>670682799</td>\n",
       "      <td>4</td>\n",
       "      <td>2019-5</td>\n",
       "      <td>Philippines</td>\n",
       "      <td>Its been a while since d last time we visit HK...</td>\n",
       "      <td>Disneyland_HongKong</td>\n",
       "    </tr>\n",
       "    <tr>\n",
       "      <td>2</td>\n",
       "      <td>670623270</td>\n",
       "      <td>4</td>\n",
       "      <td>2019-4</td>\n",
       "      <td>United Arab Emirates</td>\n",
       "      <td>Thanks God it wasn   t too hot or too humid wh...</td>\n",
       "      <td>Disneyland_HongKong</td>\n",
       "    </tr>\n",
       "    <tr>\n",
       "      <td>3</td>\n",
       "      <td>670607911</td>\n",
       "      <td>4</td>\n",
       "      <td>2019-4</td>\n",
       "      <td>Australia</td>\n",
       "      <td>HK Disneyland is a great compact park. Unfortu...</td>\n",
       "      <td>Disneyland_HongKong</td>\n",
       "    </tr>\n",
       "    <tr>\n",
       "      <td>4</td>\n",
       "      <td>670607296</td>\n",
       "      <td>4</td>\n",
       "      <td>2019-4</td>\n",
       "      <td>United Kingdom</td>\n",
       "      <td>the location is not in the city, took around 1...</td>\n",
       "      <td>Disneyland_HongKong</td>\n",
       "    </tr>\n",
       "  </tbody>\n",
       "</table>\n",
       "</div>"
      ],
      "text/plain": [
       "   Review_ID  Rating Year_Month     Reviewer_Location  \\\n",
       "0  670772142       4     2019-4             Australia   \n",
       "1  670682799       4     2019-5           Philippines   \n",
       "2  670623270       4     2019-4  United Arab Emirates   \n",
       "3  670607911       4     2019-4             Australia   \n",
       "4  670607296       4     2019-4        United Kingdom   \n",
       "\n",
       "                                         Review_Text               Branch  \n",
       "0  If you've ever been to Disneyland anywhere you...  Disneyland_HongKong  \n",
       "1  Its been a while since d last time we visit HK...  Disneyland_HongKong  \n",
       "2  Thanks God it wasn   t too hot or too humid wh...  Disneyland_HongKong  \n",
       "3  HK Disneyland is a great compact park. Unfortu...  Disneyland_HongKong  \n",
       "4  the location is not in the city, took around 1...  Disneyland_HongKong  "
      ]
     },
     "execution_count": 65,
     "metadata": {},
     "output_type": "execute_result"
    }
   ],
   "source": [
    "df.head()"
   ]
  },
  {
   "cell_type": "code",
   "execution_count": 66,
   "metadata": {
    "colab": {},
    "colab_type": "code",
    "id": "VrVdegYcdv9H",
    "outputId": "78f2991c-d36f-4a7c-835e-0fa7b037e90e"
   },
   "outputs": [
    {
     "name": "stdout",
     "output_type": "stream",
     "text": [
      "Rows:        : 42656\n",
      "Columns:     : 6\n"
     ]
    }
   ],
   "source": [
    "# View a summary of our data\n",
    "\n",
    "print(\"Rows:        :\", df.shape[0])\n",
    "print(\"Columns:     :\", df.shape[1])"
   ]
  },
  {
   "cell_type": "code",
   "execution_count": 67,
   "metadata": {
    "colab": {},
    "colab_type": "code",
    "id": "U2_--vatdv9K",
    "outputId": "be71f038-df80-4aa6-8e3b-2f23eb744a05"
   },
   "outputs": [
    {
     "data": {
      "text/plain": [
       "count    42656.000000\n",
       "mean         4.217695\n",
       "std          1.063371\n",
       "min          1.000000\n",
       "25%          4.000000\n",
       "50%          5.000000\n",
       "75%          5.000000\n",
       "max          5.000000\n",
       "Name: Rating, dtype: float64"
      ]
     },
     "execution_count": 67,
     "metadata": {},
     "output_type": "execute_result"
    }
   ],
   "source": [
    "# Summary Statistics of Rating\n",
    "df.Rating.describe()"
   ]
  },
  {
   "cell_type": "code",
   "execution_count": 68,
   "metadata": {
    "colab": {},
    "colab_type": "code",
    "id": "oT5-ke5ydv9T",
    "outputId": "6806db6a-5589-4680-fc2a-97261c62529f",
    "scrolled": true
   },
   "outputs": [
    {
     "data": {
      "text/plain": [
       "Review_ID            42636\n",
       "Rating                   5\n",
       "Year_Month             112\n",
       "Reviewer_Location      162\n",
       "Review_Text          42632\n",
       "Branch                   3\n",
       "dtype: int64"
      ]
     },
     "execution_count": 68,
     "metadata": {},
     "output_type": "execute_result"
    }
   ],
   "source": [
    "# Count all the unique categories in each column\n",
    "df.nunique(axis = 0)"
   ]
  },
  {
   "cell_type": "code",
   "execution_count": 69,
   "metadata": {
    "colab": {},
    "colab_type": "code",
    "id": "Q8qdUpE_dv9X",
    "outputId": "8e7e73c0-9f8c-4be3-f2ba-61112e260f7e"
   },
   "outputs": [
    {
     "data": {
      "text/plain": [
       "Disneyland_California    19406\n",
       "Disneyland_Paris         13630\n",
       "Disneyland_HongKong       9620\n",
       "Name: Branch, dtype: int64"
      ]
     },
     "execution_count": 69,
     "metadata": {},
     "output_type": "execute_result"
    }
   ],
   "source": [
    "df.Branch.value_counts()"
   ]
  },
  {
   "cell_type": "code",
   "execution_count": 70,
   "metadata": {
    "colab": {},
    "colab_type": "code",
    "id": "3BmH3btR6jF1",
    "outputId": "dec83cf0-1027-4825-be3b-23b5e0c27ada"
   },
   "outputs": [
    {
     "data": {
      "text/plain": [
       "United States                       14551\n",
       "United Kingdom                       9751\n",
       "Australia                            4679\n",
       "Canada                               2235\n",
       "India                                1511\n",
       "                                    ...  \n",
       "Timor-Leste                             1\n",
       "Iraq                                    1\n",
       "Namibia                                 1\n",
       "Democratic Republic of the Congo        1\n",
       "El Salvador                             1\n",
       "Name: Reviewer_Location, Length: 162, dtype: int64"
      ]
     },
     "execution_count": 70,
     "metadata": {},
     "output_type": "execute_result"
    }
   ],
   "source": [
    "df['Reviewer_Location'].value_counts()"
   ]
  },
  {
   "cell_type": "code",
   "execution_count": 71,
   "metadata": {
    "colab": {},
    "colab_type": "code",
    "id": "pbPZGTvl6jF3",
    "outputId": "2865f31a-6524-4415-f6a9-116597215cff"
   },
   "outputs": [
    {
     "data": {
      "text/plain": [
       "missing    2613\n",
       "2015-8      786\n",
       "2015-7      759\n",
       "2015-12     701\n",
       "2015-6      692\n",
       "           ... \n",
       "2010-8        7\n",
       "2010-5        4\n",
       "2019-5        2\n",
       "2010-3        2\n",
       "2010-4        1\n",
       "Name: Year_Month, Length: 112, dtype: int64"
      ]
     },
     "execution_count": 71,
     "metadata": {},
     "output_type": "execute_result"
    }
   ],
   "source": [
    "df['Year_Month'].value_counts()"
   ]
  },
  {
   "cell_type": "markdown",
   "metadata": {},
   "source": [
    "## Inspecting the Missing Values in Year_Month"
   ]
  },
  {
   "cell_type": "code",
   "execution_count": 72,
   "metadata": {
    "colab": {},
    "colab_type": "code",
    "id": "MdlWjUxRdv9Q",
    "outputId": "41ef69f0-67b6-43b1-aa15-6c9e298222ee"
   },
   "outputs": [
    {
     "name": "stdout",
     "output_type": "stream",
     "text": [
      "Number of missing dates:  2613\n"
     ]
    }
   ],
   "source": [
    "# As we can see in the above value counts that there are missing dates in our dataset.\n",
    "\n",
    "# Number of Missing dates in our dataset\n",
    "\n",
    "print( \"Number of missing dates: \",\n",
    "      df[df.Year_Month == 'missing']\\\n",
    "      .shape[0])"
   ]
  },
  {
   "cell_type": "code",
   "execution_count": 73,
   "metadata": {
    "colab": {},
    "colab_type": "code",
    "id": "NnKBM1yD6jF8",
    "outputId": "92fff81e-3163-4789-d5e0-c6b04a922ff8"
   },
   "outputs": [
    {
     "name": "stdout",
     "output_type": "stream",
     "text": [
      "Percentage of Missing dates in our dataset:  6.1257501875468865 %\n"
     ]
    }
   ],
   "source": [
    "# Percentage of missing data\n",
    "df_dates = df[df['Year_Month'] == 'missing'].shape[0] * 100 / df.shape[0]\n",
    "\n",
    "print(\"Percentage of Missing dates in our dataset: \", \n",
    "        df_dates, \"%\")"
   ]
  },
  {
   "cell_type": "code",
   "execution_count": 74,
   "metadata": {
    "colab": {},
    "colab_type": "code",
    "id": "ssjTcDTb6jF-"
   },
   "outputs": [],
   "source": [
    "# Since its only about 6% of our entire data, we would remove the missing dates\n",
    "# Dropping the Missing dates \n",
    "\n",
    "df = df[df['Year_Month'] != 'missing'].reset_index(drop = True)"
   ]
  },
  {
   "cell_type": "code",
   "execution_count": 75,
   "metadata": {
    "colab": {},
    "colab_type": "code",
    "id": "idNYZ4uo6jGA",
    "outputId": "b2964aa9-2535-454a-d4d9-bea56a3bf7b6"
   },
   "outputs": [
    {
     "name": "stdout",
     "output_type": "stream",
     "text": [
      "<class 'pandas.core.frame.DataFrame'>\n",
      "RangeIndex: 40043 entries, 0 to 40042\n",
      "Data columns (total 6 columns):\n",
      "Review_ID            40043 non-null int64\n",
      "Rating               40043 non-null int64\n",
      "Year_Month           40043 non-null object\n",
      "Reviewer_Location    40043 non-null object\n",
      "Review_Text          40043 non-null object\n",
      "Branch               40043 non-null object\n",
      "dtypes: int64(2), object(4)\n",
      "memory usage: 1.8+ MB\n"
     ]
    }
   ],
   "source": [
    "df.info()"
   ]
  },
  {
   "cell_type": "code",
   "execution_count": 76,
   "metadata": {
    "colab": {},
    "colab_type": "code",
    "id": "V9jvNYhn6jGE"
   },
   "outputs": [],
   "source": [
    "# We will also convert Year_Month into a datetime format \n",
    "\n",
    "from datetime import datetime as dt\n",
    "\n",
    "df['Year_Month'] = pd.to_datetime(df['Year_Month']).dt.to_period('M')"
   ]
  },
  {
   "cell_type": "code",
   "execution_count": 77,
   "metadata": {
    "colab": {},
    "colab_type": "code",
    "id": "GR0PJRzBdv9r"
   },
   "outputs": [],
   "source": [
    "# Creating a new Dataframe df2\n",
    "df2 = df.copy()"
   ]
  },
  {
   "cell_type": "markdown",
   "metadata": {
    "colab_type": "text",
    "id": "doCUnfhp6jGI"
   },
   "source": [
    "# PART A\n",
    "\n",
    "## Which period of the year is the peak time for visitor to visit each theme park?"
   ]
  },
  {
   "cell_type": "code",
   "execution_count": 78,
   "metadata": {
    "colab": {},
    "colab_type": "code",
    "id": "zTlzHhVp6jGJ",
    "outputId": "a0c66938-5f7d-48f4-d7b4-77f9e22040fa"
   },
   "outputs": [
    {
     "data": {
      "text/html": [
       "<div>\n",
       "<style scoped>\n",
       "    .dataframe tbody tr th:only-of-type {\n",
       "        vertical-align: middle;\n",
       "    }\n",
       "\n",
       "    .dataframe tbody tr th {\n",
       "        vertical-align: top;\n",
       "    }\n",
       "\n",
       "    .dataframe thead th {\n",
       "        text-align: right;\n",
       "    }\n",
       "</style>\n",
       "<table border=\"1\" class=\"dataframe\">\n",
       "  <thead>\n",
       "    <tr style=\"text-align: right;\">\n",
       "      <th></th>\n",
       "      <th>Review_ID</th>\n",
       "      <th>Rating</th>\n",
       "      <th>Year_Month</th>\n",
       "      <th>Reviewer_Location</th>\n",
       "      <th>Review_Text</th>\n",
       "      <th>Branch</th>\n",
       "    </tr>\n",
       "  </thead>\n",
       "  <tbody>\n",
       "    <tr>\n",
       "      <td>0</td>\n",
       "      <td>670772142</td>\n",
       "      <td>4</td>\n",
       "      <td>2019-04</td>\n",
       "      <td>Australia</td>\n",
       "      <td>If you've ever been to Disneyland anywhere you...</td>\n",
       "      <td>Disneyland_HongKong</td>\n",
       "    </tr>\n",
       "    <tr>\n",
       "      <td>1</td>\n",
       "      <td>670682799</td>\n",
       "      <td>4</td>\n",
       "      <td>2019-05</td>\n",
       "      <td>Philippines</td>\n",
       "      <td>Its been a while since d last time we visit HK...</td>\n",
       "      <td>Disneyland_HongKong</td>\n",
       "    </tr>\n",
       "    <tr>\n",
       "      <td>2</td>\n",
       "      <td>670623270</td>\n",
       "      <td>4</td>\n",
       "      <td>2019-04</td>\n",
       "      <td>United Arab Emirates</td>\n",
       "      <td>Thanks God it wasn   t too hot or too humid wh...</td>\n",
       "      <td>Disneyland_HongKong</td>\n",
       "    </tr>\n",
       "    <tr>\n",
       "      <td>3</td>\n",
       "      <td>670607911</td>\n",
       "      <td>4</td>\n",
       "      <td>2019-04</td>\n",
       "      <td>Australia</td>\n",
       "      <td>HK Disneyland is a great compact park. Unfortu...</td>\n",
       "      <td>Disneyland_HongKong</td>\n",
       "    </tr>\n",
       "    <tr>\n",
       "      <td>4</td>\n",
       "      <td>670607296</td>\n",
       "      <td>4</td>\n",
       "      <td>2019-04</td>\n",
       "      <td>United Kingdom</td>\n",
       "      <td>the location is not in the city, took around 1...</td>\n",
       "      <td>Disneyland_HongKong</td>\n",
       "    </tr>\n",
       "  </tbody>\n",
       "</table>\n",
       "</div>"
      ],
      "text/plain": [
       "   Review_ID  Rating Year_Month     Reviewer_Location  \\\n",
       "0  670772142       4    2019-04             Australia   \n",
       "1  670682799       4    2019-05           Philippines   \n",
       "2  670623270       4    2019-04  United Arab Emirates   \n",
       "3  670607911       4    2019-04             Australia   \n",
       "4  670607296       4    2019-04        United Kingdom   \n",
       "\n",
       "                                         Review_Text               Branch  \n",
       "0  If you've ever been to Disneyland anywhere you...  Disneyland_HongKong  \n",
       "1  Its been a while since d last time we visit HK...  Disneyland_HongKong  \n",
       "2  Thanks God it wasn   t too hot or too humid wh...  Disneyland_HongKong  \n",
       "3  HK Disneyland is a great compact park. Unfortu...  Disneyland_HongKong  \n",
       "4  the location is not in the city, took around 1...  Disneyland_HongKong  "
      ]
     },
     "execution_count": 78,
     "metadata": {},
     "output_type": "execute_result"
    }
   ],
   "source": [
    "df.head()"
   ]
  },
  {
   "cell_type": "code",
   "execution_count": 79,
   "metadata": {
    "colab": {},
    "colab_type": "code",
    "id": "-4AgZoEb6jGL"
   },
   "outputs": [],
   "source": [
    "# Adding the Month Column for further analysis\n",
    "df.insert(loc=3, column='MONTH', value= df['Year_Month'].dt.month)"
   ]
  },
  {
   "cell_type": "code",
   "execution_count": 80,
   "metadata": {
    "colab": {},
    "colab_type": "code",
    "id": "JkCwBpMq6jGN",
    "outputId": "7d1b3c7b-d6cd-406d-ac2a-d3cb0c0b7c0e",
    "scrolled": false
   },
   "outputs": [
    {
     "data": {
      "text/html": [
       "<div>\n",
       "<style scoped>\n",
       "    .dataframe tbody tr th:only-of-type {\n",
       "        vertical-align: middle;\n",
       "    }\n",
       "\n",
       "    .dataframe tbody tr th {\n",
       "        vertical-align: top;\n",
       "    }\n",
       "\n",
       "    .dataframe thead th {\n",
       "        text-align: right;\n",
       "    }\n",
       "</style>\n",
       "<table border=\"1\" class=\"dataframe\">\n",
       "  <thead>\n",
       "    <tr style=\"text-align: right;\">\n",
       "      <th></th>\n",
       "      <th>Review_ID</th>\n",
       "      <th>Rating</th>\n",
       "      <th>Year_Month</th>\n",
       "      <th>MONTH</th>\n",
       "      <th>Reviewer_Location</th>\n",
       "      <th>Review_Text</th>\n",
       "      <th>Branch</th>\n",
       "    </tr>\n",
       "  </thead>\n",
       "  <tbody>\n",
       "    <tr>\n",
       "      <td>0</td>\n",
       "      <td>670772142</td>\n",
       "      <td>4</td>\n",
       "      <td>2019-04</td>\n",
       "      <td>4</td>\n",
       "      <td>Australia</td>\n",
       "      <td>If you've ever been to Disneyland anywhere you...</td>\n",
       "      <td>Disneyland_HongKong</td>\n",
       "    </tr>\n",
       "    <tr>\n",
       "      <td>1</td>\n",
       "      <td>670682799</td>\n",
       "      <td>4</td>\n",
       "      <td>2019-05</td>\n",
       "      <td>5</td>\n",
       "      <td>Philippines</td>\n",
       "      <td>Its been a while since d last time we visit HK...</td>\n",
       "      <td>Disneyland_HongKong</td>\n",
       "    </tr>\n",
       "    <tr>\n",
       "      <td>2</td>\n",
       "      <td>670623270</td>\n",
       "      <td>4</td>\n",
       "      <td>2019-04</td>\n",
       "      <td>4</td>\n",
       "      <td>United Arab Emirates</td>\n",
       "      <td>Thanks God it wasn   t too hot or too humid wh...</td>\n",
       "      <td>Disneyland_HongKong</td>\n",
       "    </tr>\n",
       "    <tr>\n",
       "      <td>3</td>\n",
       "      <td>670607911</td>\n",
       "      <td>4</td>\n",
       "      <td>2019-04</td>\n",
       "      <td>4</td>\n",
       "      <td>Australia</td>\n",
       "      <td>HK Disneyland is a great compact park. Unfortu...</td>\n",
       "      <td>Disneyland_HongKong</td>\n",
       "    </tr>\n",
       "    <tr>\n",
       "      <td>4</td>\n",
       "      <td>670607296</td>\n",
       "      <td>4</td>\n",
       "      <td>2019-04</td>\n",
       "      <td>4</td>\n",
       "      <td>United Kingdom</td>\n",
       "      <td>the location is not in the city, took around 1...</td>\n",
       "      <td>Disneyland_HongKong</td>\n",
       "    </tr>\n",
       "  </tbody>\n",
       "</table>\n",
       "</div>"
      ],
      "text/plain": [
       "   Review_ID  Rating Year_Month  MONTH     Reviewer_Location  \\\n",
       "0  670772142       4    2019-04      4             Australia   \n",
       "1  670682799       4    2019-05      5           Philippines   \n",
       "2  670623270       4    2019-04      4  United Arab Emirates   \n",
       "3  670607911       4    2019-04      4             Australia   \n",
       "4  670607296       4    2019-04      4        United Kingdom   \n",
       "\n",
       "                                         Review_Text               Branch  \n",
       "0  If you've ever been to Disneyland anywhere you...  Disneyland_HongKong  \n",
       "1  Its been a while since d last time we visit HK...  Disneyland_HongKong  \n",
       "2  Thanks God it wasn   t too hot or too humid wh...  Disneyland_HongKong  \n",
       "3  HK Disneyland is a great compact park. Unfortu...  Disneyland_HongKong  \n",
       "4  the location is not in the city, took around 1...  Disneyland_HongKong  "
      ]
     },
     "execution_count": 80,
     "metadata": {},
     "output_type": "execute_result"
    }
   ],
   "source": [
    "df.head()"
   ]
  },
  {
   "cell_type": "markdown",
   "metadata": {},
   "source": [
    "### Figure A.1"
   ]
  },
  {
   "cell_type": "code",
   "execution_count": 256,
   "metadata": {
    "colab": {},
    "colab_type": "code",
    "id": "SG4HyaAw6jGR",
    "outputId": "2e8e063a-1d3b-42cf-d395-15b9035a756c"
   },
   "outputs": [
    {
     "data": {
      "image/png": "[encoded data removed]",
      "text/plain": [
       "<Figure size 432x288 with 1 Axes>"
      ]
     },
     "metadata": {
      "needs_background": "light"
     },
     "output_type": "display_data"
    }
   ],
   "source": [
    "df_year_Cal = df[df['Branch'] == 'Disneyland_California']\n",
    "\n",
    "df_year_Cal.MONTH.value_counts().plot(kind = 'bar', color = 'orange')\n",
    "plt.title(\"Peak Time for Visiting in DisneyLand California\\n\\n\", fontsize = 18);\n",
    "plt.suptitle('By Months\\n', fontsize = 14)\n",
    "plt.xlabel(\"Months\", fontsize = 16)\n",
    "plt.ylabel(\"NUmber of Reviews\", fontsize = 16);"
   ]
  },
  {
   "cell_type": "markdown",
   "metadata": {},
   "source": [
    "### Figure A.2"
   ]
  },
  {
   "cell_type": "code",
   "execution_count": 255,
   "metadata": {
    "colab": {},
    "colab_type": "code",
    "id": "mfmRxJYR6jGP",
    "outputId": "6aa57cda-4d31-4a26-a526-9cf276b6bba9"
   },
   "outputs": [
    {
     "data": {
      "image/png": "[encoded data removed]",
      "text/plain": [
       "<Figure size 432x288 with 1 Axes>"
      ]
     },
     "metadata": {
      "needs_background": "light"
     },
     "output_type": "display_data"
    }
   ],
   "source": [
    "df_year_Hong = df[df['Branch'] == 'Disneyland_HongKong']\n",
    "\n",
    "df_year_Hong.MONTH.value_counts().plot(kind = 'bar', color= 'green')\n",
    "plt.title(\"Peak Time for Visiting in DisneyLand HongKong\\n\\n\", fontsize = 18);\n",
    "plt.suptitle('By Months\\n', fontsize = 14)\n",
    "plt.xlabel(\"Months\", fontsize = 16)\n",
    "plt.ylabel(\"NUmber of Reviews\", fontsize = 16);"
   ]
  },
  {
   "cell_type": "markdown",
   "metadata": {},
   "source": [
    "### Figure A.3"
   ]
  },
  {
   "cell_type": "code",
   "execution_count": 254,
   "metadata": {
    "colab": {},
    "colab_type": "code",
    "id": "pfnX_NII6jGT",
    "outputId": "a76ba21f-2ba1-457a-8ab4-0d21fbee0d30"
   },
   "outputs": [
    {
     "data": {
      "image/png": "[encoded data removed]",
      "text/plain": [
       "<Figure size 432x288 with 1 Axes>"
      ]
     },
     "metadata": {
      "needs_background": "light"
     },
     "output_type": "display_data"
    }
   ],
   "source": [
    "df_year_Paris = df[df['Branch'] == 'Disneyland_Paris']\n",
    "\n",
    "df_year_Paris.MONTH.value_counts().plot(kind = 'bar', color= 'violet')\n",
    "plt.title(\"Peak Time for Visiting in DisneyLand Paris\\n\\n\", fontsize = 18);\n",
    "plt.suptitle('By Months\\n', fontsize = 14)\n",
    "plt.xlabel(\"Months\", fontsize = 16)\n",
    "plt.ylabel(\"NUmber of Reviews\", fontsize = 16);"
   ]
  },
  {
   "cell_type": "markdown",
   "metadata": {},
   "source": [
    "## ANSWER ----------- > PART A"
   ]
  },
  {
   "cell_type": "markdown",
   "metadata": {},
   "source": [
    "The Following is the Peak Time for visiting Each DisneyLand Park.\n",
    "\n",
    "1. For DisneyLand California, July is the Peak Month, followed by October.\n",
    "\n",
    "\n",
    "2. For DisneyLand HongKong, December is the Peak Month, followed by October and April.\n",
    "\n",
    "\n",
    "3. For DsineyLand Paris, August is the Peak Month, followed by July."
   ]
  },
  {
   "cell_type": "markdown",
   "metadata": {
    "colab": {},
    "colab_type": "code",
    "id": "6RiN_jzjdv-F"
   },
   "source": [
    "# PART B"
   ]
  },
  {
   "cell_type": "markdown",
   "metadata": {
    "colab_type": "text",
    "id": "C5suDUMP6jGW"
   },
   "source": [
    "### Who are the major groups of visitors at each Disneyland Park?"
   ]
  },
  {
   "cell_type": "code",
   "execution_count": 178,
   "metadata": {
    "colab": {},
    "colab_type": "code",
    "id": "gdF28HcGdv-I",
    "outputId": "cabb26d4-1f00-4319-cfee-9d1cd8c2bf5f"
   },
   "outputs": [
    {
     "data": {
      "text/html": [
       "<div>\n",
       "<style scoped>\n",
       "    .dataframe tbody tr th:only-of-type {\n",
       "        vertical-align: middle;\n",
       "    }\n",
       "\n",
       "    .dataframe tbody tr th {\n",
       "        vertical-align: top;\n",
       "    }\n",
       "\n",
       "    .dataframe thead th {\n",
       "        text-align: right;\n",
       "    }\n",
       "</style>\n",
       "<table border=\"1\" class=\"dataframe\">\n",
       "  <thead>\n",
       "    <tr style=\"text-align: right;\">\n",
       "      <th></th>\n",
       "      <th>Review_ID</th>\n",
       "      <th>Rating</th>\n",
       "      <th>Sent_ML</th>\n",
       "      <th>Label</th>\n",
       "      <th>Year_Month</th>\n",
       "      <th>MONTH</th>\n",
       "      <th>Reviewer_Location</th>\n",
       "      <th>Review_Text</th>\n",
       "      <th>Branch_Encoded</th>\n",
       "      <th>Branch</th>\n",
       "      <th>Cleaned_doc_ML</th>\n",
       "      <th>Sent_Lexicon</th>\n",
       "      <th>Cleaned_doc_LDA</th>\n",
       "    </tr>\n",
       "  </thead>\n",
       "  <tbody>\n",
       "    <tr>\n",
       "      <td>0</td>\n",
       "      <td>670772142</td>\n",
       "      <td>4</td>\n",
       "      <td>pos</td>\n",
       "      <td>1</td>\n",
       "      <td>2019-04</td>\n",
       "      <td>4</td>\n",
       "      <td>Australia</td>\n",
       "      <td>If you've ever been to Disneyland anywhere you'll find Disneyland Hong Kong very similar in the ...</td>\n",
       "      <td>1</td>\n",
       "      <td>Disneyland_HongKong</td>\n",
       "      <td>ever disneyland anywher find disneyland hong kong veri similar layout walk main street veri fami...</td>\n",
       "      <td>neu</td>\n",
       "      <td>[similar, layout, familiar, fabul, fairli]</td>\n",
       "    </tr>\n",
       "    <tr>\n",
       "      <td>1</td>\n",
       "      <td>670682799</td>\n",
       "      <td>4</td>\n",
       "      <td>pos</td>\n",
       "      <td>1</td>\n",
       "      <td>2019-05</td>\n",
       "      <td>5</td>\n",
       "      <td>Philippines</td>\n",
       "      <td>Its been a while since d last time we visit HK Disneyland .. Yet, this time we only stay in Tomo...</td>\n",
       "      <td>1</td>\n",
       "      <td>Disneyland_HongKong</td>\n",
       "      <td>sinc last time visit disneyland time onli stay tomorrowland marvel land iron experi newli open w...</td>\n",
       "      <td>pos</td>\n",
       "      <td>[tomorrowland, marvel, iron, newli, ironman, featur, sceneri, central, kowloon, previou, lightye...</td>\n",
       "    </tr>\n",
       "    <tr>\n",
       "      <td>2</td>\n",
       "      <td>670623270</td>\n",
       "      <td>4</td>\n",
       "      <td>pos</td>\n",
       "      <td>1</td>\n",
       "      <td>2019-04</td>\n",
       "      <td>4</td>\n",
       "      <td>United Arab Emirates</td>\n",
       "      <td>Thanks God it wasn   t too hot or too humid when I was visiting the park   otherwise it would be...</td>\n",
       "      <td>1</td>\n",
       "      <td>Disneyland_HongKong</td>\n",
       "      <td>thank humid visit park otherwis would issu shade arriv around left unfortun last even parad hour...</td>\n",
       "      <td>pos</td>\n",
       "      <td>[humid, otherwis, shade, unfortun, interest, themselv, longest, certain, underwhelm, grand, coff...</td>\n",
       "    </tr>\n",
       "  </tbody>\n",
       "</table>\n",
       "</div>"
      ],
      "text/plain": [
       "   Review_ID  Rating Sent_ML  Label Year_Month  MONTH     Reviewer_Location  \\\n",
       "0  670772142       4     pos      1    2019-04      4             Australia   \n",
       "1  670682799       4     pos      1    2019-05      5           Philippines   \n",
       "2  670623270       4     pos      1    2019-04      4  United Arab Emirates   \n",
       "\n",
       "                                                                                           Review_Text  \\\n",
       "0  If you've ever been to Disneyland anywhere you'll find Disneyland Hong Kong very similar in the ...   \n",
       "1  Its been a while since d last time we visit HK Disneyland .. Yet, this time we only stay in Tomo...   \n",
       "2  Thanks God it wasn   t too hot or too humid when I was visiting the park   otherwise it would be...   \n",
       "\n",
       "   Branch_Encoded               Branch  \\\n",
       "0               1  Disneyland_HongKong   \n",
       "1               1  Disneyland_HongKong   \n",
       "2               1  Disneyland_HongKong   \n",
       "\n",
       "                                                                                        Cleaned_doc_ML  \\\n",
       "0  ever disneyland anywher find disneyland hong kong veri similar layout walk main street veri fami...   \n",
       "1  sinc last time visit disneyland time onli stay tomorrowland marvel land iron experi newli open w...   \n",
       "2  thank humid visit park otherwis would issu shade arriv around left unfortun last even parad hour...   \n",
       "\n",
       "  Sent_Lexicon  \\\n",
       "0          neu   \n",
       "1          pos   \n",
       "2          pos   \n",
       "\n",
       "                                                                                       Cleaned_doc_LDA  \n",
       "0                                                           [similar, layout, familiar, fabul, fairli]  \n",
       "1  [tomorrowland, marvel, iron, newli, ironman, featur, sceneri, central, kowloon, previou, lightye...  \n",
       "2  [humid, otherwis, shade, unfortun, interest, themselv, longest, certain, underwhelm, grand, coff...  "
      ]
     },
     "execution_count": 178,
     "metadata": {},
     "output_type": "execute_result"
    }
   ],
   "source": [
    "df.head(3)"
   ]
  },
  {
   "cell_type": "code",
   "execution_count": 179,
   "metadata": {
    "colab": {},
    "colab_type": "code",
    "id": "tPQN-5NF6jGZ"
   },
   "outputs": [],
   "source": [
    "pd.set_option('display.max_rows', 100)"
   ]
  },
  {
   "cell_type": "markdown",
   "metadata": {},
   "source": [
    "### Figure B.1"
   ]
  },
  {
   "cell_type": "code",
   "execution_count": 192,
   "metadata": {
    "colab": {},
    "colab_type": "code",
    "id": "HNdx_JQndv-K",
    "outputId": "9ac59ad3-74c8-4ad6-d450-dfe74dadd17d"
   },
   "outputs": [
    {
     "data": {
      "image/png": "[encoded data removed]",
      "text/plain": [
       "<Figure size 432x288 with 1 Axes>"
      ]
     },
     "metadata": {
      "needs_background": "light"
     },
     "output_type": "display_data"
    }
   ],
   "source": [
    "# Major groups of visitors at each Disneyland HongKong\n",
    "# We have taken Only TOP 5 Visitors \n",
    "\n",
    "\n",
    "df_hongkong = df[df['Branch'] == 'Disneyland_HongKong']['Reviewer_Location']\\\n",
    "                .value_counts().sort_values(ascending = False).head(5)\n",
    "\n",
    "df_hongkong.plot(kind = 'bar', color = 'green')\n",
    "plt.title(\"Major Group of Visitors\\n\\n\", fontsize = 18);\n",
    "plt.suptitle('DisneyLand Hongkong\\n', fontsize = 14)\n",
    "plt.xlabel(\"\\nVisitors Countries\", fontsize = 16)\n",
    "plt.ylabel(\"Number of Visitors\", fontsize = 16);"
   ]
  },
  {
   "cell_type": "markdown",
   "metadata": {},
   "source": [
    "### Figure B.2"
   ]
  },
  {
   "cell_type": "code",
   "execution_count": 195,
   "metadata": {
    "colab": {},
    "colab_type": "code",
    "id": "BUy5Vx3f6jGd",
    "outputId": "a006a205-35e7-4f01-d436-211c2fba7ebf"
   },
   "outputs": [
    {
     "data": {
      "image/png": "[encoded data removed]",
      "text/plain": [
       "<Figure size 432x288 with 1 Axes>"
      ]
     },
     "metadata": {
      "needs_background": "light"
     },
     "output_type": "display_data"
    }
   ],
   "source": [
    "# major groups of visitors at each Disneyland California\n",
    "\n",
    "df_california = df[df['Branch'] == 'Disneyland_California']['Reviewer_Location']\\\n",
    "                .value_counts().sort_values(ascending = False).head(5)\n",
    "\n",
    "# print(\"\\nThe major groups of visitors at Disneyland California is: \", \"\\n\\n\" ,\n",
    "#          df_california)\n",
    "\n",
    "df_california.plot(kind = 'bar', color = 'orange')\n",
    "plt.title(\"Major Group of Visitors\\n\\n\", fontsize = 18);\n",
    "plt.suptitle('DisneyLand California\\n', fontsize = 14)\n",
    "plt.xlabel(\"\\nVisitors Countries\", fontsize = 16)\n",
    "plt.ylabel(\"Number of Visitors\", fontsize = 16);"
   ]
  },
  {
   "cell_type": "markdown",
   "metadata": {},
   "source": [
    "### Figure B.3"
   ]
  },
  {
   "cell_type": "code",
   "execution_count": 196,
   "metadata": {
    "colab": {},
    "colab_type": "code",
    "id": "WOuIg5u86jGf",
    "outputId": "3cf0b1ba-6ce4-405e-a91b-12295da0ce79"
   },
   "outputs": [
    {
     "data": {
      "image/png": "[encoded data removed]",
      "text/plain": [
       "<Figure size 432x288 with 1 Axes>"
      ]
     },
     "metadata": {
      "needs_background": "light"
     },
     "output_type": "display_data"
    }
   ],
   "source": [
    "# major groups of visitors at each Disneyland Paris\n",
    "\n",
    "df_paris = df[df['Branch'] == 'Disneyland_Paris']['Reviewer_Location']\\\n",
    "                .value_counts().sort_values(ascending = False).head(5)\n",
    "\n",
    "df_paris.plot(kind = 'bar', color = 'violet')\n",
    "plt.title(\"Major Group of Visitors\\n\\n\", fontsize = 18);\n",
    "plt.suptitle('DisneyLand Paris\\n', fontsize = 14)\n",
    "plt.xlabel(\"\\nVisitors Countries\", fontsize = 16)\n",
    "plt.ylabel(\"Number of Visitors\", fontsize = 16);"
   ]
  },
  {
   "cell_type": "markdown",
   "metadata": {
    "colab": {},
    "colab_type": "code",
    "id": "axQWVjf16jGh"
   },
   "source": [
    "## ANSWER ----------- > PART B"
   ]
  },
  {
   "cell_type": "markdown",
   "metadata": {},
   "source": [
    "The Major Group of Visitors for DisneyLand HongKong are:-\n",
    "\n",
    "1. Australia\n",
    "2. India\n",
    "3. Philippines\n",
    "4. United States\n",
    "5. Singapore"
   ]
  },
  {
   "cell_type": "markdown",
   "metadata": {},
   "source": [
    "The Major Group of Visitors for DisneyLand California are:-\n",
    "\n",
    "1. United States \n",
    "2. Australia\n",
    "3. Canada\n",
    "4. United Kingdom\n",
    "5. New Zealand"
   ]
  },
  {
   "cell_type": "markdown",
   "metadata": {},
   "source": [
    "The Major Group of Visitors for DisneyLand Paris are:-\n",
    "\n",
    "1. United Kingdom \n",
    "2. United States\n",
    "3. Australia\n",
    "4. Ireland\n",
    "5. India\n"
   ]
  },
  {
   "cell_type": "markdown",
   "metadata": {
    "colab_type": "text",
    "id": "XTCG4b526jGm"
   },
   "source": [
    "# PART C\n",
    "\n",
    "### Which theme park received highest ratings?"
   ]
  },
  {
   "cell_type": "code",
   "execution_count": 91,
   "metadata": {
    "colab": {},
    "colab_type": "code",
    "id": "gnIcEk9i6jGm",
    "outputId": "a8062fef-f26c-4d1b-d3f7-da5343c89bfd"
   },
   "outputs": [
    {
     "data": {
      "text/html": [
       "<div>\n",
       "<style scoped>\n",
       "    .dataframe tbody tr th:only-of-type {\n",
       "        vertical-align: middle;\n",
       "    }\n",
       "\n",
       "    .dataframe tbody tr th {\n",
       "        vertical-align: top;\n",
       "    }\n",
       "\n",
       "    .dataframe thead th {\n",
       "        text-align: right;\n",
       "    }\n",
       "</style>\n",
       "<table border=\"1\" class=\"dataframe\">\n",
       "  <thead>\n",
       "    <tr style=\"text-align: right;\">\n",
       "      <th></th>\n",
       "      <th>Review_ID</th>\n",
       "      <th>Rating</th>\n",
       "      <th>Year_Month</th>\n",
       "      <th>MONTH</th>\n",
       "      <th>Reviewer_Location</th>\n",
       "      <th>Review_Text</th>\n",
       "      <th>Branch</th>\n",
       "    </tr>\n",
       "  </thead>\n",
       "  <tbody>\n",
       "    <tr>\n",
       "      <td>0</td>\n",
       "      <td>670772142</td>\n",
       "      <td>4</td>\n",
       "      <td>2019-04</td>\n",
       "      <td>4</td>\n",
       "      <td>Australia</td>\n",
       "      <td>If you've ever been to Disneyland anywhere you...</td>\n",
       "      <td>Disneyland_HongKong</td>\n",
       "    </tr>\n",
       "    <tr>\n",
       "      <td>1</td>\n",
       "      <td>670682799</td>\n",
       "      <td>4</td>\n",
       "      <td>2019-05</td>\n",
       "      <td>5</td>\n",
       "      <td>Philippines</td>\n",
       "      <td>Its been a while since d last time we visit HK...</td>\n",
       "      <td>Disneyland_HongKong</td>\n",
       "    </tr>\n",
       "    <tr>\n",
       "      <td>2</td>\n",
       "      <td>670623270</td>\n",
       "      <td>4</td>\n",
       "      <td>2019-04</td>\n",
       "      <td>4</td>\n",
       "      <td>United Arab Emirates</td>\n",
       "      <td>Thanks God it wasn   t too hot or too humid wh...</td>\n",
       "      <td>Disneyland_HongKong</td>\n",
       "    </tr>\n",
       "    <tr>\n",
       "      <td>3</td>\n",
       "      <td>670607911</td>\n",
       "      <td>4</td>\n",
       "      <td>2019-04</td>\n",
       "      <td>4</td>\n",
       "      <td>Australia</td>\n",
       "      <td>HK Disneyland is a great compact park. Unfortu...</td>\n",
       "      <td>Disneyland_HongKong</td>\n",
       "    </tr>\n",
       "    <tr>\n",
       "      <td>4</td>\n",
       "      <td>670607296</td>\n",
       "      <td>4</td>\n",
       "      <td>2019-04</td>\n",
       "      <td>4</td>\n",
       "      <td>United Kingdom</td>\n",
       "      <td>the location is not in the city, took around 1...</td>\n",
       "      <td>Disneyland_HongKong</td>\n",
       "    </tr>\n",
       "  </tbody>\n",
       "</table>\n",
       "</div>"
      ],
      "text/plain": [
       "   Review_ID  Rating Year_Month  MONTH     Reviewer_Location  \\\n",
       "0  670772142       4    2019-04      4             Australia   \n",
       "1  670682799       4    2019-05      5           Philippines   \n",
       "2  670623270       4    2019-04      4  United Arab Emirates   \n",
       "3  670607911       4    2019-04      4             Australia   \n",
       "4  670607296       4    2019-04      4        United Kingdom   \n",
       "\n",
       "                                         Review_Text               Branch  \n",
       "0  If you've ever been to Disneyland anywhere you...  Disneyland_HongKong  \n",
       "1  Its been a while since d last time we visit HK...  Disneyland_HongKong  \n",
       "2  Thanks God it wasn   t too hot or too humid wh...  Disneyland_HongKong  \n",
       "3  HK Disneyland is a great compact park. Unfortu...  Disneyland_HongKong  \n",
       "4  the location is not in the city, took around 1...  Disneyland_HongKong  "
      ]
     },
     "execution_count": 91,
     "metadata": {},
     "output_type": "execute_result"
    }
   ],
   "source": [
    "df.head()"
   ]
  },
  {
   "cell_type": "code",
   "execution_count": 92,
   "metadata": {
    "colab": {},
    "colab_type": "code",
    "id": "oRs_q7oG6jGo",
    "outputId": "b2ae0823-ce17-4768-89c9-ee37dfae688c",
    "scrolled": true
   },
   "outputs": [
    {
     "data": {
      "text/plain": [
       "Disneyland_California    11802\n",
       "Disneyland_Paris          5768\n",
       "Disneyland_HongKong       4338\n",
       "Name: Branch, dtype: int64"
      ]
     },
     "execution_count": 92,
     "metadata": {},
     "output_type": "execute_result"
    }
   ],
   "source": [
    "df[df['Rating'] == df['Rating'].max()]['Branch'].value_counts()"
   ]
  },
  {
   "cell_type": "markdown",
   "metadata": {},
   "source": [
    "### Table C.1"
   ]
  },
  {
   "cell_type": "markdown",
   "metadata": {},
   "source": [
    "### It is assumed that the client needs the highest Average Rating "
   ]
  },
  {
   "cell_type": "code",
   "execution_count": 93,
   "metadata": {
    "colab": {},
    "colab_type": "code",
    "id": "JF9NvmbP6jGr",
    "outputId": "b0d95e2f-7f56-4d52-b35d-d018b3b62599",
    "scrolled": true
   },
   "outputs": [
    {
     "data": {
      "text/html": [
       "<style  type=\"text/css\" >\n",
       "    #T_2b15f5dc_db98_11ea_9567_38f9d352eea3row0_col0 {\n",
       "            background-color:  lightgreen;\n",
       "        }</style><table id=\"T_2b15f5dc_db98_11ea_9567_38f9d352eea3\" ><thead>    <tr>        <th class=\"blank level0\" ></th>        <th class=\"col_heading level0 col0\" >Rating</th>    </tr>    <tr>        <th class=\"index_name level0\" >Branch</th>        <th class=\"blank\" ></th>    </tr></thead><tbody>\n",
       "                <tr>\n",
       "                        <th id=\"T_2b15f5dc_db98_11ea_9567_38f9d352eea3level0_row0\" class=\"row_heading level0 row0\" >Disneyland_California</th>\n",
       "                        <td id=\"T_2b15f5dc_db98_11ea_9567_38f9d352eea3row0_col0\" class=\"data row0 col0\" >4.41</td>\n",
       "            </tr>\n",
       "            <tr>\n",
       "                        <th id=\"T_2b15f5dc_db98_11ea_9567_38f9d352eea3level0_row1\" class=\"row_heading level0 row1\" >Disneyland_HongKong</th>\n",
       "                        <td id=\"T_2b15f5dc_db98_11ea_9567_38f9d352eea3row1_col0\" class=\"data row1 col0\" >4.22</td>\n",
       "            </tr>\n",
       "            <tr>\n",
       "                        <th id=\"T_2b15f5dc_db98_11ea_9567_38f9d352eea3level0_row2\" class=\"row_heading level0 row2\" >Disneyland_Paris</th>\n",
       "                        <td id=\"T_2b15f5dc_db98_11ea_9567_38f9d352eea3row2_col0\" class=\"data row2 col0\" >3.98</td>\n",
       "            </tr>\n",
       "    </tbody></table>"
      ],
      "text/plain": [
       "<pandas.io.formats.style.Styler at 0x1a3234f550>"
      ]
     },
     "execution_count": 93,
     "metadata": {},
     "output_type": "execute_result"
    }
   ],
   "source": [
    "# As we can see that all of the theme Parks has recieved a Rating of 5\n",
    "\n",
    "df_Rating = df.groupby('Branch').agg({'Rating': 'mean'}).round(2)\n",
    "df_Rating.style.highlight_max(color = 'lightgreen')"
   ]
  },
  {
   "cell_type": "markdown",
   "metadata": {},
   "source": [
    "## ANSWER ----------- > PART C"
   ]
  },
  {
   "cell_type": "markdown",
   "metadata": {
    "colab": {},
    "colab_type": "code",
    "id": "yxTrih7T6jGt"
   },
   "source": [
    "So, it can be concluded from the above Table that \"DISNEYLAND CALIFORNIA\" has recieved the Highest Average Rating of **4.41**"
   ]
  },
  {
   "cell_type": "markdown",
   "metadata": {
    "colab_type": "text",
    "id": "k6UGu7Mbdv-S"
   },
   "source": [
    "<a id = \"cell_sentiment\"></a>\n",
    "### 3. Sentiment Analysis"
   ]
  },
  {
   "cell_type": "markdown",
   "metadata": {
    "colab_type": "text",
    "id": "ZiVCfcrW6jGv"
   },
   "source": [
    "# Part D\n",
    "\n",
    "### How to automatically summarize visitors’ sentiments from reviews?"
   ]
  },
  {
   "cell_type": "code",
   "execution_count": 95,
   "metadata": {
    "colab": {},
    "colab_type": "code",
    "id": "z9dBFEwkdv-T",
    "outputId": "229d4240-2cdb-435f-adcc-176c172757b0"
   },
   "outputs": [
    {
     "data": {
      "text/html": [
       "<div>\n",
       "<style scoped>\n",
       "    .dataframe tbody tr th:only-of-type {\n",
       "        vertical-align: middle;\n",
       "    }\n",
       "\n",
       "    .dataframe tbody tr th {\n",
       "        vertical-align: top;\n",
       "    }\n",
       "\n",
       "    .dataframe thead th {\n",
       "        text-align: right;\n",
       "    }\n",
       "</style>\n",
       "<table border=\"1\" class=\"dataframe\">\n",
       "  <thead>\n",
       "    <tr style=\"text-align: right;\">\n",
       "      <th></th>\n",
       "      <th>Review_ID</th>\n",
       "      <th>Rating</th>\n",
       "      <th>Year_Month</th>\n",
       "      <th>MONTH</th>\n",
       "      <th>Reviewer_Location</th>\n",
       "      <th>Review_Text</th>\n",
       "      <th>Branch</th>\n",
       "    </tr>\n",
       "  </thead>\n",
       "  <tbody>\n",
       "    <tr>\n",
       "      <td>0</td>\n",
       "      <td>670772142</td>\n",
       "      <td>4</td>\n",
       "      <td>2019-04</td>\n",
       "      <td>4</td>\n",
       "      <td>Australia</td>\n",
       "      <td>If you've ever been to Disneyland anywhere you...</td>\n",
       "      <td>Disneyland_HongKong</td>\n",
       "    </tr>\n",
       "    <tr>\n",
       "      <td>1</td>\n",
       "      <td>670682799</td>\n",
       "      <td>4</td>\n",
       "      <td>2019-05</td>\n",
       "      <td>5</td>\n",
       "      <td>Philippines</td>\n",
       "      <td>Its been a while since d last time we visit HK...</td>\n",
       "      <td>Disneyland_HongKong</td>\n",
       "    </tr>\n",
       "    <tr>\n",
       "      <td>2</td>\n",
       "      <td>670623270</td>\n",
       "      <td>4</td>\n",
       "      <td>2019-04</td>\n",
       "      <td>4</td>\n",
       "      <td>United Arab Emirates</td>\n",
       "      <td>Thanks God it wasn   t too hot or too humid wh...</td>\n",
       "      <td>Disneyland_HongKong</td>\n",
       "    </tr>\n",
       "    <tr>\n",
       "      <td>3</td>\n",
       "      <td>670607911</td>\n",
       "      <td>4</td>\n",
       "      <td>2019-04</td>\n",
       "      <td>4</td>\n",
       "      <td>Australia</td>\n",
       "      <td>HK Disneyland is a great compact park. Unfortu...</td>\n",
       "      <td>Disneyland_HongKong</td>\n",
       "    </tr>\n",
       "    <tr>\n",
       "      <td>4</td>\n",
       "      <td>670607296</td>\n",
       "      <td>4</td>\n",
       "      <td>2019-04</td>\n",
       "      <td>4</td>\n",
       "      <td>United Kingdom</td>\n",
       "      <td>the location is not in the city, took around 1...</td>\n",
       "      <td>Disneyland_HongKong</td>\n",
       "    </tr>\n",
       "  </tbody>\n",
       "</table>\n",
       "</div>"
      ],
      "text/plain": [
       "   Review_ID  Rating Year_Month  MONTH     Reviewer_Location  \\\n",
       "0  670772142       4    2019-04      4             Australia   \n",
       "1  670682799       4    2019-05      5           Philippines   \n",
       "2  670623270       4    2019-04      4  United Arab Emirates   \n",
       "3  670607911       4    2019-04      4             Australia   \n",
       "4  670607296       4    2019-04      4        United Kingdom   \n",
       "\n",
       "                                         Review_Text               Branch  \n",
       "0  If you've ever been to Disneyland anywhere you...  Disneyland_HongKong  \n",
       "1  Its been a while since d last time we visit HK...  Disneyland_HongKong  \n",
       "2  Thanks God it wasn   t too hot or too humid wh...  Disneyland_HongKong  \n",
       "3  HK Disneyland is a great compact park. Unfortu...  Disneyland_HongKong  \n",
       "4  the location is not in the city, took around 1...  Disneyland_HongKong  "
      ]
     },
     "execution_count": 95,
     "metadata": {},
     "output_type": "execute_result"
    }
   ],
   "source": [
    "df.head()"
   ]
  },
  {
   "cell_type": "markdown",
   "metadata": {
    "colab_type": "text",
    "id": "JpWYvCXx6jGx"
   },
   "source": [
    "## Machine Learning"
   ]
  },
  {
   "cell_type": "code",
   "execution_count": 96,
   "metadata": {
    "colab": {},
    "colab_type": "code",
    "id": "VoHJ7HPC6jGy"
   },
   "outputs": [],
   "source": [
    "# Adding the Label Column \n",
    "# Label = 0 ---> Ratings less than 3      -----> 'Negative'\n",
    "# Label = 1 ---> Ratings greater than 3   -----> 'Positive'\n",
    "# Label = 2 ---> Ratings equal to 3       -----> 'Neutral'\n",
    "df.insert(loc=2, column='Label',   value= [1 if x > 3 else 2 if x == 3 else 0 for x in df['Rating']])"
   ]
  },
  {
   "cell_type": "code",
   "execution_count": 97,
   "metadata": {
    "colab": {},
    "colab_type": "code",
    "id": "rkNVk5-M6jG0",
    "outputId": "43ddaa0b-3a2a-44de-d27c-0e18c0a2f7f0"
   },
   "outputs": [
    {
     "data": {
      "text/html": [
       "<div>\n",
       "<style scoped>\n",
       "    .dataframe tbody tr th:only-of-type {\n",
       "        vertical-align: middle;\n",
       "    }\n",
       "\n",
       "    .dataframe tbody tr th {\n",
       "        vertical-align: top;\n",
       "    }\n",
       "\n",
       "    .dataframe thead th {\n",
       "        text-align: right;\n",
       "    }\n",
       "</style>\n",
       "<table border=\"1\" class=\"dataframe\">\n",
       "  <thead>\n",
       "    <tr style=\"text-align: right;\">\n",
       "      <th></th>\n",
       "      <th>Review_ID</th>\n",
       "      <th>Rating</th>\n",
       "      <th>Label</th>\n",
       "      <th>Year_Month</th>\n",
       "      <th>MONTH</th>\n",
       "      <th>Reviewer_Location</th>\n",
       "      <th>Review_Text</th>\n",
       "      <th>Branch</th>\n",
       "    </tr>\n",
       "  </thead>\n",
       "  <tbody>\n",
       "    <tr>\n",
       "      <td>0</td>\n",
       "      <td>670772142</td>\n",
       "      <td>4</td>\n",
       "      <td>1</td>\n",
       "      <td>2019-04</td>\n",
       "      <td>4</td>\n",
       "      <td>Australia</td>\n",
       "      <td>If you've ever been to Disneyland anywhere you...</td>\n",
       "      <td>Disneyland_HongKong</td>\n",
       "    </tr>\n",
       "    <tr>\n",
       "      <td>1</td>\n",
       "      <td>670682799</td>\n",
       "      <td>4</td>\n",
       "      <td>1</td>\n",
       "      <td>2019-05</td>\n",
       "      <td>5</td>\n",
       "      <td>Philippines</td>\n",
       "      <td>Its been a while since d last time we visit HK...</td>\n",
       "      <td>Disneyland_HongKong</td>\n",
       "    </tr>\n",
       "    <tr>\n",
       "      <td>2</td>\n",
       "      <td>670623270</td>\n",
       "      <td>4</td>\n",
       "      <td>1</td>\n",
       "      <td>2019-04</td>\n",
       "      <td>4</td>\n",
       "      <td>United Arab Emirates</td>\n",
       "      <td>Thanks God it wasn   t too hot or too humid wh...</td>\n",
       "      <td>Disneyland_HongKong</td>\n",
       "    </tr>\n",
       "    <tr>\n",
       "      <td>3</td>\n",
       "      <td>670607911</td>\n",
       "      <td>4</td>\n",
       "      <td>1</td>\n",
       "      <td>2019-04</td>\n",
       "      <td>4</td>\n",
       "      <td>Australia</td>\n",
       "      <td>HK Disneyland is a great compact park. Unfortu...</td>\n",
       "      <td>Disneyland_HongKong</td>\n",
       "    </tr>\n",
       "    <tr>\n",
       "      <td>4</td>\n",
       "      <td>670607296</td>\n",
       "      <td>4</td>\n",
       "      <td>1</td>\n",
       "      <td>2019-04</td>\n",
       "      <td>4</td>\n",
       "      <td>United Kingdom</td>\n",
       "      <td>the location is not in the city, took around 1...</td>\n",
       "      <td>Disneyland_HongKong</td>\n",
       "    </tr>\n",
       "  </tbody>\n",
       "</table>\n",
       "</div>"
      ],
      "text/plain": [
       "   Review_ID  Rating  Label Year_Month  MONTH     Reviewer_Location  \\\n",
       "0  670772142       4      1    2019-04      4             Australia   \n",
       "1  670682799       4      1    2019-05      5           Philippines   \n",
       "2  670623270       4      1    2019-04      4  United Arab Emirates   \n",
       "3  670607911       4      1    2019-04      4             Australia   \n",
       "4  670607296       4      1    2019-04      4        United Kingdom   \n",
       "\n",
       "                                         Review_Text               Branch  \n",
       "0  If you've ever been to Disneyland anywhere you...  Disneyland_HongKong  \n",
       "1  Its been a while since d last time we visit HK...  Disneyland_HongKong  \n",
       "2  Thanks God it wasn   t too hot or too humid wh...  Disneyland_HongKong  \n",
       "3  HK Disneyland is a great compact park. Unfortu...  Disneyland_HongKong  \n",
       "4  the location is not in the city, took around 1...  Disneyland_HongKong  "
      ]
     },
     "execution_count": 97,
     "metadata": {},
     "output_type": "execute_result"
    }
   ],
   "source": [
    "df.head()"
   ]
  },
  {
   "cell_type": "markdown",
   "metadata": {},
   "source": [
    "## Data Cleansing"
   ]
  },
  {
   "cell_type": "markdown",
   "metadata": {},
   "source": [
    "### Preprocessing the Reviews"
   ]
  },
  {
   "cell_type": "code",
   "execution_count": 98,
   "metadata": {
    "colab": {},
    "colab_type": "code",
    "id": "OzWzjLvs6jG1",
    "outputId": "ac4a4462-41e4-4ddd-e26b-e0252c6aa909"
   },
   "outputs": [],
   "source": [
    "# Cleaning the Review Text \n",
    "\n",
    "def preprocess(ReviewText):\n",
    "    ReviewText = ReviewText.str.replace(\"(<br/>)\", \"\")\n",
    "    ReviewText = ReviewText.str.replace('(<a).*(>).*(</a>)', '')\n",
    "    ReviewText = ReviewText.str.replace('(&amp)', '')\n",
    "    ReviewText = ReviewText.str.replace('(&gt)', '')\n",
    "    ReviewText = ReviewText.str.replace('(&lt)', '')\n",
    "    ReviewText = ReviewText.str.replace('(\\xa0)', ' ')  \n",
    "    return ReviewText\n",
    "\n",
    "df['Review_Text'] = preprocess(df['Review_Text']) #Clean text"
   ]
  },
  {
   "cell_type": "markdown",
   "metadata": {},
   "source": [
    "## Tokenizating and Stemming"
   ]
  },
  {
   "cell_type": "code",
   "execution_count": 101,
   "metadata": {},
   "outputs": [
    {
     "data": {
      "text/plain": [
       "'ever been disneyland anywher find disneyland hong kong veri similar layout when walk into main street veri familiar feel ride small world absolut fabul worth visit fairli busi queue move fairli well'"
      ]
     },
     "execution_count": 101,
     "metadata": {},
     "output_type": "execute_result"
    }
   ],
   "source": [
    "from nltk.stem import PorterStemmer #Stemming Package  \n",
    "import re  #Regular expression operation package\n",
    "\n",
    "porter = PorterStemmer()\n",
    "\n",
    "documents = df['Review_Text']\n",
    "Cleaned_doc = []\n",
    "for r in range(len(documents)):\n",
    "    review = documents[r]\n",
    "    try:\n",
    "        # removing everything except alphabets\n",
    "        review = re.sub('[^A-Za-z]', ' ', review) \n",
    "        # make all text lowercase\n",
    "        review = review.lower()\n",
    "        # apply tokenization\n",
    "        Tokens = review.split()\n",
    "        # apply stemming operation (Optional)\n",
    "        for t in range(len(Tokens)):\n",
    "            Tokens[t] = porter.stem(Tokens[t])\n",
    "        # removing short words\n",
    "        Filtered_token = [w for w in Tokens if len(w)>3] \n",
    "        review = ' '.join(Filtered_token)        \n",
    "    except:\n",
    "        continue\n",
    "    #Save cleaned text\n",
    "    Cleaned_doc.append(review)\n",
    "\n",
    "Cleaned_doc[0]"
   ]
  },
  {
   "cell_type": "markdown",
   "metadata": {},
   "source": [
    "## Removing the Stopwords"
   ]
  },
  {
   "cell_type": "code",
   "execution_count": 102,
   "metadata": {},
   "outputs": [
    {
     "data": {
      "text/plain": [
       "'ever disneyland anywher find disneyland hong kong veri similar layout walk main street veri familiar feel ride small world absolut fabul worth visit fairli busi queue move fairli well'"
      ]
     },
     "execution_count": 102,
     "metadata": {},
     "output_type": "execute_result"
    }
   ],
   "source": [
    "from nltk.corpus import stopwords\n",
    "stop_words = stopwords.words('english')\n",
    "\n",
    "# Remove Stop Words\n",
    "for r in range(len(Cleaned_doc)):\n",
    "    each_item = []\n",
    "    for t in Cleaned_doc[r].split():\n",
    "        if t not in stop_words:\n",
    "             each_item.append(t)\n",
    "    Cleaned_doc[r] = ' '.join(each_item)\n",
    "\n",
    "Cleaned_doc[0]"
   ]
  },
  {
   "cell_type": "code",
   "execution_count": 103,
   "metadata": {},
   "outputs": [
    {
     "data": {
      "text/html": [
       "<div>\n",
       "<style scoped>\n",
       "    .dataframe tbody tr th:only-of-type {\n",
       "        vertical-align: middle;\n",
       "    }\n",
       "\n",
       "    .dataframe tbody tr th {\n",
       "        vertical-align: top;\n",
       "    }\n",
       "\n",
       "    .dataframe thead th {\n",
       "        text-align: right;\n",
       "    }\n",
       "</style>\n",
       "<table border=\"1\" class=\"dataframe\">\n",
       "  <thead>\n",
       "    <tr style=\"text-align: right;\">\n",
       "      <th></th>\n",
       "      <th>Review_ID</th>\n",
       "      <th>Rating</th>\n",
       "      <th>Label</th>\n",
       "      <th>Year_Month</th>\n",
       "      <th>MONTH</th>\n",
       "      <th>Reviewer_Location</th>\n",
       "      <th>Review_Text</th>\n",
       "      <th>Branch</th>\n",
       "      <th>Cleaned_doc_ML</th>\n",
       "    </tr>\n",
       "  </thead>\n",
       "  <tbody>\n",
       "    <tr>\n",
       "      <td>0</td>\n",
       "      <td>670772142</td>\n",
       "      <td>4</td>\n",
       "      <td>1</td>\n",
       "      <td>2019-04</td>\n",
       "      <td>4</td>\n",
       "      <td>Australia</td>\n",
       "      <td>If you've ever been to Disneyland anywhere you...</td>\n",
       "      <td>Disneyland_HongKong</td>\n",
       "      <td>ever disneyland anywher find disneyland hong k...</td>\n",
       "    </tr>\n",
       "    <tr>\n",
       "      <td>1</td>\n",
       "      <td>670682799</td>\n",
       "      <td>4</td>\n",
       "      <td>1</td>\n",
       "      <td>2019-05</td>\n",
       "      <td>5</td>\n",
       "      <td>Philippines</td>\n",
       "      <td>Its been a while since d last time we visit HK...</td>\n",
       "      <td>Disneyland_HongKong</td>\n",
       "      <td>sinc last time visit disneyland time onli stay...</td>\n",
       "    </tr>\n",
       "    <tr>\n",
       "      <td>2</td>\n",
       "      <td>670623270</td>\n",
       "      <td>4</td>\n",
       "      <td>1</td>\n",
       "      <td>2019-04</td>\n",
       "      <td>4</td>\n",
       "      <td>United Arab Emirates</td>\n",
       "      <td>Thanks God it wasn   t too hot or too humid wh...</td>\n",
       "      <td>Disneyland_HongKong</td>\n",
       "      <td>thank humid visit park otherwis would issu sha...</td>\n",
       "    </tr>\n",
       "  </tbody>\n",
       "</table>\n",
       "</div>"
      ],
      "text/plain": [
       "   Review_ID  Rating  Label Year_Month  MONTH     Reviewer_Location  \\\n",
       "0  670772142       4      1    2019-04      4             Australia   \n",
       "1  670682799       4      1    2019-05      5           Philippines   \n",
       "2  670623270       4      1    2019-04      4  United Arab Emirates   \n",
       "\n",
       "                                         Review_Text               Branch  \\\n",
       "0  If you've ever been to Disneyland anywhere you...  Disneyland_HongKong   \n",
       "1  Its been a while since d last time we visit HK...  Disneyland_HongKong   \n",
       "2  Thanks God it wasn   t too hot or too humid wh...  Disneyland_HongKong   \n",
       "\n",
       "                                      Cleaned_doc_ML  \n",
       "0  ever disneyland anywher find disneyland hong k...  \n",
       "1  sinc last time visit disneyland time onli stay...  \n",
       "2  thank humid visit park otherwis would issu sha...  "
      ]
     },
     "execution_count": 103,
     "metadata": {},
     "output_type": "execute_result"
    }
   ],
   "source": [
    "# Creating a separate Cleaned review Column for Machine Learning Approach\n",
    "df['Cleaned_doc_ML'] = Cleaned_doc\n",
    "df.head(3)"
   ]
  },
  {
   "cell_type": "markdown",
   "metadata": {},
   "source": [
    "## Creating Bag of Words Features"
   ]
  },
  {
   "cell_type": "code",
   "execution_count": 104,
   "metadata": {
    "colab": {},
    "colab_type": "code",
    "id": "5wW517mT6jG6",
    "outputId": "476af237-0043-470e-d619-98ba7e97e8c6",
    "scrolled": true
   },
   "outputs": [
    {
     "name": "stdout",
     "output_type": "stream",
     "text": [
      "Bag of Word Matrix size:  (40043, 2109249)\n",
      "Data in the first row:\n",
      "   (0, 464889)\t1\n",
      "  (0, 1047079)\t1\n",
      "  (0, 1759050)\t1\n",
      "  (0, 659991)\t2\n",
      "  (0, 1978170)\t1\n",
      "  (0, 1048857)\t1\n",
      "  (0, 1651187)\t1\n",
      "  (0, 1850955)\t2\n",
      "  (0, 1200243)\t1\n",
      "  (0, 1741966)\t1\n",
      "  (0, 1887016)\t1\n",
      "  (0, 1075243)\t1\n",
      "  (0, 935967)\t1\n",
      "  (0, 900631)\t1\n",
      "  (0, 609229)\t1\n",
      "  (0, 1166979)\t1\n",
      "  (0, 1211530)\t1\n",
      "  (0, 2022811)\t1\n",
      "  (0, 901094)\t1\n",
      "  (0, 764319)\t2\n",
      "  (0, 658575)\t1\n",
      "  (0, 592129)\t1\n",
      "  (0, 560775)\t1\n",
      "  (0, 1596092)\t1\n",
      "  (0, 250310)\t1\n",
      "  :\t:\n",
      "  (0, 2013186)\t1\n",
      "  (0, 549636)\t1\n",
      "  (0, 101849)\t1\n",
      "  (0, 951690)\t1\n",
      "  (0, 814833)\t1\n",
      "  (0, 1785247)\t1\n",
      "  (0, 801481)\t1\n",
      "  (0, 1360175)\t1\n",
      "  (0, 520781)\t1\n",
      "  (0, 189246)\t1\n",
      "  (0, 1476503)\t1\n",
      "  (0, 493374)\t1\n",
      "  (0, 660175)\t1\n",
      "  (0, 124778)\t1\n",
      "  (0, 1048894)\t1\n",
      "  (0, 1759197)\t1\n",
      "  (0, 99866)\t1\n",
      "  (0, 412209)\t1\n",
      "  (0, 461555)\t1\n",
      "  (0, 1818920)\t1\n",
      "  (0, 1795090)\t1\n",
      "  (0, 753235)\t1\n",
      "  (0, 1384545)\t1\n",
      "  (0, 1733980)\t1\n",
      "  (0, 893376)\t1\n"
     ]
    }
   ],
   "source": [
    "from sklearn.feature_extraction.text import CountVectorizer\n",
    "from nltk.tokenize import RegexpTokenizer\n",
    "\n",
    "#tokenizer to remove unwanted elements from out data like symbols and numbers\n",
    "token = RegexpTokenizer(r'[a-zA-Z0-9]+')\n",
    "cv = CountVectorizer(lowercase=True,stop_words='english',ngram_range = (1,3),tokenizer = token.tokenize)\n",
    "\n",
    "text_counts = cv.fit_transform(df['Cleaned_doc_ML'])\n",
    "print('Bag of Word Matrix size: ', text_counts.shape)\n",
    "print('Data in the first row:\\n', text_counts[1,:])"
   ]
  },
  {
   "cell_type": "markdown",
   "metadata": {},
   "source": [
    "## Splitting the dataset into Testing and Training "
   ]
  },
  {
   "cell_type": "code",
   "execution_count": 105,
   "metadata": {
    "colab": {},
    "colab_type": "code",
    "id": "Eq-TrNkY6jG-"
   },
   "outputs": [],
   "source": [
    "from sklearn.model_selection import train_test_split\n",
    "\n",
    "X_train, X_test, y_train, y_test = train_test_split(\n",
    "    text_counts, df['Label'], test_size=0.3, random_state=1)"
   ]
  },
  {
   "cell_type": "markdown",
   "metadata": {},
   "source": [
    "## Naive Bayes Model"
   ]
  },
  {
   "cell_type": "code",
   "execution_count": 106,
   "metadata": {
    "colab": {},
    "colab_type": "code",
    "id": "2g4oe2as6jHA",
    "outputId": "6d881504-f9d2-442f-d312-1309d462015e"
   },
   "outputs": [
    {
     "name": "stdout",
     "output_type": "stream",
     "text": [
      "MultinomialNB Accuracy: 0.802\n",
      "Confusion Matrix:\n",
      " [[  63  879   23]\n",
      " [   4 9541   15]\n",
      " [  16 1446   26]]\n"
     ]
    }
   ],
   "source": [
    "from sklearn.naive_bayes import MultinomialNB\n",
    "from sklearn import metrics\n",
    "\n",
    "# Model Generation Using Multinomial Naive Bayes\n",
    "clf = MultinomialNB().fit(X_train, y_train)\n",
    "predicted= clf.predict(X_test)\n",
    "\n",
    "print(\"MultinomialNB Accuracy:\", round(metrics.accuracy_score(y_test, predicted),3))\n",
    "print(\"Confusion Matrix:\\n\",metrics.confusion_matrix(y_test, predicted))"
   ]
  },
  {
   "cell_type": "code",
   "execution_count": 391,
   "metadata": {},
   "outputs": [
    {
     "name": "stdout",
     "output_type": "stream",
     "text": [
      "              precision    recall  f1-score   support\n",
      "\n",
      "           0       0.76      0.07      0.12       965\n",
      "           1       0.80      1.00      0.89      9560\n",
      "           2       0.41      0.02      0.03      1488\n",
      "\n",
      "    accuracy                           0.80     12013\n",
      "   macro avg       0.66      0.36      0.35     12013\n",
      "weighted avg       0.75      0.80      0.72     12013\n",
      "\n"
     ]
    }
   ],
   "source": [
    "from sklearn.metrics import classification_report, confusion_matrix, accuracy_score\n",
    "\n",
    "print(classification_report(y_test,predicted))"
   ]
  },
  {
   "cell_type": "markdown",
   "metadata": {},
   "source": [
    "## Visualisations"
   ]
  },
  {
   "cell_type": "code",
   "execution_count": 108,
   "metadata": {},
   "outputs": [
    {
     "data": {
      "text/html": [
       "<div>\n",
       "<style scoped>\n",
       "    .dataframe tbody tr th:only-of-type {\n",
       "        vertical-align: middle;\n",
       "    }\n",
       "\n",
       "    .dataframe tbody tr th {\n",
       "        vertical-align: top;\n",
       "    }\n",
       "\n",
       "    .dataframe thead th {\n",
       "        text-align: right;\n",
       "    }\n",
       "</style>\n",
       "<table border=\"1\" class=\"dataframe\">\n",
       "  <thead>\n",
       "    <tr style=\"text-align: right;\">\n",
       "      <th></th>\n",
       "      <th>Review_ID</th>\n",
       "      <th>Rating</th>\n",
       "      <th>Label</th>\n",
       "      <th>Year_Month</th>\n",
       "      <th>MONTH</th>\n",
       "      <th>Reviewer_Location</th>\n",
       "      <th>Review_Text</th>\n",
       "      <th>Branch</th>\n",
       "      <th>Cleaned_doc_ML</th>\n",
       "    </tr>\n",
       "  </thead>\n",
       "  <tbody>\n",
       "    <tr>\n",
       "      <td>0</td>\n",
       "      <td>670772142</td>\n",
       "      <td>4</td>\n",
       "      <td>1</td>\n",
       "      <td>2019-04</td>\n",
       "      <td>4</td>\n",
       "      <td>Australia</td>\n",
       "      <td>If you've ever been to Disneyland anywhere you...</td>\n",
       "      <td>Disneyland_HongKong</td>\n",
       "      <td>ever disneyland anywher find disneyland hong k...</td>\n",
       "    </tr>\n",
       "    <tr>\n",
       "      <td>1</td>\n",
       "      <td>670682799</td>\n",
       "      <td>4</td>\n",
       "      <td>1</td>\n",
       "      <td>2019-05</td>\n",
       "      <td>5</td>\n",
       "      <td>Philippines</td>\n",
       "      <td>Its been a while since d last time we visit HK...</td>\n",
       "      <td>Disneyland_HongKong</td>\n",
       "      <td>sinc last time visit disneyland time onli stay...</td>\n",
       "    </tr>\n",
       "  </tbody>\n",
       "</table>\n",
       "</div>"
      ],
      "text/plain": [
       "   Review_ID  Rating  Label Year_Month  MONTH Reviewer_Location  \\\n",
       "0  670772142       4      1    2019-04      4         Australia   \n",
       "1  670682799       4      1    2019-05      5       Philippines   \n",
       "\n",
       "                                         Review_Text               Branch  \\\n",
       "0  If you've ever been to Disneyland anywhere you...  Disneyland_HongKong   \n",
       "1  Its been a while since d last time we visit HK...  Disneyland_HongKong   \n",
       "\n",
       "                                      Cleaned_doc_ML  \n",
       "0  ever disneyland anywher find disneyland hong k...  \n",
       "1  sinc last time visit disneyland time onli stay...  "
      ]
     },
     "execution_count": 108,
     "metadata": {},
     "output_type": "execute_result"
    }
   ],
   "source": [
    "df.head(2)"
   ]
  },
  {
   "cell_type": "code",
   "execution_count": 109,
   "metadata": {},
   "outputs": [],
   "source": [
    "# Adding the Sent_M Column --- > \n",
    "# Sen_M = 'neg' ---> Ratings less than 3\n",
    "# Sen_M = 'pos' ---> Ratings greater than 3\n",
    "# Sen_M = 'neu' ---> Ratings equal to 3\n",
    "df.insert(loc=2, column='Sent_ML',   value= ['pos' if x > 3 else 'neu' if x == 3 else 'neg' for x in df['Rating']])"
   ]
  },
  {
   "cell_type": "code",
   "execution_count": 110,
   "metadata": {},
   "outputs": [],
   "source": [
    "# Adding the Branch_encoded Column --- > \n",
    "# Branch_encoded = '0' ---> Branch = 'Disneyland_California'\n",
    "# Branch_encoded = '1' ---> Branch = 'Disneyland_HongKong'\n",
    "# Branch_encoded = '2' ---> Branch = 'Disneyland_Paris'\n",
    "df.insert(loc=8, column='Branch_Encoded',\n",
    "          value= [1 if x == 'Disneyland_HongKong' else 2 if x == 'Disneyland_Paris' else 3 for x in df['Branch']])"
   ]
  },
  {
   "cell_type": "code",
   "execution_count": 389,
   "metadata": {},
   "outputs": [],
   "source": [
    "# Making a Clustered Bar Chart \n",
    "\n",
    "DivisionRating = df.groupby(['Sent_ML','Branch_Encoded']).count()['Review_ID']\n",
    "UnstackedDR  = DivisionRating.unstack(level=0)\n",
    "RatingValues = UnstackedDR.index.values\n",
    "LabelValues = UnstackedDR.keys()"
   ]
  },
  {
   "cell_type": "markdown",
   "metadata": {},
   "source": [
    "## Figure D.1"
   ]
  },
  {
   "cell_type": "code",
   "execution_count": 390,
   "metadata": {
    "scrolled": true
   },
   "outputs": [
    {
     "data": {
      "image/png": "[encoded data removed]",
      "text/plain": [
       "<Figure size 576x360 with 1 Axes>"
      ]
     },
     "metadata": {
      "needs_background": "light"
     },
     "output_type": "display_data"
    }
   ],
   "source": [
    "#Create a new figure\n",
    "from matplotlib import pyplot\n",
    "pyplot.figure(figsize=(8,5)) \n",
    "pyplot.title('Sentiments Derived from Ratings', fontsize=16)\n",
    "pyplot.xlabel('Rating')\n",
    "pyplot.ylabel('Count')\n",
    "\n",
    " \n",
    "\n",
    "width = 0.25       \n",
    "pyplot.bar(RatingValues, \n",
    "           UnstackedDR[LabelValues[0]], width, label=LabelValues[0])\n",
    "pyplot.bar(RatingValues + width, \n",
    "           UnstackedDR[LabelValues[1]], width, color='red', label=LabelValues[1])\n",
    "pyplot.bar(RatingValues + width + width, \n",
    "           UnstackedDR[LabelValues[2]], width, color='green', label=LabelValues[2])\n",
    "\n",
    " \n",
    "\n",
    "pyplot.xticks(RatingValues + width, ('Disneyland_Hongkong', 'Disneyland_Paris', 'Disneyland_California'))\n",
    "pyplot.legend(loc='best')\n",
    "pyplot.show();"
   ]
  },
  {
   "cell_type": "markdown",
   "metadata": {
    "colab_type": "text",
    "id": "-qcKWG7p6jHD"
   },
   "source": [
    "## Lexicon-based Sentiment Analysis"
   ]
  },
  {
   "cell_type": "code",
   "execution_count": 113,
   "metadata": {
    "colab": {},
    "colab_type": "code",
    "id": "rAJEHVAR6jHE",
    "outputId": "cd5235d1-e87b-4e35-f123-585898842452"
   },
   "outputs": [
    {
     "data": {
      "text/html": [
       "<div>\n",
       "<style scoped>\n",
       "    .dataframe tbody tr th:only-of-type {\n",
       "        vertical-align: middle;\n",
       "    }\n",
       "\n",
       "    .dataframe tbody tr th {\n",
       "        vertical-align: top;\n",
       "    }\n",
       "\n",
       "    .dataframe thead th {\n",
       "        text-align: right;\n",
       "    }\n",
       "</style>\n",
       "<table border=\"1\" class=\"dataframe\">\n",
       "  <thead>\n",
       "    <tr style=\"text-align: right;\">\n",
       "      <th></th>\n",
       "      <th>Review_ID</th>\n",
       "      <th>Rating</th>\n",
       "      <th>Sent_ML</th>\n",
       "      <th>Label</th>\n",
       "      <th>Year_Month</th>\n",
       "      <th>MONTH</th>\n",
       "      <th>Reviewer_Location</th>\n",
       "      <th>Review_Text</th>\n",
       "      <th>Branch_Encoded</th>\n",
       "      <th>Branch</th>\n",
       "      <th>Cleaned_doc_ML</th>\n",
       "    </tr>\n",
       "  </thead>\n",
       "  <tbody>\n",
       "    <tr>\n",
       "      <td>0</td>\n",
       "      <td>670772142</td>\n",
       "      <td>4</td>\n",
       "      <td>pos</td>\n",
       "      <td>1</td>\n",
       "      <td>2019-04</td>\n",
       "      <td>4</td>\n",
       "      <td>Australia</td>\n",
       "      <td>If you've ever been to Disneyland anywhere you...</td>\n",
       "      <td>1</td>\n",
       "      <td>Disneyland_HongKong</td>\n",
       "      <td>ever disneyland anywher find disneyland hong k...</td>\n",
       "    </tr>\n",
       "    <tr>\n",
       "      <td>1</td>\n",
       "      <td>670682799</td>\n",
       "      <td>4</td>\n",
       "      <td>pos</td>\n",
       "      <td>1</td>\n",
       "      <td>2019-05</td>\n",
       "      <td>5</td>\n",
       "      <td>Philippines</td>\n",
       "      <td>Its been a while since d last time we visit HK...</td>\n",
       "      <td>1</td>\n",
       "      <td>Disneyland_HongKong</td>\n",
       "      <td>sinc last time visit disneyland time onli stay...</td>\n",
       "    </tr>\n",
       "    <tr>\n",
       "      <td>2</td>\n",
       "      <td>670623270</td>\n",
       "      <td>4</td>\n",
       "      <td>pos</td>\n",
       "      <td>1</td>\n",
       "      <td>2019-04</td>\n",
       "      <td>4</td>\n",
       "      <td>United Arab Emirates</td>\n",
       "      <td>Thanks God it wasn   t too hot or too humid wh...</td>\n",
       "      <td>1</td>\n",
       "      <td>Disneyland_HongKong</td>\n",
       "      <td>thank humid visit park otherwis would issu sha...</td>\n",
       "    </tr>\n",
       "  </tbody>\n",
       "</table>\n",
       "</div>"
      ],
      "text/plain": [
       "   Review_ID  Rating Sent_ML  Label Year_Month  MONTH     Reviewer_Location  \\\n",
       "0  670772142       4     pos      1    2019-04      4             Australia   \n",
       "1  670682799       4     pos      1    2019-05      5           Philippines   \n",
       "2  670623270       4     pos      1    2019-04      4  United Arab Emirates   \n",
       "\n",
       "                                         Review_Text  Branch_Encoded  \\\n",
       "0  If you've ever been to Disneyland anywhere you...               1   \n",
       "1  Its been a while since d last time we visit HK...               1   \n",
       "2  Thanks God it wasn   t too hot or too humid wh...               1   \n",
       "\n",
       "                Branch                                     Cleaned_doc_ML  \n",
       "0  Disneyland_HongKong  ever disneyland anywher find disneyland hong k...  \n",
       "1  Disneyland_HongKong  sinc last time visit disneyland time onli stay...  \n",
       "2  Disneyland_HongKong  thank humid visit park otherwis would issu sha...  "
      ]
     },
     "execution_count": 113,
     "metadata": {},
     "output_type": "execute_result"
    }
   ],
   "source": [
    "df.head(3)"
   ]
  },
  {
   "cell_type": "code",
   "execution_count": 114,
   "metadata": {
    "colab": {},
    "colab_type": "code",
    "id": "YO75Kf5c6jHH",
    "outputId": "d583797d-9ca8-4ca1-af5b-cd232b8511b4"
   },
   "outputs": [
    {
     "name": "stderr",
     "output_type": "stream",
     "text": [
      "[nltk_data] Downloading package vader_lexicon to\n",
      "[nltk_data]     /Users/amitjain/nltk_data...\n",
      "[nltk_data]   Package vader_lexicon is already up-to-date!\n"
     ]
    }
   ],
   "source": [
    "# first, we import the relevant modules from the NLTK library\n",
    "import nltk\n",
    "nltk.download('vader_lexicon')\n",
    "from nltk.sentiment.vader import SentimentIntensityAnalyzer"
   ]
  },
  {
   "cell_type": "code",
   "execution_count": 379,
   "metadata": {},
   "outputs": [],
   "source": [
    "#Initialize an instance of SentimentIntensityAnalyzer\n",
    "sid = SentimentIntensityAnalyzer()\n",
    "\n",
    "Sent_Lexicon = [] #Index to indicate neutral sentiment.\n",
    "for r in range(len(df['Cleaned_doc_ML'])):\n",
    "    message_text = df['Cleaned_doc_ML'][r]\n",
    "    # Compute Sentiment Score for each review\n",
    "    SentimentScores = sid.polarity_scores(message_text)\n",
    "    # Generate sentiment index based on sentiment score, We set 0.3 as threshold for strong sentiments\n",
    "    if SentimentScores['pos']> 0.2:\n",
    "        Sent_Lexicon.append('pos')\n",
    "    elif SentimentScores['neg']> 0.3:\n",
    "            Sent_Lexicon.append('neg')\n",
    "    elif SentimentScores['neu']> 0.5:\n",
    "        Sent_Lexicon.append('neu')\n",
    "#Add sentiment indixes to the original data frame.\n",
    "df['Sent_Lexicon'] = Sent_Lexicon  "
   ]
  },
  {
   "cell_type": "code",
   "execution_count": 380,
   "metadata": {},
   "outputs": [
    {
     "data": {
      "text/html": [
       "<div>\n",
       "<style scoped>\n",
       "    .dataframe tbody tr th:only-of-type {\n",
       "        vertical-align: middle;\n",
       "    }\n",
       "\n",
       "    .dataframe tbody tr th {\n",
       "        vertical-align: top;\n",
       "    }\n",
       "\n",
       "    .dataframe thead th {\n",
       "        text-align: right;\n",
       "    }\n",
       "</style>\n",
       "<table border=\"1\" class=\"dataframe\">\n",
       "  <thead>\n",
       "    <tr style=\"text-align: right;\">\n",
       "      <th></th>\n",
       "      <th>Review_ID</th>\n",
       "      <th>Rating</th>\n",
       "      <th>Sent_ML</th>\n",
       "      <th>Label</th>\n",
       "      <th>Year_Month</th>\n",
       "      <th>MONTH</th>\n",
       "      <th>Reviewer_Location</th>\n",
       "      <th>Review_Text</th>\n",
       "      <th>Branch_Encoded</th>\n",
       "      <th>Branch</th>\n",
       "      <th>Cleaned_doc_ML</th>\n",
       "      <th>Sent_Lexicon</th>\n",
       "      <th>Cleaned_doc_LDA</th>\n",
       "      <th>Only_Nouns</th>\n",
       "    </tr>\n",
       "  </thead>\n",
       "  <tbody>\n",
       "    <tr>\n",
       "      <td>0</td>\n",
       "      <td>670772142</td>\n",
       "      <td>4</td>\n",
       "      <td>pos</td>\n",
       "      <td>1</td>\n",
       "      <td>2019-04</td>\n",
       "      <td>4</td>\n",
       "      <td>Australia</td>\n",
       "      <td>If you've ever been to Disneyland anywhere you'll find Disneyland Hong Kong very similar in the ...</td>\n",
       "      <td>1</td>\n",
       "      <td>Disneyland_HongKong</td>\n",
       "      <td>ever disneyland anywher find disneyland hong kong veri similar layout walk main street veri fami...</td>\n",
       "      <td>neu</td>\n",
       "      <td>[similar, layout, familiar, fabul, fairli]</td>\n",
       "      <td>ever disneyland anywher find disneyland hong kong veri similar layout walk main street veri fami...</td>\n",
       "    </tr>\n",
       "    <tr>\n",
       "      <td>1</td>\n",
       "      <td>670682799</td>\n",
       "      <td>4</td>\n",
       "      <td>pos</td>\n",
       "      <td>1</td>\n",
       "      <td>2019-05</td>\n",
       "      <td>5</td>\n",
       "      <td>Philippines</td>\n",
       "      <td>Its been a while since d last time we visit HK Disneyland .. Yet, this time we only stay in Tomo...</td>\n",
       "      <td>1</td>\n",
       "      <td>Disneyland_HongKong</td>\n",
       "      <td>sinc last time visit disneyland time onli stay tomorrowland marvel land iron experi newli open w...</td>\n",
       "      <td>pos</td>\n",
       "      <td>[tomorrowland, marvel, iron, newli, ironman, featur, sceneri, central, kowloon, previou, lightye...</td>\n",
       "      <td>ever disneyland anywher find disneyland hong kong veri similar layout walk main street veri fami...</td>\n",
       "    </tr>\n",
       "  </tbody>\n",
       "</table>\n",
       "</div>"
      ],
      "text/plain": [
       "   Review_ID  Rating Sent_ML  Label Year_Month  MONTH Reviewer_Location  \\\n",
       "0  670772142       4     pos      1    2019-04      4         Australia   \n",
       "1  670682799       4     pos      1    2019-05      5       Philippines   \n",
       "\n",
       "                                                                                           Review_Text  \\\n",
       "0  If you've ever been to Disneyland anywhere you'll find Disneyland Hong Kong very similar in the ...   \n",
       "1  Its been a while since d last time we visit HK Disneyland .. Yet, this time we only stay in Tomo...   \n",
       "\n",
       "   Branch_Encoded               Branch  \\\n",
       "0               1  Disneyland_HongKong   \n",
       "1               1  Disneyland_HongKong   \n",
       "\n",
       "                                                                                        Cleaned_doc_ML  \\\n",
       "0  ever disneyland anywher find disneyland hong kong veri similar layout walk main street veri fami...   \n",
       "1  sinc last time visit disneyland time onli stay tomorrowland marvel land iron experi newli open w...   \n",
       "\n",
       "  Sent_Lexicon  \\\n",
       "0          neu   \n",
       "1          pos   \n",
       "\n",
       "                                                                                       Cleaned_doc_LDA  \\\n",
       "0                                                           [similar, layout, familiar, fabul, fairli]   \n",
       "1  [tomorrowland, marvel, iron, newli, ironman, featur, sceneri, central, kowloon, previou, lightye...   \n",
       "\n",
       "                                                                                            Only_Nouns  \n",
       "0  ever disneyland anywher find disneyland hong kong veri similar layout walk main street veri fami...  \n",
       "1  ever disneyland anywher find disneyland hong kong veri similar layout walk main street veri fami...  "
      ]
     },
     "execution_count": 380,
     "metadata": {},
     "output_type": "execute_result"
    }
   ],
   "source": [
    "df.head(2)"
   ]
  },
  {
   "cell_type": "markdown",
   "metadata": {},
   "source": [
    "## Figure D.2"
   ]
  },
  {
   "cell_type": "code",
   "execution_count": 381,
   "metadata": {},
   "outputs": [],
   "source": [
    "DivisionRating = df.groupby(['Sent_Lexicon','Branch_Encoded']).count()['Review_ID']\n",
    "UnstackedDR  = DivisionRating.unstack(level=0)\n",
    "RatingValues = UnstackedDR.index.values\n",
    "LabelValues = UnstackedDR.keys()"
   ]
  },
  {
   "cell_type": "code",
   "execution_count": 382,
   "metadata": {},
   "outputs": [
    {
     "data": {
      "image/png": "[encoded data removed]",
      "text/plain": [
       "<Figure size 576x360 with 1 Axes>"
      ]
     },
     "metadata": {
      "needs_background": "light"
     },
     "output_type": "display_data"
    }
   ],
   "source": [
    "#Create a new figure\n",
    "from matplotlib import pyplot\n",
    "pyplot.figure(figsize=(8,5)) \n",
    "pyplot.title('Ratings by Division', fontsize=16)\n",
    "pyplot.xlabel('Rating')\n",
    "pyplot.ylabel('Count')\n",
    "\n",
    " \n",
    "\n",
    "width = 0.25       \n",
    "pyplot.bar(RatingValues, \n",
    "           UnstackedDR[LabelValues[0]], width, label=LabelValues[0])\n",
    "pyplot.bar(RatingValues + width, \n",
    "           UnstackedDR[LabelValues[1]], width, color='red', label=LabelValues[1])\n",
    "pyplot.bar(RatingValues + width + width, \n",
    "           UnstackedDR[LabelValues[2]], width, color='green', label=LabelValues[2])\n",
    "\n",
    " \n",
    "\n",
    "pyplot.xticks(RatingValues + width, ('Disneyland_Hongkong', 'Disneyland_Paris', 'Disneyland_California'))\n",
    "pyplot.legend(loc='best')\n",
    "pyplot.show();"
   ]
  },
  {
   "cell_type": "markdown",
   "metadata": {},
   "source": [
    "## ANSWER------> PART D"
   ]
  },
  {
   "cell_type": "markdown",
   "metadata": {},
   "source": [
    "We have taken two approaches for sentiment analysis. \n",
    "\n",
    "We have created a Naive Bayes Machine Learning model and Lexicon Based Model.\n",
    "\n",
    "**Machine Learning** is a Supervised Learning whereas **Lexicon** Based is unsupervised Learning which calculate Polarity scores to classify scores as positive, negative and neutral.\n",
    "\n",
    "\n",
    "In the **Figure D.1**, it can be observed that our ML model has predicted the more Positive Reviews than compared to Lexicon based Model (Figure D.2). Moreover, Lexicon Based Model has Clustered less Negative Reviews as compared to ML model. \n",
    "\n",
    "\n",
    "In conclusion, Machine Learning based approach is better than Lexicon Based Approach"
   ]
  },
  {
   "cell_type": "markdown",
   "metadata": {},
   "source": [
    "# PART E"
   ]
  },
  {
   "cell_type": "markdown",
   "metadata": {},
   "source": [
    "## What are visitors’ sentiments toward theme parks aspects such as facilities and services? (define)"
   ]
  },
  {
   "cell_type": "markdown",
   "metadata": {},
   "source": [
    "## POS TAGGING NOUNS"
   ]
  },
  {
   "cell_type": "code",
   "execution_count": 367,
   "metadata": {},
   "outputs": [],
   "source": [
    "#Compute Sentiment Score by text trunk\n",
    "from nltk.tokenize import sent_tokenize\n",
    "Cleaned_doc_aspect=[]\n",
    "scores = []\n",
    "for r in range(len(df['Review_Text'])):\n",
    "    message_text = df['Review_Text'][r]\n",
    "    ReviewComment= message_text.replace(',','.')\n",
    "    #sents =  sent_tokenize(ReviewComment)\n",
    "    Cleaned_doc_aspect.append(ReviewComment)"
   ]
  },
  {
   "cell_type": "code",
   "execution_count": 368,
   "metadata": {},
   "outputs": [],
   "source": [
    "# COnverting l2 to strings\n",
    "\n",
    "Cleaned_doc_aspect = \",\".join(Cleaned_doc_aspect)"
   ]
  },
  {
   "cell_type": "code",
   "execution_count": 370,
   "metadata": {},
   "outputs": [],
   "source": [
    "sents =  sent_tokenize(Cleaned_doc_aspect)\n",
    "scores = []\n",
    "for s in range(len(sents)):\n",
    "    scores.append(sid.polarity_scores(sents[s]))"
   ]
  },
  {
   "cell_type": "code",
   "execution_count": 395,
   "metadata": {},
   "outputs": [
    {
     "data": {
      "text/plain": [
       "[{'neg': 0.0, 'neu': 1.0, 'pos': 0.0, 'compound': 0.0},\n",
       " {'neg': 0.0, 'neu': 1.0, 'pos': 0.0, 'compound': 0.0},\n",
       " {'neg': 0.0, 'neu': 0.653, 'pos': 0.347, 'compound': 0.7056},\n",
       " {'neg': 0.0, 'neu': 0.85, 'pos': 0.15, 'compound': 0.3919},\n",
       " {'neg': 0.0, 'neu': 1.0, 'pos': 0.0, 'compound': 0.0},\n",
       " {'neg': 0.0, 'neu': 1.0, 'pos': 0.0, 'compound': 0.0},\n",
       " {'neg': 0.0, 'neu': 0.855, 'pos': 0.145, 'compound': 0.5242},\n",
       " {'neg': 0.0, 'neu': 0.337, 'pos': 0.663, 'compound': 0.8353},\n",
       " {'neg': 0.0, 'neu': 1.0, 'pos': 0.0, 'compound': 0.0},\n",
       " {'neg': 0.0, 'neu': 1.0, 'pos': 0.0, 'compound': 0.0},\n",
       " {'neg': 0.0, 'neu': 1.0, 'pos': 0.0, 'compound': 0.0},\n",
       " {'neg': 0.0, 'neu': 0.518, 'pos': 0.482, 'compound': 0.4199},\n",
       " {'neg': 0.0, 'neu': 1.0, 'pos': 0.0, 'compound': 0.0},\n",
       " {'neg': 0.582, 'neu': 0.418, 'pos': 0.0, 'compound': -0.6351},\n",
       " {'neg': 0.0, 'neu': 0.299, 'pos': 0.701, 'compound': 0.6892},\n",
       " {'neg': 0.0, 'neu': 1.0, 'pos': 0.0, 'compound': 0.0},\n",
       " {'neg': 0.0, 'neu': 1.0, 'pos': 0.0, 'compound': 0.0},\n",
       " {'neg': 0.0, 'neu': 0.661, 'pos': 0.339, 'compound': 0.4738},\n",
       " {'neg': 0.31, 'neu': 0.494, 'pos': 0.196, 'compound': -0.3846},\n",
       " {'neg': 0.238, 'neu': 0.325, 'pos': 0.436, 'compound': 0.4263},\n",
       " {'neg': 0.123, 'neu': 0.472, 'pos': 0.405, 'compound': 0.6114},\n",
       " {'neg': 0.0, 'neu': 0.663, 'pos': 0.337, 'compound': 0.7249},\n",
       " {'neg': 0.0, 'neu': 1.0, 'pos': 0.0, 'compound': 0.0},\n",
       " {'neg': 0.0, 'neu': 1.0, 'pos': 0.0, 'compound': 0.0},\n",
       " {'neg': 0.0, 'neu': 0.622, 'pos': 0.378, 'compound': 0.7707},\n",
       " {'neg': 0.0, 'neu': 0.463, 'pos': 0.537, 'compound': 0.5399},\n",
       " {'neg': 0.0, 'neu': 1.0, 'pos': 0.0, 'compound': 0.0},\n",
       " {'neg': 0.0, 'neu': 0.932, 'pos': 0.068, 'compound': 0.3382},\n",
       " {'neg': 0.324, 'neu': 0.676, 'pos': 0.0, 'compound': -0.34},\n",
       " {'neg': 0.0, 'neu': 0.745, 'pos': 0.255, 'compound': 0.9442},\n",
       " {'neg': 0.0, 'neu': 0.741, 'pos': 0.259, 'compound': 0.4215},\n",
       " {'neg': 0.0, 'neu': 0.814, 'pos': 0.186, 'compound': 0.7322},\n",
       " {'neg': 0.0, 'neu': 0.756, 'pos': 0.244, 'compound': 0.4404},\n",
       " {'neg': 0.063, 'neu': 0.6, 'pos': 0.337, 'compound': 0.8908},\n",
       " {'neg': 0.082, 'neu': 0.858, 'pos': 0.06, 'compound': -0.1677},\n",
       " {'neg': 0.125, 'neu': 0.739, 'pos': 0.136, 'compound': 0.0516},\n",
       " {'neg': 0.0, 'neu': 1.0, 'pos': 0.0, 'compound': 0.0},\n",
       " {'neg': 0.122, 'neu': 0.744, 'pos': 0.135, 'compound': 0.0972},\n",
       " {'neg': 0.0, 'neu': 0.682, 'pos': 0.318, 'compound': 0.6369},\n",
       " {'neg': 0.0, 'neu': 1.0, 'pos': 0.0, 'compound': 0.0},\n",
       " {'neg': 0.0, 'neu': 0.667, 'pos': 0.333, 'compound': 0.3612},\n",
       " {'neg': 0.0, 'neu': 0.526, 'pos': 0.474, 'compound': 0.2023},\n",
       " {'neg': 0.0, 'neu': 1.0, 'pos': 0.0, 'compound': 0.0},\n",
       " {'neg': 0.0, 'neu': 1.0, 'pos': 0.0, 'compound': 0.0},\n",
       " {'neg': 0.0, 'neu': 0.714, 'pos': 0.286, 'compound': 0.4215},\n",
       " {'neg': 0.0, 'neu': 1.0, 'pos': 0.0, 'compound': 0.0},\n",
       " {'neg': 0.0, 'neu': 0.861, 'pos': 0.139, 'compound': 0.2732},\n",
       " {'neg': 0.0, 'neu': 1.0, 'pos': 0.0, 'compound': 0.0},\n",
       " {'neg': 0.0, 'neu': 0.838, 'pos': 0.162, 'compound': 0.4404},\n",
       " {'neg': 0.0, 'neu': 0.635, 'pos': 0.365, 'compound': 0.3182},\n",
       " {'neg': 0.0, 'neu': 1.0, 'pos': 0.0, 'compound': 0.0},\n",
       " {'neg': 0.0, 'neu': 1.0, 'pos': 0.0, 'compound': 0.0},\n",
       " {'neg': 0.0, 'neu': 1.0, 'pos': 0.0, 'compound': 0.0},\n",
       " {'neg': 0.0, 'neu': 1.0, 'pos': 0.0, 'compound': 0.0},\n",
       " {'neg': 0.0, 'neu': 1.0, 'pos': 0.0, 'compound': 0.0},\n",
       " {'neg': 0.0, 'neu': 0.33, 'pos': 0.67, 'compound': 0.7269},\n",
       " {'neg': 0.223, 'neu': 0.588, 'pos': 0.19, 'compound': -0.4183},\n",
       " {'neg': 0.143, 'neu': 0.857, 'pos': 0.0, 'compound': -0.128},\n",
       " {'neg': 0.0, 'neu': 0.256, 'pos': 0.744, 'compound': 0.4404},\n",
       " {'neg': 0.0, 'neu': 1.0, 'pos': 0.0, 'compound': 0.0},\n",
       " {'neg': 0.11, 'neu': 0.698, 'pos': 0.192, 'compound': 0.34},\n",
       " {'neg': 0.0, 'neu': 1.0, 'pos': 0.0, 'compound': 0.0},\n",
       " {'neg': 0.328, 'neu': 0.672, 'pos': 0.0, 'compound': -0.6588},\n",
       " {'neg': 0.0, 'neu': 1.0, 'pos': 0.0, 'compound': 0.0},\n",
       " {'neg': 0.0, 'neu': 0.69, 'pos': 0.31, 'compound': 0.6689},\n",
       " {'neg': 0.163, 'neu': 0.837, 'pos': 0.0, 'compound': -0.5423},\n",
       " {'neg': 0.0, 'neu': 0.823, 'pos': 0.177, 'compound': 0.4215},\n",
       " {'neg': 0.0, 'neu': 1.0, 'pos': 0.0, 'compound': 0.0},\n",
       " {'neg': 0.0, 'neu': 1.0, 'pos': 0.0, 'compound': 0.0},\n",
       " {'neg': 0.0, 'neu': 0.792, 'pos': 0.208, 'compound': 0.2732},\n",
       " {'neg': 0.139, 'neu': 0.672, 'pos': 0.189, 'compound': 0.2944},\n",
       " {'neg': 0.0, 'neu': 1.0, 'pos': 0.0, 'compound': 0.0},\n",
       " {'neg': 0.0, 'neu': 1.0, 'pos': 0.0, 'compound': 0.0},\n",
       " {'neg': 0.0, 'neu': 0.845, 'pos': 0.155, 'compound': 0.6705},\n",
       " {'neg': 0.164, 'neu': 0.836, 'pos': 0.0, 'compound': -0.5142},\n",
       " {'neg': 0.0, 'neu': 0.476, 'pos': 0.524, 'compound': 0.5106},\n",
       " {'neg': 0.0, 'neu': 1.0, 'pos': 0.0, 'compound': 0.0},\n",
       " {'neg': 0.0, 'neu': 0.563, 'pos': 0.437, 'compound': 0.3252},\n",
       " {'neg': 0.467, 'neu': 0.533, 'pos': 0.0, 'compound': -0.5423},\n",
       " {'neg': 0.0, 'neu': 1.0, 'pos': 0.0, 'compound': 0.0},\n",
       " {'neg': 0.0, 'neu': 1.0, 'pos': 0.0, 'compound': 0.0},\n",
       " {'neg': 0.232, 'neu': 0.421, 'pos': 0.347, 'compound': 0.2732},\n",
       " {'neg': 0.0, 'neu': 1.0, 'pos': 0.0, 'compound': 0.0},\n",
       " {'neg': 0.0, 'neu': 1.0, 'pos': 0.0, 'compound': 0.0},\n",
       " {'neg': 0.0, 'neu': 1.0, 'pos': 0.0, 'compound': 0.0},\n",
       " {'neg': 0.0, 'neu': 0.56, 'pos': 0.44, 'compound': 0.6705},\n",
       " {'neg': 0.0, 'neu': 1.0, 'pos': 0.0, 'compound': 0.0},\n",
       " {'neg': 0.0, 'neu': 1.0, 'pos': 0.0, 'compound': 0.0},\n",
       " {'neg': 0.0, 'neu': 1.0, 'pos': 0.0, 'compound': 0.0},\n",
       " {'neg': 0.0, 'neu': 1.0, 'pos': 0.0, 'compound': 0.0},\n",
       " {'neg': 0.0, 'neu': 1.0, 'pos': 0.0, 'compound': 0.0},\n",
       " {'neg': 0.0, 'neu': 1.0, 'pos': 0.0, 'compound': 0.0},\n",
       " {'neg': 0.0, 'neu': 0.884, 'pos': 0.116, 'compound': 0.2732},\n",
       " {'neg': 0.0, 'neu': 0.781, 'pos': 0.219, 'compound': 0.4215},\n",
       " {'neg': 0.0, 'neu': 0.833, 'pos': 0.167, 'compound': 0.4939},\n",
       " {'neg': 0.216, 'neu': 0.65, 'pos': 0.134, 'compound': -0.2235},\n",
       " {'neg': 0.0, 'neu': 1.0, 'pos': 0.0, 'compound': 0.0},\n",
       " {'neg': 0.0, 'neu': 0.856, 'pos': 0.144, 'compound': 0.4939},\n",
       " {'neg': 0.29, 'neu': 0.499, 'pos': 0.211, 'compound': -0.2598},\n",
       " {'neg': 0.127, 'neu': 0.873, 'pos': 0.0, 'compound': -0.2598},\n",
       " {'neg': 0.0, 'neu': 0.691, 'pos': 0.309, 'compound': 0.5542},\n",
       " {'neg': 0.0, 'neu': 1.0, 'pos': 0.0, 'compound': 0.0},\n",
       " {'neg': 0.0, 'neu': 0.718, 'pos': 0.282, 'compound': 0.7096},\n",
       " {'neg': 0.0, 'neu': 1.0, 'pos': 0.0, 'compound': 0.0},\n",
       " {'neg': 0.115, 'neu': 0.654, 'pos': 0.231, 'compound': 0.5927},\n",
       " {'neg': 0.508, 'neu': 0.492, 'pos': 0.0, 'compound': -0.4767},\n",
       " {'neg': 0.0, 'neu': 1.0, 'pos': 0.0, 'compound': 0.0},\n",
       " {'neg': 0.0, 'neu': 1.0, 'pos': 0.0, 'compound': 0.0},\n",
       " {'neg': 0.0, 'neu': 1.0, 'pos': 0.0, 'compound': 0.0},\n",
       " {'neg': 0.0, 'neu': 1.0, 'pos': 0.0, 'compound': 0.0},\n",
       " {'neg': 0.0, 'neu': 0.64, 'pos': 0.36, 'compound': 0.6696},\n",
       " {'neg': 0.0, 'neu': 0.872, 'pos': 0.128, 'compound': 0.2263},\n",
       " {'neg': 0.18, 'neu': 0.82, 'pos': 0.0, 'compound': -0.296},\n",
       " {'neg': 0.0, 'neu': 1.0, 'pos': 0.0, 'compound': 0.0},\n",
       " {'neg': 0.0, 'neu': 1.0, 'pos': 0.0, 'compound': 0.0},\n",
       " {'neg': 0.403, 'neu': 0.597, 'pos': 0.0, 'compound': -0.6597},\n",
       " {'neg': 0.102, 'neu': 0.68, 'pos': 0.218, 'compound': 0.5239},\n",
       " {'neg': 0.0, 'neu': 0.66, 'pos': 0.34, 'compound': 0.8025},\n",
       " {'neg': 0.0, 'neu': 1.0, 'pos': 0.0, 'compound': 0.0},\n",
       " {'neg': 0.0, 'neu': 1.0, 'pos': 0.0, 'compound': 0.0},\n",
       " {'neg': 0.0, 'neu': 0.435, 'pos': 0.565, 'compound': 0.5994},\n",
       " {'neg': 0.0, 'neu': 0.504, 'pos': 0.496, 'compound': 0.7845},\n",
       " {'neg': 0.0, 'neu': 0.753, 'pos': 0.247, 'compound': 0.5574},\n",
       " {'neg': 0.0, 'neu': 0.357, 'pos': 0.643, 'compound': 0.5574},\n",
       " {'neg': 0.0, 'neu': 0.244, 'pos': 0.756, 'compound': 0.4754},\n",
       " {'neg': 0.0, 'neu': 0.423, 'pos': 0.577, 'compound': 0.6249},\n",
       " {'neg': 0.0, 'neu': 1.0, 'pos': 0.0, 'compound': 0.0},\n",
       " {'neg': 0.094, 'neu': 0.906, 'pos': 0.0, 'compound': -0.1695},\n",
       " {'neg': 0.0, 'neu': 1.0, 'pos': 0.0, 'compound': 0.0},\n",
       " {'neg': 0.166, 'neu': 0.733, 'pos': 0.1, 'compound': -0.1803},\n",
       " {'neg': 0.0, 'neu': 0.789, 'pos': 0.211, 'compound': 0.7351},\n",
       " {'neg': 0.0, 'neu': 1.0, 'pos': 0.0, 'compound': 0.0},\n",
       " {'neg': 0.0, 'neu': 0.704, 'pos': 0.296, 'compound': 0.743},\n",
       " {'neg': 0.0, 'neu': 1.0, 'pos': 0.0, 'compound': 0.0},\n",
       " {'neg': 0.0, 'neu': 1.0, 'pos': 0.0, 'compound': 0.0},\n",
       " {'neg': 0.0, 'neu': 1.0, 'pos': 0.0, 'compound': 0.0},\n",
       " {'neg': 0.0, 'neu': 0.752, 'pos': 0.248, 'compound': 0.5106},\n",
       " {'neg': 0.0, 'neu': 1.0, 'pos': 0.0, 'compound': 0.0},\n",
       " {'neg': 0.0, 'neu': 0.939, 'pos': 0.061, 'compound': 0.0772},\n",
       " {'neg': 0.0, 'neu': 0.792, 'pos': 0.208, 'compound': 0.6124},\n",
       " {'neg': 0.1, 'neu': 0.9, 'pos': 0.0, 'compound': -0.2755},\n",
       " {'neg': 0.0, 'neu': 0.837, 'pos': 0.163, 'compound': 0.2846},\n",
       " {'neg': 0.0, 'neu': 1.0, 'pos': 0.0, 'compound': 0.0},\n",
       " {'neg': 0.0, 'neu': 1.0, 'pos': 0.0, 'compound': 0.0},\n",
       " {'neg': 0.0, 'neu': 1.0, 'pos': 0.0, 'compound': 0.0},\n",
       " {'neg': 0.0, 'neu': 1.0, 'pos': 0.0, 'compound': 0.0},\n",
       " {'neg': 0.0, 'neu': 1.0, 'pos': 0.0, 'compound': 0.0},\n",
       " {'neg': 0.0, 'neu': 0.82, 'pos': 0.18, 'compound': 0.6588},\n",
       " {'neg': 0.0, 'neu': 0.629, 'pos': 0.371, 'compound': 0.7096},\n",
       " {'neg': 0.0, 'neu': 0.638, 'pos': 0.362, 'compound': 0.8478},\n",
       " {'neg': 0.069, 'neu': 0.841, 'pos': 0.09, 'compound': 0.1779},\n",
       " {'neg': 0.0, 'neu': 0.703, 'pos': 0.297, 'compound': 0.5859},\n",
       " {'neg': 0.0, 'neu': 1.0, 'pos': 0.0, 'compound': 0.0},\n",
       " {'neg': 0.0, 'neu': 1.0, 'pos': 0.0, 'compound': 0.0},\n",
       " {'neg': 0.13, 'neu': 0.87, 'pos': 0.0, 'compound': -0.34},\n",
       " {'neg': 0.0, 'neu': 1.0, 'pos': 0.0, 'compound': 0.0},\n",
       " {'neg': 0.0, 'neu': 0.732, 'pos': 0.268, 'compound': 0.3744},\n",
       " {'neg': 0.0, 'neu': 1.0, 'pos': 0.0, 'compound': 0.0},\n",
       " {'neg': 0.0, 'neu': 1.0, 'pos': 0.0, 'compound': 0.0},\n",
       " {'neg': 0.0, 'neu': 0.798, 'pos': 0.202, 'compound': 0.5106},\n",
       " {'neg': 0.0, 'neu': 1.0, 'pos': 0.0, 'compound': 0.0},\n",
       " {'neg': 0.0, 'neu': 0.541, 'pos': 0.459, 'compound': 0.7783},\n",
       " {'neg': 0.0, 'neu': 0.86, 'pos': 0.14, 'compound': 0.4767},\n",
       " {'neg': 0.0, 'neu': 0.691, 'pos': 0.309, 'compound': 0.7003},\n",
       " {'neg': 0.137, 'neu': 0.863, 'pos': 0.0, 'compound': -0.3008},\n",
       " {'neg': 0.0, 'neu': 1.0, 'pos': 0.0, 'compound': 0.0},\n",
       " {'neg': 0.0, 'neu': 1.0, 'pos': 0.0, 'compound': 0.0},\n",
       " {'neg': 0.0, 'neu': 0.698, 'pos': 0.302, 'compound': 0.3804},\n",
       " {'neg': 0.0, 'neu': 0.641, 'pos': 0.359, 'compound': 0.4215},\n",
       " {'neg': 0.0, 'neu': 0.606, 'pos': 0.394, 'compound': 0.5023},\n",
       " {'neg': 0.0, 'neu': 0.867, 'pos': 0.133, 'compound': 0.3182},\n",
       " {'neg': 0.0, 'neu': 0.735, 'pos': 0.265, 'compound': 0.8519},\n",
       " {'neg': 0.0, 'neu': 0.576, 'pos': 0.424, 'compound': 0.7096},\n",
       " {'neg': 0.0, 'neu': 0.781, 'pos': 0.219, 'compound': 0.6369},\n",
       " {'neg': 0.0, 'neu': 0.725, 'pos': 0.275, 'compound': 0.8225},\n",
       " {'neg': 0.216, 'neu': 0.784, 'pos': 0.0, 'compound': -0.3566},\n",
       " {'neg': 0.0, 'neu': 0.712, 'pos': 0.288, 'compound': 0.8885},\n",
       " {'neg': 0.0, 'neu': 0.594, 'pos': 0.406, 'compound': 0.6249},\n",
       " {'neg': 0.0, 'neu': 0.535, 'pos': 0.465, 'compound': 0.8834},\n",
       " {'neg': 0.0, 'neu': 0.751, 'pos': 0.249, 'compound': 0.5653},\n",
       " {'neg': 0.0, 'neu': 0.877, 'pos': 0.123, 'compound': 0.4215},\n",
       " {'neg': 0.147, 'neu': 0.853, 'pos': 0.0, 'compound': -0.3412},\n",
       " {'neg': 0.0, 'neu': 0.568, 'pos': 0.432, 'compound': 0.5859},\n",
       " {'neg': 0.0, 'neu': 1.0, 'pos': 0.0, 'compound': 0.0},\n",
       " {'neg': 0.0, 'neu': 1.0, 'pos': 0.0, 'compound': 0.0},\n",
       " {'neg': 0.0, 'neu': 1.0, 'pos': 0.0, 'compound': 0.0},\n",
       " {'neg': 0.0, 'neu': 0.915, 'pos': 0.085, 'compound': 0.0772},\n",
       " {'neg': 0.0, 'neu': 1.0, 'pos': 0.0, 'compound': 0.0},\n",
       " {'neg': 0.0, 'neu': 0.784, 'pos': 0.216, 'compound': 0.5106},\n",
       " {'neg': 0.0, 'neu': 0.72, 'pos': 0.28, 'compound': 0.9217},\n",
       " {'neg': 0.0, 'neu': 1.0, 'pos': 0.0, 'compound': 0.0},\n",
       " {'neg': 0.0, 'neu': 1.0, 'pos': 0.0, 'compound': 0.0},\n",
       " {'neg': 0.0, 'neu': 0.899, 'pos': 0.101, 'compound': 0.2263},\n",
       " {'neg': 0.268, 'neu': 0.732, 'pos': 0.0, 'compound': -0.296},\n",
       " {'neg': 0.205, 'neu': 0.795, 'pos': 0.0, 'compound': -0.4767},\n",
       " {'neg': 0.0, 'neu': 0.705, 'pos': 0.295, 'compound': 0.5574},\n",
       " {'neg': 0.0, 'neu': 1.0, 'pos': 0.0, 'compound': 0.0},\n",
       " {'neg': 0.0, 'neu': 1.0, 'pos': 0.0, 'compound': 0.0},\n",
       " {'neg': 0.128, 'neu': 0.638, 'pos': 0.235, 'compound': 0.3291},\n",
       " {'neg': 0.0, 'neu': 0.649, 'pos': 0.351, 'compound': 0.4019},\n",
       " {'neg': 0.08, 'neu': 0.802, 'pos': 0.118, 'compound': 0.1032},\n",
       " {'neg': 0.0, 'neu': 0.57, 'pos': 0.43, 'compound': 0.8689},\n",
       " {'neg': 0.0, 'neu': 0.929, 'pos': 0.071, 'compound': 0.2263},\n",
       " {'neg': 0.0, 'neu': 0.951, 'pos': 0.049, 'compound': 0.1154},\n",
       " {'neg': 0.0, 'neu': 1.0, 'pos': 0.0, 'compound': 0.0},\n",
       " {'neg': 0.0, 'neu': 0.779, 'pos': 0.221, 'compound': 0.7964},\n",
       " {'neg': 0.0, 'neu': 0.588, 'pos': 0.412, 'compound': 0.6369},\n",
       " {'neg': 0.117, 'neu': 0.559, 'pos': 0.324, 'compound': 0.6908},\n",
       " {'neg': 0.0, 'neu': 1.0, 'pos': 0.0, 'compound': 0.0},\n",
       " {'neg': 0.0, 'neu': 1.0, 'pos': 0.0, 'compound': 0.0},\n",
       " {'neg': 0.146, 'neu': 0.854, 'pos': 0.0, 'compound': -0.5574},\n",
       " {'neg': 0.0, 'neu': 1.0, 'pos': 0.0, 'compound': 0.0},\n",
       " {'neg': 0.0, 'neu': 1.0, 'pos': 0.0, 'compound': 0.0},\n",
       " {'neg': 0.0, 'neu': 1.0, 'pos': 0.0, 'compound': 0.0},\n",
       " {'neg': 0.0, 'neu': 1.0, 'pos': 0.0, 'compound': 0.0},\n",
       " {'neg': 0.0, 'neu': 0.667, 'pos': 0.333, 'compound': 0.5413},\n",
       " {'neg': 0.0, 'neu': 1.0, 'pos': 0.0, 'compound': 0.0},\n",
       " {'neg': 0.0, 'neu': 1.0, 'pos': 0.0, 'compound': 0.0},\n",
       " {'neg': 0.094, 'neu': 0.906, 'pos': 0.0, 'compound': -0.4019},\n",
       " {'neg': 0.155, 'neu': 0.845, 'pos': 0.0, 'compound': -0.296},\n",
       " {'neg': 0.0, 'neu': 1.0, 'pos': 0.0, 'compound': 0.0},\n",
       " {'neg': 0.222, 'neu': 0.778, 'pos': 0.0, 'compound': -0.7184},\n",
       " {'neg': 0.0, 'neu': 1.0, 'pos': 0.0, 'compound': 0.0},\n",
       " {'neg': 0.0, 'neu': 1.0, 'pos': 0.0, 'compound': 0.0},\n",
       " {'neg': 0.0, 'neu': 1.0, 'pos': 0.0, 'compound': 0.0},\n",
       " {'neg': 0.0, 'neu': 1.0, 'pos': 0.0, 'compound': 0.0},\n",
       " {'neg': 0.0, 'neu': 1.0, 'pos': 0.0, 'compound': 0.0},\n",
       " {'neg': 0.239, 'neu': 0.761, 'pos': 0.0, 'compound': -0.296},\n",
       " {'neg': 0.0, 'neu': 1.0, 'pos': 0.0, 'compound': 0.0},\n",
       " {'neg': 0.0, 'neu': 0.842, 'pos': 0.158, 'compound': 0.4926},\n",
       " {'neg': 0.0, 'neu': 1.0, 'pos': 0.0, 'compound': 0.0},\n",
       " {'neg': 0.358, 'neu': 0.44, 'pos': 0.201, 'compound': -0.3612},\n",
       " {'neg': 0.0, 'neu': 0.791, 'pos': 0.209, 'compound': 0.5719},\n",
       " {'neg': 0.0, 'neu': 1.0, 'pos': 0.0, 'compound': 0.0},\n",
       " {'neg': 0.0, 'neu': 0.799, 'pos': 0.201, 'compound': 0.3089},\n",
       " {'neg': 0.0, 'neu': 1.0, 'pos': 0.0, 'compound': 0.0},\n",
       " {'neg': 0.0, 'neu': 0.208, 'pos': 0.792, 'compound': 0.5859},\n",
       " {'neg': 0.0, 'neu': 1.0, 'pos': 0.0, 'compound': 0.0},\n",
       " {'neg': 0.0, 'neu': 1.0, 'pos': 0.0, 'compound': 0.0},\n",
       " {'neg': 0.0, 'neu': 0.854, 'pos': 0.146, 'compound': 0.6249},\n",
       " {'neg': 0.0, 'neu': 0.533, 'pos': 0.467, 'compound': 0.7906},\n",
       " {'neg': 0.0, 'neu': 1.0, 'pos': 0.0, 'compound': 0.0},\n",
       " {'neg': 1.0, 'neu': 0.0, 'pos': 0.0, 'compound': -0.34},\n",
       " {'neg': 0.0, 'neu': 1.0, 'pos': 0.0, 'compound': 0.0},\n",
       " {'neg': 0.0, 'neu': 0.806, 'pos': 0.194, 'compound': 0.5927},\n",
       " {'neg': 0.0, 'neu': 0.749, 'pos': 0.251, 'compound': 0.5719},\n",
       " {'neg': 0.0, 'neu': 0.828, 'pos': 0.172, 'compound': 0.4019},\n",
       " {'neg': 0.0, 'neu': 1.0, 'pos': 0.0, 'compound': 0.0},\n",
       " {'neg': 0.0, 'neu': 0.417, 'pos': 0.583, 'compound': 0.636},\n",
       " {'neg': 0.0, 'neu': 0.079, 'pos': 0.921, 'compound': 0.9136},\n",
       " {'neg': 0.0, 'neu': 1.0, 'pos': 0.0, 'compound': 0.0},\n",
       " {'neg': 0.0, 'neu': 1.0, 'pos': 0.0, 'compound': 0.0},\n",
       " {'neg': 0.0, 'neu': 0.423, 'pos': 0.577, 'compound': 0.6249},\n",
       " {'neg': 0.0, 'neu': 0.766, 'pos': 0.234, 'compound': 0.7506},\n",
       " {'neg': 0.0, 'neu': 1.0, 'pos': 0.0, 'compound': 0.0},\n",
       " {'neg': 0.0, 'neu': 1.0, 'pos': 0.0, 'compound': 0.0},\n",
       " {'neg': 0.0, 'neu': 1.0, 'pos': 0.0, 'compound': 0.0},\n",
       " {'neg': 0.0, 'neu': 1.0, 'pos': 0.0, 'compound': 0.0},\n",
       " {'neg': 0.0, 'neu': 0.834, 'pos': 0.166, 'compound': 0.4201},\n",
       " {'neg': 0.0, 'neu': 0.845, 'pos': 0.155, 'compound': 0.5106},\n",
       " {'neg': 0.0, 'neu': 0.649, 'pos': 0.351, 'compound': 0.6597},\n",
       " {'neg': 0.0, 'neu': 1.0, 'pos': 0.0, 'compound': 0.0},\n",
       " {'neg': 0.0, 'neu': 1.0, 'pos': 0.0, 'compound': 0.0},\n",
       " {'neg': 0.0, 'neu': 1.0, 'pos': 0.0, 'compound': 0.0},\n",
       " {'neg': 0.0, 'neu': 0.954, 'pos': 0.046, 'compound': 0.1406},\n",
       " {'neg': 0.0, 'neu': 0.815, 'pos': 0.185, 'compound': 0.4902},\n",
       " {'neg': 0.0, 'neu': 1.0, 'pos': 0.0, 'compound': 0.0},\n",
       " {'neg': 0.0, 'neu': 1.0, 'pos': 0.0, 'compound': 0.0},\n",
       " {'neg': 0.0, 'neu': 0.828, 'pos': 0.172, 'compound': 0.3612},\n",
       " {'neg': 0.0, 'neu': 1.0, 'pos': 0.0, 'compound': 0.0},\n",
       " {'neg': 0.0, 'neu': 0.698, 'pos': 0.302, 'compound': 0.5994},\n",
       " {'neg': 0.0, 'neu': 1.0, 'pos': 0.0, 'compound': 0.0},\n",
       " {'neg': 0.0, 'neu': 0.76, 'pos': 0.24, 'compound': 0.6249},\n",
       " {'neg': 0.0, 'neu': 1.0, 'pos': 0.0, 'compound': 0.0},\n",
       " {'neg': 0.0, 'neu': 1.0, 'pos': 0.0, 'compound': 0.0},\n",
       " {'neg': 0.0, 'neu': 1.0, 'pos': 0.0, 'compound': 0.0},\n",
       " {'neg': 0.0, 'neu': 0.791, 'pos': 0.209, 'compound': 0.5719},\n",
       " {'neg': 0.0, 'neu': 0.769, 'pos': 0.231, 'compound': 0.2732},\n",
       " {'neg': 0.0, 'neu': 0.811, 'pos': 0.189, 'compound': 0.2732},\n",
       " {'neg': 0.0, 'neu': 1.0, 'pos': 0.0, 'compound': 0.0},\n",
       " {'neg': 0.0, 'neu': 0.725, 'pos': 0.275, 'compound': 0.4215},\n",
       " {'neg': 0.0, 'neu': 1.0, 'pos': 0.0, 'compound': 0.0},\n",
       " {'neg': 0.0, 'neu': 1.0, 'pos': 0.0, 'compound': 0.0},\n",
       " {'neg': 0.0, 'neu': 0.792, 'pos': 0.208, 'compound': 0.4939},\n",
       " {'neg': 0.0, 'neu': 1.0, 'pos': 0.0, 'compound': 0.0},\n",
       " {'neg': 0.0, 'neu': 1.0, 'pos': 0.0, 'compound': 0.0},\n",
       " {'neg': 0.147, 'neu': 0.853, 'pos': 0.0, 'compound': -0.2263},\n",
       " {'neg': 0.0, 'neu': 1.0, 'pos': 0.0, 'compound': 0.0},\n",
       " {'neg': 0.167, 'neu': 0.651, 'pos': 0.181, 'compound': 0.0772},\n",
       " {'neg': 0.0, 'neu': 1.0, 'pos': 0.0, 'compound': 0.0},\n",
       " {'neg': 0.239, 'neu': 0.761, 'pos': 0.0, 'compound': -0.296},\n",
       " {'neg': 1.0, 'neu': 0.0, 'pos': 0.0, 'compound': -0.4767},\n",
       " {'neg': 0.0, 'neu': 0.761, 'pos': 0.239, 'compound': 0.7684},\n",
       " {'neg': 0.0, 'neu': 0.554, 'pos': 0.446, 'compound': 0.8419},\n",
       " {'neg': 0.0, 'neu': 0.519, 'pos': 0.481, 'compound': 0.8126},\n",
       " {'neg': 0.0, 'neu': 1.0, 'pos': 0.0, 'compound': 0.0},\n",
       " {'neg': 0.0, 'neu': 1.0, 'pos': 0.0, 'compound': 0.0},\n",
       " {'neg': 0.0, 'neu': 0.0, 'pos': 1.0, 'compound': 0.5859},\n",
       " {'neg': 0.0, 'neu': 1.0, 'pos': 0.0, 'compound': 0.0},\n",
       " {'neg': 0.0, 'neu': 0.65, 'pos': 0.35, 'compound': 0.2846},\n",
       " {'neg': 0.0, 'neu': 1.0, 'pos': 0.0, 'compound': 0.0},\n",
       " {'neg': 0.0, 'neu': 1.0, 'pos': 0.0, 'compound': 0.0},\n",
       " {'neg': 0.0, 'neu': 1.0, 'pos': 0.0, 'compound': 0.0},\n",
       " {'neg': 0.18, 'neu': 0.82, 'pos': 0.0, 'compound': -0.296},\n",
       " {'neg': 0.0, 'neu': 0.867, 'pos': 0.133, 'compound': 0.6486},\n",
       " {'neg': 0.0, 'neu': 0.719, 'pos': 0.281, 'compound': 0.5994},\n",
       " {'neg': 0.0, 'neu': 1.0, 'pos': 0.0, 'compound': 0.0},\n",
       " {'neg': 0.0, 'neu': 0.891, 'pos': 0.109, 'compound': 0.4215},\n",
       " {'neg': 0.0, 'neu': 1.0, 'pos': 0.0, 'compound': 0.0},\n",
       " {'neg': 0.0, 'neu': 0.957, 'pos': 0.043, 'compound': 0.0772},\n",
       " {'neg': 0.0, 'neu': 1.0, 'pos': 0.0, 'compound': 0.0},\n",
       " {'neg': 0.0, 'neu': 0.784, 'pos': 0.216, 'compound': 0.7783},\n",
       " {'neg': 0.0, 'neu': 0.862, 'pos': 0.138, 'compound': 0.7906},\n",
       " {'neg': 0.0, 'neu': 0.747, 'pos': 0.253, 'compound': 0.9042},\n",
       " {'neg': 0.0, 'neu': 0.824, 'pos': 0.176, 'compound': 0.9668},\n",
       " {'neg': 0.0, 'neu': 1.0, 'pos': 0.0, 'compound': 0.0},\n",
       " {'neg': 0.0, 'neu': 1.0, 'pos': 0.0, 'compound': 0.0},\n",
       " {'neg': 0.0, 'neu': 1.0, 'pos': 0.0, 'compound': 0.0},\n",
       " {'neg': 0.0, 'neu': 1.0, 'pos': 0.0, 'compound': 0.0},\n",
       " {'neg': 0.0, 'neu': 0.815, 'pos': 0.185, 'compound': 0.3612},\n",
       " {'neg': 0.0, 'neu': 1.0, 'pos': 0.0, 'compound': 0.0},\n",
       " {'neg': 0.125, 'neu': 0.713, 'pos': 0.163, 'compound': 0.3597},\n",
       " {'neg': 0.0, 'neu': 1.0, 'pos': 0.0, 'compound': 0.0},\n",
       " {'neg': 0.0, 'neu': 1.0, 'pos': 0.0, 'compound': 0.0},\n",
       " {'neg': 0.0, 'neu': 0.917, 'pos': 0.083, 'compound': 0.4215},\n",
       " {'neg': 0.0, 'neu': 0.863, 'pos': 0.137, 'compound': 0.7184},\n",
       " {'neg': 0.0, 'neu': 0.423, 'pos': 0.577, 'compound': 0.6249},\n",
       " {'neg': 0.0, 'neu': 0.823, 'pos': 0.177, 'compound': 0.4371},\n",
       " {'neg': 0.0, 'neu': 1.0, 'pos': 0.0, 'compound': 0.0},\n",
       " {'neg': 0.0, 'neu': 1.0, 'pos': 0.0, 'compound': 0.0},\n",
       " {'neg': 0.0, 'neu': 1.0, 'pos': 0.0, 'compound': 0.0},\n",
       " {'neg': 0.243, 'neu': 0.757, 'pos': 0.0, 'compound': -0.5423},\n",
       " {'neg': 0.0, 'neu': 0.663, 'pos': 0.337, 'compound': 0.7269},\n",
       " {'neg': 0.0, 'neu': 0.671, 'pos': 0.329, 'compound': 0.5994},\n",
       " {'neg': 0.0, 'neu': 0.339, 'pos': 0.661, 'compound': 0.5994},\n",
       " {'neg': 0.0, 'neu': 1.0, 'pos': 0.0, 'compound': 0.0},\n",
       " {'neg': 0.0, 'neu': 0.77, 'pos': 0.23, 'compound': 0.5093},\n",
       " {'neg': 0.338, 'neu': 0.662, 'pos': 0.0, 'compound': -0.6814},\n",
       " {'neg': 0.0, 'neu': 1.0, 'pos': 0.0, 'compound': 0.0},\n",
       " {'neg': 0.0, 'neu': 0.895, 'pos': 0.105, 'compound': 0.3291},\n",
       " {'neg': 0.0, 'neu': 1.0, 'pos': 0.0, 'compound': 0.0},\n",
       " {'neg': 0.0, 'neu': 1.0, 'pos': 0.0, 'compound': 0.0},\n",
       " {'neg': 0.0, 'neu': 1.0, 'pos': 0.0, 'compound': 0.0},\n",
       " {'neg': 0.0, 'neu': 0.706, 'pos': 0.294, 'compound': 0.3612},\n",
       " {'neg': 0.0, 'neu': 1.0, 'pos': 0.0, 'compound': 0.0},\n",
       " {'neg': 0.0, 'neu': 1.0, 'pos': 0.0, 'compound': 0.0},\n",
       " {'neg': 0.0, 'neu': 1.0, 'pos': 0.0, 'compound': 0.0},\n",
       " {'neg': 0.0, 'neu': 1.0, 'pos': 0.0, 'compound': 0.0},\n",
       " {'neg': 0.0, 'neu': 0.748, 'pos': 0.252, 'compound': 0.4019},\n",
       " {'neg': 0.0, 'neu': 0.617, 'pos': 0.383, 'compound': 0.7717},\n",
       " {'neg': 0.345, 'neu': 0.655, 'pos': 0.0, 'compound': -0.2755},\n",
       " {'neg': 0.0, 'neu': 0.753, 'pos': 0.247, 'compound': 0.784},\n",
       " {'neg': 0.0, 'neu': 1.0, 'pos': 0.0, 'compound': 0.0},\n",
       " {'neg': 0.0, 'neu': 1.0, 'pos': 0.0, 'compound': 0.0},\n",
       " {'neg': 0.0, 'neu': 0.711, 'pos': 0.289, 'compound': 0.7845},\n",
       " {'neg': 0.0, 'neu': 1.0, 'pos': 0.0, 'compound': 0.0},\n",
       " {'neg': 0.0, 'neu': 0.362, 'pos': 0.638, 'compound': 0.7926},\n",
       " {'neg': 0.0, 'neu': 0.818, 'pos': 0.182, 'compound': 0.6652},\n",
       " {'neg': 0.0, 'neu': 0.909, 'pos': 0.091, 'compound': 0.3182},\n",
       " {'neg': 0.0, 'neu': 1.0, 'pos': 0.0, 'compound': 0.0},\n",
       " {'neg': 0.0, 'neu': 1.0, 'pos': 0.0, 'compound': 0.0},\n",
       " {'neg': 0.237, 'neu': 0.632, 'pos': 0.13, 'compound': -0.2924},\n",
       " {'neg': 0.075, 'neu': 0.794, 'pos': 0.131, 'compound': 0.34},\n",
       " {'neg': 0.0, 'neu': 0.701, 'pos': 0.299, 'compound': 0.6765},\n",
       " {'neg': 0.0, 'neu': 0.809, 'pos': 0.191, 'compound': 0.5106},\n",
       " {'neg': 0.0, 'neu': 0.524, 'pos': 0.476, 'compound': 0.8402},\n",
       " {'neg': 0.0, 'neu': 0.783, 'pos': 0.217, 'compound': 0.3612},\n",
       " {'neg': 0.211, 'neu': 0.789, 'pos': 0.0, 'compound': -0.34},\n",
       " {'neg': 0.0, 'neu': 1.0, 'pos': 0.0, 'compound': 0.0},\n",
       " {'neg': 0.0, 'neu': 0.63, 'pos': 0.37, 'compound': 0.8555},\n",
       " {'neg': 0.677, 'neu': 0.323, 'pos': 0.0, 'compound': -0.2732},\n",
       " {'neg': 0.0, 'neu': 1.0, 'pos': 0.0, 'compound': 0.0},\n",
       " {'neg': 0.0, 'neu': 0.826, 'pos': 0.174, 'compound': 0.2732},\n",
       " {'neg': 0.132, 'neu': 0.714, 'pos': 0.154, 'compound': 0.1012},\n",
       " {'neg': 0.0, 'neu': 0.68, 'pos': 0.32, 'compound': 0.5106},\n",
       " {'neg': 0.0, 'neu': 0.455, 'pos': 0.545, 'compound': 0.5574},\n",
       " {'neg': 0.0, 'neu': 0.672, 'pos': 0.328, 'compound': 0.5994},\n",
       " {'neg': 0.0, 'neu': 1.0, 'pos': 0.0, 'compound': 0.0},\n",
       " {'neg': 0.0, 'neu': 0.408, 'pos': 0.592, 'compound': 0.7783},\n",
       " {'neg': 0.0, 'neu': 0.612, 'pos': 0.388, 'compound': 0.2263},\n",
       " {'neg': 0.344, 'neu': 0.656, 'pos': 0.0, 'compound': -0.4847},\n",
       " {'neg': 0.0, 'neu': 1.0, 'pos': 0.0, 'compound': 0.0},\n",
       " {'neg': 0.0, 'neu': 0.902, 'pos': 0.098, 'compound': 0.34},\n",
       " {'neg': 0.0, 'neu': 1.0, 'pos': 0.0, 'compound': 0.0},\n",
       " {'neg': 0.0, 'neu': 1.0, 'pos': 0.0, 'compound': 0.0},\n",
       " {'neg': 0.0, 'neu': 0.678, 'pos': 0.322, 'compound': 0.6865},\n",
       " {'neg': 0.0, 'neu': 1.0, 'pos': 0.0, 'compound': 0.0},\n",
       " {'neg': 0.0, 'neu': 1.0, 'pos': 0.0, 'compound': 0.0},\n",
       " {'neg': 0.0, 'neu': 1.0, 'pos': 0.0, 'compound': 0.0},\n",
       " {'neg': 0.0, 'neu': 1.0, 'pos': 0.0, 'compound': 0.0},\n",
       " {'neg': 1.0, 'neu': 0.0, 'pos': 0.0, 'compound': -0.3612},\n",
       " {'neg': 0.0, 'neu': 0.389, 'pos': 0.611, 'compound': 0.9186},\n",
       " {'neg': 0.0, 'neu': 0.0, 'pos': 1.0, 'compound': 0.6249},\n",
       " {'neg': 0.0, 'neu': 1.0, 'pos': 0.0, 'compound': 0.0},\n",
       " {'neg': 0.0, 'neu': 1.0, 'pos': 0.0, 'compound': 0.0},\n",
       " {'neg': 0.0, 'neu': 1.0, 'pos': 0.0, 'compound': 0.0},\n",
       " {'neg': 0.0, 'neu': 1.0, 'pos': 0.0, 'compound': 0.0},\n",
       " {'neg': 0.0, 'neu': 0.762, 'pos': 0.238, 'compound': 0.3612},\n",
       " {'neg': 0.077, 'neu': 0.67, 'pos': 0.252, 'compound': 0.6639},\n",
       " {'neg': 0.0, 'neu': 0.44, 'pos': 0.56, 'compound': 0.6249},\n",
       " {'neg': 0.0, 'neu': 0.25, 'pos': 0.75, 'compound': 0.4576},\n",
       " {'neg': 0.0, 'neu': 0.822, 'pos': 0.178, 'compound': 0.5499},\n",
       " {'neg': 0.0, 'neu': 0.82, 'pos': 0.18, 'compound': 0.5106},\n",
       " {'neg': 0.0, 'neu': 1.0, 'pos': 0.0, 'compound': 0.0},\n",
       " {'neg': 0.0, 'neu': 0.549, 'pos': 0.451, 'compound': 0.6249},\n",
       " {'neg': 0.0, 'neu': 1.0, 'pos': 0.0, 'compound': 0.0},\n",
       " {'neg': 0.205, 'neu': 0.468, 'pos': 0.327, 'compound': 0.3761},\n",
       " {'neg': 0.0, 'neu': 1.0, 'pos': 0.0, 'compound': 0.0},\n",
       " {'neg': 0.219, 'neu': 0.781, 'pos': 0.0, 'compound': -0.4215},\n",
       " {'neg': 0.0, 'neu': 1.0, 'pos': 0.0, 'compound': 0.0},\n",
       " {'neg': 0.0, 'neu': 1.0, 'pos': 0.0, 'compound': 0.0},\n",
       " {'neg': 0.0, 'neu': 0.719, 'pos': 0.281, 'compound': 0.5994},\n",
       " {'neg': 0.0, 'neu': 0.762, 'pos': 0.238, 'compound': 0.6486},\n",
       " {'neg': 0.0, 'neu': 0.786, 'pos': 0.214, 'compound': 0.5994},\n",
       " {'neg': 0.0, 'neu': 0.339, 'pos': 0.661, 'compound': 0.5994},\n",
       " {'neg': 0.0, 'neu': 1.0, 'pos': 0.0, 'compound': 0.0},\n",
       " {'neg': 0.0, 'neu': 0.844, 'pos': 0.156, 'compound': 0.3802},\n",
       " {'neg': 0.0, 'neu': 0.748, 'pos': 0.252, 'compound': 0.5719},\n",
       " {'neg': 0.0, 'neu': 1.0, 'pos': 0.0, 'compound': 0.0},\n",
       " {'neg': 0.0, 'neu': 1.0, 'pos': 0.0, 'compound': 0.0},\n",
       " {'neg': 0.0, 'neu': 0.851, 'pos': 0.149, 'compound': 0.6369},\n",
       " {'neg': 0.0, 'neu': 0.792, 'pos': 0.208, 'compound': 0.8091},\n",
       " {'neg': 0.089, 'neu': 0.844, 'pos': 0.067, 'compound': 0.0276},\n",
       " {'neg': 0.0, 'neu': 1.0, 'pos': 0.0, 'compound': 0.0},\n",
       " {'neg': 0.0, 'neu': 0.69, 'pos': 0.31, 'compound': 0.5563},\n",
       " {'neg': 0.0, 'neu': 0.769, 'pos': 0.231, 'compound': 0.7184},\n",
       " {'neg': 0.0, 'neu': 0.385, 'pos': 0.615, 'compound': 0.8625},\n",
       " {'neg': 0.0, 'neu': 0.787, 'pos': 0.213, 'compound': 0.4019},\n",
       " {'neg': 0.0, 'neu': 0.636, 'pos': 0.364, 'compound': 0.743},\n",
       " {'neg': 0.0, 'neu': 1.0, 'pos': 0.0, 'compound': 0.0},\n",
       " {'neg': 0.0, 'neu': 0.74, 'pos': 0.26, 'compound': 0.7925},\n",
       " {'neg': 0.0, 'neu': 0.782, 'pos': 0.218, 'compound': 0.5994},\n",
       " {'neg': 0.0, 'neu': 1.0, 'pos': 0.0, 'compound': 0.0},\n",
       " {'neg': 0.0, 'neu': 1.0, 'pos': 0.0, 'compound': 0.0},\n",
       " {'neg': 0.0, 'neu': 1.0, 'pos': 0.0, 'compound': 0.0},\n",
       " {'neg': 0.0, 'neu': 0.66, 'pos': 0.34, 'compound': 0.4754},\n",
       " {'neg': 0.0, 'neu': 1.0, 'pos': 0.0, 'compound': 0.0},\n",
       " {'neg': 0.0, 'neu': 0.507, 'pos': 0.493, 'compound': 0.5974},\n",
       " {'neg': 0.0, 'neu': 0.674, 'pos': 0.326, 'compound': 0.4404},\n",
       " {'neg': 0.0, 'neu': 1.0, 'pos': 0.0, 'compound': 0.0},\n",
       " {'neg': 0.0, 'neu': 1.0, 'pos': 0.0, 'compound': 0.0},\n",
       " {'neg': 0.0, 'neu': 0.715, 'pos': 0.285, 'compound': 0.4927},\n",
       " {'neg': 0.0, 'neu': 0.461, 'pos': 0.539, 'compound': 0.8011},\n",
       " {'neg': 0.0, 'neu': 0.448, 'pos': 0.552, 'compound': 0.7506},\n",
       " {'neg': 0.0, 'neu': 1.0, 'pos': 0.0, 'compound': 0.0},\n",
       " {'neg': 0.0, 'neu': 1.0, 'pos': 0.0, 'compound': 0.0},\n",
       " {'neg': 0.0, 'neu': 0.639, 'pos': 0.361, 'compound': 0.5256},\n",
       " {'neg': 0.0, 'neu': 1.0, 'pos': 0.0, 'compound': 0.0},\n",
       " {'neg': 0.018, 'neu': 0.804, 'pos': 0.178, 'compound': 0.9563},\n",
       " {'neg': 0.0, 'neu': 1.0, 'pos': 0.0, 'compound': 0.0},\n",
       " {'neg': 0.0, 'neu': 1.0, 'pos': 0.0, 'compound': 0.0},\n",
       " {'neg': 0.0, 'neu': 0.538, 'pos': 0.462, 'compound': 0.9001},\n",
       " {'neg': 0.0, 'neu': 0.82, 'pos': 0.18, 'compound': 0.5106},\n",
       " {'neg': 0.0, 'neu': 0.827, 'pos': 0.173, 'compound': 0.3278},\n",
       " {'neg': 0.0, 'neu': 0.864, 'pos': 0.136, 'compound': 0.5106},\n",
       " {'neg': 0.0, 'neu': 0.888, 'pos': 0.112, 'compound': 0.4456},\n",
       " {'neg': 0.0, 'neu': 0.744, 'pos': 0.256, 'compound': 0.7574},\n",
       " {'neg': 0.0, 'neu': 1.0, 'pos': 0.0, 'compound': 0.0},\n",
       " {'neg': 0.0, 'neu': 0.393, 'pos': 0.607, 'compound': 0.4754},\n",
       " {'neg': 0.0, 'neu': 0.853, 'pos': 0.147, 'compound': 0.5859},\n",
       " {'neg': 0.189, 'neu': 0.811, 'pos': 0.0, 'compound': -0.1027},\n",
       " {'neg': 0.0, 'neu': 1.0, 'pos': 0.0, 'compound': 0.0},\n",
       " {'neg': 0.0, 'neu': 1.0, 'pos': 0.0, 'compound': 0.0},\n",
       " {'neg': 0.0, 'neu': 0.364, 'pos': 0.636, 'compound': 0.5423},\n",
       " {'neg': 0.0, 'neu': 0.526, 'pos': 0.474, 'compound': 0.4019},\n",
       " {'neg': 0.0, 'neu': 0.633, 'pos': 0.367, 'compound': 0.4404},\n",
       " {'neg': 0.0, 'neu': 0.494, 'pos': 0.506, 'compound': 0.6249},\n",
       " {'neg': 0.0, 'neu': 1.0, 'pos': 0.0, 'compound': 0.0},\n",
       " {'neg': 0.0, 'neu': 0.722, 'pos': 0.278, 'compound': 0.6597},\n",
       " {'neg': 0.0, 'neu': 1.0, 'pos': 0.0, 'compound': 0.0},\n",
       " {'neg': 0.0, 'neu': 0.774, 'pos': 0.226, 'compound': 0.4215},\n",
       " {'neg': 0.0, 'neu': 0.515, 'pos': 0.485, 'compound': 0.9217},\n",
       " {'neg': 0.0, 'neu': 0.676, 'pos': 0.324, 'compound': 0.3382},\n",
       " {'neg': 0.467, 'neu': 0.533, 'pos': 0.0, 'compound': -0.6435},\n",
       " {'neg': 0.0, 'neu': 0.61, 'pos': 0.39, 'compound': 0.4939},\n",
       " {'neg': 0.0, 'neu': 0.574, 'pos': 0.426, 'compound': 0.7713},\n",
       " {'neg': 0.0, 'neu': 0.208, 'pos': 0.792, 'compound': 0.5859},\n",
       " {'neg': 0.0, 'neu': 0.661, 'pos': 0.339, 'compound': 0.6249},\n",
       " {'neg': 0.0, 'neu': 0.728, 'pos': 0.272, 'compound': 0.6808},\n",
       " {'neg': 0.0, 'neu': 0.517, 'pos': 0.483, 'compound': 0.4215},\n",
       " {'neg': 0.0, 'neu': 0.52, 'pos': 0.48, 'compound': 0.7548},\n",
       " {'neg': 0.0, 'neu': 0.633, 'pos': 0.367, 'compound': 0.4404},\n",
       " {'neg': 0.0, 'neu': 0.57, 'pos': 0.43, 'compound': 0.7003},\n",
       " {'neg': 0.0, 'neu': 0.914, 'pos': 0.086, 'compound': 0.4404},\n",
       " {'neg': 0.125, 'neu': 0.625, 'pos': 0.25, 'compound': 0.4926},\n",
       " {'neg': 0.272, 'neu': 0.728, 'pos': 0.0, 'compound': -0.4574},\n",
       " {'neg': 0.0, 'neu': 1.0, 'pos': 0.0, 'compound': 0.0},\n",
       " {'neg': 0.102, 'neu': 0.744, 'pos': 0.153, 'compound': 0.2732},\n",
       " {'neg': 0.234, 'neu': 0.766, 'pos': 0.0, 'compound': -0.5216},\n",
       " {'neg': 0.0, 'neu': 0.864, 'pos': 0.136, 'compound': 0.5106},\n",
       " {'neg': 0.0, 'neu': 0.94, 'pos': 0.06, 'compound': 0.3182},\n",
       " {'neg': 0.0, 'neu': 0.645, 'pos': 0.355, 'compound': 0.9001},\n",
       " {'neg': 0.0, 'neu': 0.631, 'pos': 0.369, 'compound': 0.6249},\n",
       " {'neg': 0.0, 'neu': 1.0, 'pos': 0.0, 'compound': 0.0},\n",
       " {'neg': 0.0, 'neu': 0.408, 'pos': 0.592, 'compound': 0.4404},\n",
       " {'neg': 0.0, 'neu': 0.408, 'pos': 0.592, 'compound': 0.4404},\n",
       " {'neg': 0.0, 'neu': 0.429, 'pos': 0.571, 'compound': 0.6114},\n",
       " {'neg': 0.0, 'neu': 0.536, 'pos': 0.464, 'compound': 0.5367},\n",
       " {'neg': 0.0, 'neu': 1.0, 'pos': 0.0, 'compound': 0.0},\n",
       " {'neg': 0.114, 'neu': 0.674, 'pos': 0.212, 'compound': 0.4404},\n",
       " {'neg': 0.0, 'neu': 0.937, 'pos': 0.063, 'compound': 0.3182},\n",
       " {'neg': 0.178, 'neu': 0.792, 'pos': 0.03, 'compound': -0.7506},\n",
       " {'neg': 0.0, 'neu': 1.0, 'pos': 0.0, 'compound': 0.0},\n",
       " {'neg': 0.098, 'neu': 0.714, 'pos': 0.188, 'compound': 0.4588},\n",
       " {'neg': 0.241, 'neu': 0.759, 'pos': 0.0, 'compound': -0.2263},\n",
       " {'neg': 0.156, 'neu': 0.844, 'pos': 0.0, 'compound': -0.5423},\n",
       " {'neg': 0.0, 'neu': 0.7, 'pos': 0.3, 'compound': 0.6467},\n",
       " {'neg': 0.0, 'neu': 0.456, 'pos': 0.544, 'compound': 0.7157},\n",
       " {'neg': 0.0, 'neu': 0.74, 'pos': 0.26, 'compound': 0.6784},\n",
       " {'neg': 0.0, 'neu': 0.705, 'pos': 0.295, 'compound': 0.6351},\n",
       " {'neg': 0.0, 'neu': 1.0, 'pos': 0.0, 'compound': 0.0},\n",
       " {'neg': 0.0, 'neu': 0.462, 'pos': 0.538, 'compound': 0.5411},\n",
       " {'neg': 0.0, 'neu': 0.687, 'pos': 0.313, 'compound': 0.4927},\n",
       " {'neg': 0.0, 'neu': 0.565, 'pos': 0.435, 'compound': 0.6597},\n",
       " {'neg': 0.0, 'neu': 0.828, 'pos': 0.172, 'compound': 0.4404},\n",
       " {'neg': 0.0, 'neu': 0.775, 'pos': 0.225, 'compound': 0.4939},\n",
       " {'neg': 0.0, 'neu': 1.0, 'pos': 0.0, 'compound': 0.0},\n",
       " {'neg': 0.454, 'neu': 0.546, 'pos': 0.0, 'compound': -0.3595},\n",
       " {'neg': 0.182, 'neu': 0.818, 'pos': 0.0, 'compound': -0.4404},\n",
       " {'neg': 0.0, 'neu': 1.0, 'pos': 0.0, 'compound': 0.0},\n",
       " {'neg': 0.0, 'neu': 0.81, 'pos': 0.19, 'compound': 0.2755},\n",
       " {'neg': 0.368, 'neu': 0.27, 'pos': 0.361, 'compound': -0.0258},\n",
       " {'neg': 0.0, 'neu': 1.0, 'pos': 0.0, 'compound': 0.0},\n",
       " {'neg': 1.0, 'neu': 0.0, 'pos': 0.0, 'compound': -0.4767},\n",
       " {'neg': 0.236, 'neu': 0.449, 'pos': 0.315, 'compound': 0.1779},\n",
       " {'neg': 0.183, 'neu': 0.564, 'pos': 0.252, 'compound': 0.2449},\n",
       " {'neg': 0.0, 'neu': 1.0, 'pos': 0.0, 'compound': 0.0},\n",
       " {'neg': 0.0, 'neu': 1.0, 'pos': 0.0, 'compound': 0.0},\n",
       " {'neg': 0.0, 'neu': 0.871, 'pos': 0.129, 'compound': 0.6114},\n",
       " {'neg': 0.0, 'neu': 1.0, 'pos': 0.0, 'compound': 0.0},\n",
       " {'neg': 0.0, 'neu': 0.682, 'pos': 0.318, 'compound': 0.4215},\n",
       " {'neg': 0.058, 'neu': 0.799, 'pos': 0.143, 'compound': 0.3975},\n",
       " {'neg': 0.0, 'neu': 1.0, 'pos': 0.0, 'compound': 0.0},\n",
       " {'neg': 0.0, 'neu': 0.204, 'pos': 0.796, 'compound': 0.5994},\n",
       " {'neg': 0.0, 'neu': 1.0, 'pos': 0.0, 'compound': 0.0},\n",
       " {'neg': 0.0, 'neu': 0.743, 'pos': 0.257, 'compound': 0.5859},\n",
       " {'neg': 0.0, 'neu': 1.0, 'pos': 0.0, 'compound': 0.0},\n",
       " {'neg': 0.0, 'neu': 1.0, 'pos': 0.0, 'compound': 0.0},\n",
       " {'neg': 0.0, 'neu': 1.0, 'pos': 0.0, 'compound': 0.0},\n",
       " {'neg': 0.0, 'neu': 0.417, 'pos': 0.583, 'compound': 0.4201},\n",
       " {'neg': 0.0, 'neu': 1.0, 'pos': 0.0, 'compound': 0.0},\n",
       " {'neg': 0.0, 'neu': 1.0, 'pos': 0.0, 'compound': 0.0},\n",
       " {'neg': 0.0, 'neu': 1.0, 'pos': 0.0, 'compound': 0.0},\n",
       " {'neg': 0.0, 'neu': 1.0, 'pos': 0.0, 'compound': 0.0},\n",
       " {'neg': 0.0, 'neu': 0.87, 'pos': 0.13, 'compound': 0.3384},\n",
       " {'neg': 0.0, 'neu': 1.0, 'pos': 0.0, 'compound': 0.0},\n",
       " {'neg': 0.0, 'neu': 0.86, 'pos': 0.14, 'compound': 0.5023},\n",
       " {'neg': 0.0, 'neu': 0.826, 'pos': 0.174, 'compound': 0.6901},\n",
       " {'neg': 0.0, 'neu': 0.563, 'pos': 0.437, 'compound': 0.7351},\n",
       " {'neg': 0.0, 'neu': 0.159, 'pos': 0.841, 'compound': 0.6486},\n",
       " {'neg': 0.0, 'neu': 0.873, 'pos': 0.127, 'compound': 0.7269},\n",
       " {'neg': 0.148, 'neu': 0.852, 'pos': 0.0, 'compound': -0.5096},\n",
       " {'neg': 0.0, 'neu': 1.0, 'pos': 0.0, 'compound': 0.0},\n",
       " {'neg': 0.219, 'neu': 0.781, 'pos': 0.0, 'compound': -0.4754},\n",
       " {'neg': 0.057, 'neu': 0.891, 'pos': 0.053, 'compound': -0.0258},\n",
       " {'neg': 0.109, 'neu': 0.891, 'pos': 0.0, 'compound': -0.4215},\n",
       " {'neg': 0.0, 'neu': 1.0, 'pos': 0.0, 'compound': 0.0},\n",
       " {'neg': 0.0, 'neu': 1.0, 'pos': 0.0, 'compound': 0.0},\n",
       " {'neg': 0.0, 'neu': 0.0, 'pos': 1.0, 'compound': 0.5106},\n",
       " {'neg': 0.0, 'neu': 1.0, 'pos': 0.0, 'compound': 0.0},\n",
       " {'neg': 0.0, 'neu': 1.0, 'pos': 0.0, 'compound': 0.0},\n",
       " {'neg': 0.0, 'neu': 0.833, 'pos': 0.167, 'compound': 0.3818},\n",
       " {'neg': 0.097, 'neu': 0.903, 'pos': 0.0, 'compound': -0.4767},\n",
       " {'neg': 0.0, 'neu': 1.0, 'pos': 0.0, 'compound': 0.0},\n",
       " {'neg': 0.0, 'neu': 0.339, 'pos': 0.661, 'compound': 0.5994},\n",
       " {'neg': 0.0, 'neu': 1.0, 'pos': 0.0, 'compound': 0.0},\n",
       " {'neg': 0.0, 'neu': 1.0, 'pos': 0.0, 'compound': 0.0},\n",
       " {'neg': 0.0, 'neu': 1.0, 'pos': 0.0, 'compound': 0.0},\n",
       " {'neg': 0.0, 'neu': 1.0, 'pos': 0.0, 'compound': 0.0},\n",
       " {'neg': 0.0, 'neu': 1.0, 'pos': 0.0, 'compound': 0.0},\n",
       " {'neg': 0.0, 'neu': 0.482, 'pos': 0.518, 'compound': 0.5093},\n",
       " {'neg': 0.0, 'neu': 0.672, 'pos': 0.328, 'compound': 0.5994},\n",
       " {'neg': 0.0, 'neu': 1.0, 'pos': 0.0, 'compound': 0.0},\n",
       " {'neg': 0.0, 'neu': 0.58, 'pos': 0.42, 'compound': 0.4404},\n",
       " {'neg': 0.0, 'neu': 0.677, 'pos': 0.323, 'compound': 0.6486},\n",
       " {'neg': 0.0, 'neu': 1.0, 'pos': 0.0, 'compound': 0.0},\n",
       " {'neg': 0.0, 'neu': 1.0, 'pos': 0.0, 'compound': 0.0},\n",
       " {'neg': 0.0, 'neu': 0.76, 'pos': 0.24, 'compound': 0.6249},\n",
       " {'neg': 0.0, 'neu': 1.0, 'pos': 0.0, 'compound': 0.0},\n",
       " {'neg': 0.0, 'neu': 1.0, 'pos': 0.0, 'compound': 0.0},\n",
       " {'neg': 0.0, 'neu': 0.663, 'pos': 0.337, 'compound': 0.7269},\n",
       " {'neg': 0.0, 'neu': 1.0, 'pos': 0.0, 'compound': 0.0},\n",
       " {'neg': 0.0, 'neu': 1.0, 'pos': 0.0, 'compound': 0.0},\n",
       " {'neg': 0.0, 'neu': 0.769, 'pos': 0.231, 'compound': 0.34},\n",
       " {'neg': 0.0, 'neu': 0.527, 'pos': 0.473, 'compound': 0.4003},\n",
       " {'neg': 0.054, 'neu': 0.805, 'pos': 0.141, 'compound': 0.8067},\n",
       " {'neg': 0.0, 'neu': 0.233, 'pos': 0.767, 'compound': 0.5106},\n",
       " {'neg': 0.0, 'neu': 0.647, 'pos': 0.353, 'compound': 0.7177},\n",
       " {'neg': 0.272, 'neu': 0.371, 'pos': 0.357, 'compound': 0.1759},\n",
       " {'neg': 0.0, 'neu': 0.575, 'pos': 0.425, 'compound': 0.5707},\n",
       " {'neg': 0.0, 'neu': 0.5, 'pos': 0.5, 'compound': 0.7184},\n",
       " {'neg': 0.0, 'neu': 0.491, 'pos': 0.509, 'compound': 0.8854},\n",
       " {'neg': 0.0, 'neu': 0.859, 'pos': 0.141, 'compound': 0.4201},\n",
       " {'neg': 0.0, 'neu': 1.0, 'pos': 0.0, 'compound': 0.0},\n",
       " {'neg': 0.0, 'neu': 1.0, 'pos': 0.0, 'compound': 0.0},\n",
       " {'neg': 0.0, 'neu': 1.0, 'pos': 0.0, 'compound': 0.0},\n",
       " {'neg': 0.0, 'neu': 1.0, 'pos': 0.0, 'compound': 0.0},\n",
       " {'neg': 0.0, 'neu': 1.0, 'pos': 0.0, 'compound': 0.0},\n",
       " {'neg': 0.0, 'neu': 0.546, 'pos': 0.454, 'compound': 0.7688},\n",
       " {'neg': 0.0, 'neu': 1.0, 'pos': 0.0, 'compound': 0.0},\n",
       " {'neg': 0.0, 'neu': 0.674, 'pos': 0.326, 'compound': 0.4404},\n",
       " {'neg': 0.0, 'neu': 0.704, 'pos': 0.296, 'compound': 0.2732},\n",
       " {'neg': 0.0, 'neu': 0.821, 'pos': 0.179, 'compound': 0.34},\n",
       " {'neg': 0.0, 'neu': 0.761, 'pos': 0.239, 'compound': 0.2235},\n",
       " {'neg': 0.0, 'neu': 0.84, 'pos': 0.16, 'compound': 0.2732},\n",
       " {'neg': 0.236, 'neu': 0.54, 'pos': 0.224, 'compound': -0.0883},\n",
       " {'neg': 0.0, 'neu': 0.328, 'pos': 0.672, 'compound': 0.6249},\n",
       " {'neg': 0.0, 'neu': 0.49, 'pos': 0.51, 'compound': 0.6369},\n",
       " {'neg': 0.117, 'neu': 0.762, 'pos': 0.122, 'compound': 0.024},\n",
       " {'neg': 0.0, 'neu': 1.0, 'pos': 0.0, 'compound': 0.0},\n",
       " {'neg': 0.0, 'neu': 1.0, 'pos': 0.0, 'compound': 0.0},\n",
       " {'neg': 0.0, 'neu': 0.734, 'pos': 0.266, 'compound': 0.4404},\n",
       " {'neg': 0.0, 'neu': 0.785, 'pos': 0.215, 'compound': 0.6361},\n",
       " {'neg': 0.0, 'neu': 0.738, 'pos': 0.262, 'compound': 0.9398},\n",
       " {'neg': 0.0, 'neu': 0.787, 'pos': 0.213, 'compound': 0.5574},\n",
       " {'neg': 0.03, 'neu': 0.786, 'pos': 0.184, 'compound': 0.885},\n",
       " {'neg': 0.0, 'neu': 0.868, 'pos': 0.132, 'compound': 0.7003},\n",
       " {'neg': 0.0, 'neu': 0.85, 'pos': 0.15, 'compound': 0.5719},\n",
       " {'neg': 0.0, 'neu': 1.0, 'pos': 0.0, 'compound': 0.0},\n",
       " {'neg': 0.081, 'neu': 0.805, 'pos': 0.114, 'compound': -0.0187},\n",
       " {'neg': 0.0, 'neu': 0.625, 'pos': 0.375, 'compound': 0.6369},\n",
       " {'neg': 0.0, 'neu': 0.742, 'pos': 0.258, 'compound': 0.7096},\n",
       " {'neg': 0.164, 'neu': 0.836, 'pos': 0.0, 'compound': -0.4497},\n",
       " {'neg': 0.0, 'neu': 0.735, 'pos': 0.265, 'compound': 0.6197},\n",
       " {'neg': 0.0, 'neu': 1.0, 'pos': 0.0, 'compound': 0.0},\n",
       " {'neg': 0.0, 'neu': 0.857, 'pos': 0.143, 'compound': 0.128},\n",
       " {'neg': 0.0, 'neu': 1.0, 'pos': 0.0, 'compound': 0.0},\n",
       " {'neg': 0.153, 'neu': 0.764, 'pos': 0.083, 'compound': -0.25},\n",
       " {'neg': 0.0, 'neu': 1.0, 'pos': 0.0, 'compound': 0.0},\n",
       " {'neg': 0.0, 'neu': 1.0, 'pos': 0.0, 'compound': 0.0},\n",
       " {'neg': 0.18, 'neu': 0.82, 'pos': 0.0, 'compound': -0.5096},\n",
       " {'neg': 0.0, 'neu': 0.818, 'pos': 0.182, 'compound': 0.4404},\n",
       " {'neg': 0.247, 'neu': 0.29, 'pos': 0.463, 'compound': 0.3595},\n",
       " {'neg': 0.147, 'neu': 0.776, 'pos': 0.078, 'compound': -0.4019},\n",
       " {'neg': 0.0, 'neu': 1.0, 'pos': 0.0, 'compound': 0.0},\n",
       " {'neg': 0.0, 'neu': 0.874, 'pos': 0.126, 'compound': 0.0772},\n",
       " {'neg': 0.0, 'neu': 1.0, 'pos': 0.0, 'compound': 0.0},\n",
       " {'neg': 0.0, 'neu': 0.745, 'pos': 0.255, 'compound': 0.6249},\n",
       " {'neg': 0.217, 'neu': 0.783, 'pos': 0.0, 'compound': -0.5574},\n",
       " {'neg': 0.085, 'neu': 0.78, 'pos': 0.134, 'compound': 0.3392},\n",
       " {'neg': 0.0, 'neu': 0.945, 'pos': 0.055, 'compound': 0.1139},\n",
       " {'neg': 0.0, 'neu': 0.737, 'pos': 0.263, 'compound': 0.3612},\n",
       " {'neg': 0.0, 'neu': 1.0, 'pos': 0.0, 'compound': 0.0},\n",
       " {'neg': 0.0, 'neu': 0.764, 'pos': 0.236, 'compound': 0.7574},\n",
       " {'neg': 0.0, 'neu': 1.0, 'pos': 0.0, 'compound': 0.0},\n",
       " {'neg': 0.108, 'neu': 0.784, 'pos': 0.108, 'compound': 0.0},\n",
       " {'neg': 0.0, 'neu': 0.834, 'pos': 0.166, 'compound': 0.2944},\n",
       " {'neg': 0.0, 'neu': 0.599, 'pos': 0.401, 'compound': 0.7713},\n",
       " {'neg': 0.0, 'neu': 0.815, 'pos': 0.185, 'compound': 0.3612},\n",
       " {'neg': 0.0, 'neu': 0.235, 'pos': 0.765, 'compound': 0.7579},\n",
       " {'neg': 0.0, 'neu': 0.446, 'pos': 0.554, 'compound': 0.7351},\n",
       " {'neg': 0.0, 'neu': 1.0, 'pos': 0.0, 'compound': 0.0},\n",
       " {'neg': 0.0, 'neu': 1.0, 'pos': 0.0, 'compound': 0.0},\n",
       " {'neg': 0.0, 'neu': 0.824, 'pos': 0.176, 'compound': 0.4588},\n",
       " {'neg': 0.11, 'neu': 0.89, 'pos': 0.0, 'compound': -0.5719},\n",
       " {'neg': 0.0, 'neu': 1.0, 'pos': 0.0, 'compound': 0.0},\n",
       " {'neg': 0.0, 'neu': 0.794, 'pos': 0.206, 'compound': 0.5994},\n",
       " {'neg': 0.1, 'neu': 0.728, 'pos': 0.172, 'compound': 0.2244},\n",
       " {'neg': 0.055, 'neu': 0.701, 'pos': 0.244, 'compound': 0.8201},\n",
       " {'neg': 0.0, 'neu': 1.0, 'pos': 0.0, 'compound': 0.0},\n",
       " {'neg': 0.0, 'neu': 1.0, 'pos': 0.0, 'compound': 0.0},\n",
       " {'neg': 0.0, 'neu': 0.884, 'pos': 0.116, 'compound': 0.3612},\n",
       " {'neg': 0.0, 'neu': 0.881, 'pos': 0.119, 'compound': 0.2263},\n",
       " {'neg': 0.186, 'neu': 0.658, 'pos': 0.156, 'compound': -0.2212},\n",
       " {'neg': 0.0, 'neu': 1.0, 'pos': 0.0, 'compound': 0.0},\n",
       " {'neg': 0.125, 'neu': 0.612, 'pos': 0.263, 'compound': 0.5023},\n",
       " {'neg': 0.0, 'neu': 0.75, 'pos': 0.25, 'compound': 0.7184},\n",
       " {'neg': 0.0, 'neu': 0.58, 'pos': 0.42, 'compound': 0.4404},\n",
       " {'neg': 0.0, 'neu': 0.789, 'pos': 0.211, 'compound': 0.4939},\n",
       " {'neg': 0.206, 'neu': 0.794, 'pos': 0.0, 'compound': -0.5216},\n",
       " {'neg': 0.0, 'neu': 0.37, 'pos': 0.63, 'compound': 0.6249},\n",
       " {'neg': 0.0, 'neu': 0.49, 'pos': 0.51, 'compound': 0.743},\n",
       " {'neg': 0.0, 'neu': 0.841, 'pos': 0.159, 'compound': 0.6689},\n",
       " {'neg': 0.0, 'neu': 0.773, 'pos': 0.227, 'compound': 0.4767},\n",
       " {'neg': 0.0, 'neu': 0.752, 'pos': 0.248, 'compound': 0.5106},\n",
       " {'neg': 0.0, 'neu': 1.0, 'pos': 0.0, 'compound': 0.0},\n",
       " {'neg': 0.0, 'neu': 1.0, 'pos': 0.0, 'compound': 0.0},\n",
       " {'neg': 0.0, 'neu': 1.0, 'pos': 0.0, 'compound': 0.0},\n",
       " {'neg': 0.0, 'neu': 1.0, 'pos': 0.0, 'compound': 0.0},\n",
       " {'neg': 0.0, 'neu': 1.0, 'pos': 0.0, 'compound': 0.0},\n",
       " {'neg': 0.0, 'neu': 1.0, 'pos': 0.0, 'compound': 0.0},\n",
       " {'neg': 0.0, 'neu': 1.0, 'pos': 0.0, 'compound': 0.0},\n",
       " {'neg': 0.0, 'neu': 0.839, 'pos': 0.161, 'compound': 0.5267},\n",
       " {'neg': 0.0, 'neu': 0.73, 'pos': 0.27, 'compound': 0.4509},\n",
       " {'neg': 0.0, 'neu': 0.494, 'pos': 0.506, 'compound': 0.6249},\n",
       " {'neg': 0.0, 'neu': 1.0, 'pos': 0.0, 'compound': 0.0},\n",
       " {'neg': 0.173, 'neu': 0.676, 'pos': 0.151, 'compound': -0.144},\n",
       " {'neg': 0.067, 'neu': 0.741, 'pos': 0.192, 'compound': 0.872},\n",
       " {'neg': 0.0, 'neu': 1.0, 'pos': 0.0, 'compound': 0.0},\n",
       " {'neg': 0.0, 'neu': 0.792, 'pos': 0.208, 'compound': 0.699},\n",
       " {'neg': 0.0, 'neu': 0.771, 'pos': 0.229, 'compound': 0.617},\n",
       " {'neg': 0.0, 'neu': 1.0, 'pos': 0.0, 'compound': 0.0},\n",
       " {'neg': 0.0, 'neu': 0.877, 'pos': 0.123, 'compound': 0.4215},\n",
       " {'neg': 0.0, 'neu': 1.0, 'pos': 0.0, 'compound': 0.0},\n",
       " {'neg': 0.0, 'neu': 0.805, 'pos': 0.195, 'compound': 0.6249},\n",
       " {'neg': 0.171, 'neu': 0.829, 'pos': 0.0, 'compound': -0.5096},\n",
       " {'neg': 0.0, 'neu': 0.681, 'pos': 0.319, 'compound': 0.7269},\n",
       " {'neg': 0.0, 'neu': 0.747, 'pos': 0.253, 'compound': 0.7269},\n",
       " {'neg': 0.146, 'neu': 0.625, 'pos': 0.229, 'compound': 0.296},\n",
       " {'neg': 0.0, 'neu': 0.802, 'pos': 0.198, 'compound': 0.6369},\n",
       " {'neg': 0.0, 'neu': 0.484, 'pos': 0.516, 'compound': 0.4939},\n",
       " {'neg': 0.0, 'neu': 1.0, 'pos': 0.0, 'compound': 0.0},\n",
       " {'neg': 0.0, 'neu': 0.588, 'pos': 0.412, 'compound': 0.4215},\n",
       " {'neg': 0.0, 'neu': 0.796, 'pos': 0.204, 'compound': 0.6249},\n",
       " {'neg': 0.0, 'neu': 1.0, 'pos': 0.0, 'compound': 0.0},\n",
       " {'neg': 0.0, 'neu': 0.894, 'pos': 0.106, 'compound': 0.3612},\n",
       " {'neg': 0.0, 'neu': 0.853, 'pos': 0.147, 'compound': 0.6486},\n",
       " {'neg': 0.0, 'neu': 0.791, 'pos': 0.209, 'compound': 0.4877},\n",
       " {'neg': 0.0, 'neu': 0.435, 'pos': 0.565, 'compound': 0.8316},\n",
       " {'neg': 0.0, 'neu': 1.0, 'pos': 0.0, 'compound': 0.0},\n",
       " {'neg': 0.205, 'neu': 0.622, 'pos': 0.173, 'compound': 0.1628},\n",
       " {'neg': 0.0, 'neu': 0.196, 'pos': 0.804, 'compound': 0.6249},\n",
       " {'neg': 0.0, 'neu': 1.0, 'pos': 0.0, 'compound': 0.0},\n",
       " {'neg': 0.0, 'neu': 0.566, 'pos': 0.434, 'compound': 0.7845},\n",
       " {'neg': 0.0, 'neu': 1.0, 'pos': 0.0, 'compound': 0.0},\n",
       " {'neg': 0.0, 'neu': 1.0, 'pos': 0.0, 'compound': 0.0},\n",
       " {'neg': 0.0, 'neu': 0.939, 'pos': 0.061, 'compound': 0.1779},\n",
       " {'neg': 0.0, 'neu': 1.0, 'pos': 0.0, 'compound': 0.0},\n",
       " {'neg': 0.0, 'neu': 0.893, 'pos': 0.107, 'compound': 0.2023},\n",
       " {'neg': 0.0, 'neu': 0.858, 'pos': 0.142, 'compound': 0.5106},\n",
       " {'neg': 0.0, 'neu': 1.0, 'pos': 0.0, 'compound': 0.0},\n",
       " {'neg': 0.109, 'neu': 0.891, 'pos': 0.0, 'compound': -0.4215},\n",
       " {'neg': 0.0, 'neu': 1.0, 'pos': 0.0, 'compound': 0.0},\n",
       " {'neg': 0.101, 'neu': 0.842, 'pos': 0.056, 'compound': -0.2714},\n",
       " {'neg': 0.0, 'neu': 1.0, 'pos': 0.0, 'compound': 0.0},\n",
       " {'neg': 0.0, 'neu': 1.0, 'pos': 0.0, 'compound': 0.0},\n",
       " {'neg': 0.0, 'neu': 1.0, 'pos': 0.0, 'compound': 0.0},\n",
       " {'neg': 0.0, 'neu': 1.0, 'pos': 0.0, 'compound': 0.0},\n",
       " {'neg': 0.224, 'neu': 0.776, 'pos': 0.0, 'compound': -0.4391},\n",
       " {'neg': 0.0, 'neu': 1.0, 'pos': 0.0, 'compound': 0.0},\n",
       " {'neg': 0.132, 'neu': 0.868, 'pos': 0.0, 'compound': -0.4805},\n",
       " {'neg': 0.0, 'neu': 1.0, 'pos': 0.0, 'compound': 0.0},\n",
       " {'neg': 0.0, 'neu': 1.0, 'pos': 0.0, 'compound': 0.0},\n",
       " {'neg': 0.0, 'neu': 1.0, 'pos': 0.0, 'compound': 0.0},\n",
       " {'neg': 0.206, 'neu': 0.561, 'pos': 0.234, 'compound': 0.0772},\n",
       " {'neg': 0.064, 'neu': 0.777, 'pos': 0.159, 'compound': 0.7925},\n",
       " {'neg': 0.443, 'neu': 0.557, 'pos': 0.0, 'compound': -0.6096},\n",
       " {'neg': 0.0, 'neu': 0.892, 'pos': 0.108, 'compound': 0.4404},\n",
       " {'neg': 0.0, 'neu': 1.0, 'pos': 0.0, 'compound': 0.0},\n",
       " {'neg': 0.104, 'neu': 0.755, 'pos': 0.142, 'compound': 0.2023},\n",
       " {'neg': 0.0, 'neu': 0.828, 'pos': 0.172, 'compound': 0.4404},\n",
       " {'neg': 0.0, 'neu': 0.817, 'pos': 0.183, 'compound': 0.7574},\n",
       " {'neg': 0.0, 'neu': 1.0, 'pos': 0.0, 'compound': 0.0},\n",
       " {'neg': 0.168, 'neu': 0.693, 'pos': 0.139, 'compound': -0.1511},\n",
       " {'neg': 0.0, 'neu': 1.0, 'pos': 0.0, 'compound': 0.0},\n",
       " {'neg': 0.0, 'neu': 1.0, 'pos': 0.0, 'compound': 0.0},\n",
       " {'neg': 0.0, 'neu': 1.0, 'pos': 0.0, 'compound': 0.0},\n",
       " {'neg': 0.0, 'neu': 1.0, 'pos': 0.0, 'compound': 0.0},\n",
       " {'neg': 0.0, 'neu': 1.0, 'pos': 0.0, 'compound': 0.0},\n",
       " {'neg': 0.0, 'neu': 1.0, 'pos': 0.0, 'compound': 0.0},\n",
       " {'neg': 0.0, 'neu': 1.0, 'pos': 0.0, 'compound': 0.0},\n",
       " {'neg': 0.068, 'neu': 0.87, 'pos': 0.063, 'compound': -0.0258},\n",
       " {'neg': 0.0, 'neu': 1.0, 'pos': 0.0, 'compound': 0.0},\n",
       " {'neg': 0.0, 'neu': 1.0, 'pos': 0.0, 'compound': 0.0},\n",
       " {'neg': 0.0, 'neu': 1.0, 'pos': 0.0, 'compound': 0.0},\n",
       " {'neg': 0.0, 'neu': 1.0, 'pos': 0.0, 'compound': 0.0},\n",
       " {'neg': 0.0, 'neu': 1.0, 'pos': 0.0, 'compound': 0.0},\n",
       " {'neg': 0.0, 'neu': 1.0, 'pos': 0.0, 'compound': 0.0},\n",
       " {'neg': 0.0, 'neu': 0.217, 'pos': 0.783, 'compound': 0.5574},\n",
       " {'neg': 0.0, 'neu': 1.0, 'pos': 0.0, 'compound': 0.0},\n",
       " {'neg': 0.0, 'neu': 1.0, 'pos': 0.0, 'compound': 0.0},\n",
       " {'neg': 0.0, 'neu': 1.0, 'pos': 0.0, 'compound': 0.0},\n",
       " {'neg': 0.237, 'neu': 0.763, 'pos': 0.0, 'compound': -0.4767},\n",
       " {'neg': 0.0, 'neu': 1.0, 'pos': 0.0, 'compound': 0.0},\n",
       " {'neg': 0.0, 'neu': 1.0, 'pos': 0.0, 'compound': 0.0},\n",
       " {'neg': 0.0, 'neu': 0.806, 'pos': 0.194, 'compound': 0.3919},\n",
       " {'neg': 0.0, 'neu': 1.0, 'pos': 0.0, 'compound': 0.0},\n",
       " {'neg': 0.0, 'neu': 0.58, 'pos': 0.42, 'compound': 0.4404},\n",
       " {'neg': 0.0, 'neu': 1.0, 'pos': 0.0, 'compound': 0.0},\n",
       " {'neg': 0.0, 'neu': 1.0, 'pos': 0.0, 'compound': 0.0},\n",
       " {'neg': 0.0, 'neu': 0.633, 'pos': 0.367, 'compound': 0.3214},\n",
       " {'neg': 0.0, 'neu': 1.0, 'pos': 0.0, 'compound': 0.0},\n",
       " {'neg': 0.0, 'neu': 1.0, 'pos': 0.0, 'compound': 0.0},\n",
       " {'neg': 0.0, 'neu': 1.0, 'pos': 0.0, 'compound': 0.0},\n",
       " {'neg': 0.0, 'neu': 0.0, 'pos': 1.0, 'compound': 0.5093},\n",
       " {'neg': 0.0, 'neu': 0.486, 'pos': 0.514, 'compound': 0.6472},\n",
       " {'neg': 0.421, 'neu': 0.579, 'pos': 0.0, 'compound': -0.6249},\n",
       " {'neg': 0.0, 'neu': 0.833, 'pos': 0.167, 'compound': 0.1027},\n",
       " {'neg': 0.0, 'neu': 1.0, 'pos': 0.0, 'compound': 0.0},\n",
       " {'neg': 0.0, 'neu': 1.0, 'pos': 0.0, 'compound': 0.0},\n",
       " {'neg': 0.0, 'neu': 0.881, 'pos': 0.119, 'compound': 0.4019},\n",
       " {'neg': 0.0, 'neu': 0.406, 'pos': 0.594, 'compound': 0.8085},\n",
       " {'neg': 0.0, 'neu': 0.594, 'pos': 0.406, 'compound': 0.6249},\n",
       " {'neg': 0.0, 'neu': 0.549, 'pos': 0.451, 'compound': 0.6249},\n",
       " {'neg': 0.0, 'neu': 0.735, 'pos': 0.265, 'compound': 0.2023},\n",
       " {'neg': 0.148, 'neu': 0.852, 'pos': 0.0, 'compound': -0.5106},\n",
       " {'neg': 0.316, 'neu': 0.684, 'pos': 0.0, 'compound': -0.631},\n",
       " {'neg': 0.052, 'neu': 0.749, 'pos': 0.199, 'compound': 0.6908},\n",
       " {'neg': 0.0, 'neu': 0.837, 'pos': 0.163, 'compound': 0.4019},\n",
       " {'neg': 0.0, 'neu': 0.846, 'pos': 0.154, 'compound': 0.4754},\n",
       " {'neg': 0.0, 'neu': 1.0, 'pos': 0.0, 'compound': 0.0},\n",
       " {'neg': 0.688, 'neu': 0.312, 'pos': 0.0, 'compound': -0.296},\n",
       " {'neg': 0.0, 'neu': 1.0, 'pos': 0.0, 'compound': 0.0},\n",
       " {'neg': 0.154, 'neu': 0.758, 'pos': 0.087, 'compound': -0.3167},\n",
       " {'neg': 0.0, 'neu': 1.0, 'pos': 0.0, 'compound': 0.0},\n",
       " {'neg': 0.0, 'neu': 0.513, 'pos': 0.487, 'compound': 0.2263},\n",
       " {'neg': 0.0, 'neu': 1.0, 'pos': 0.0, 'compound': 0.0},\n",
       " {'neg': 0.0, 'neu': 1.0, 'pos': 0.0, 'compound': 0.0},\n",
       " {'neg': 0.0, 'neu': 1.0, 'pos': 0.0, 'compound': 0.0},\n",
       " {'neg': 0.0, 'neu': 1.0, 'pos': 0.0, 'compound': 0.0},\n",
       " {'neg': 0.0, 'neu': 1.0, 'pos': 0.0, 'compound': 0.0},\n",
       " {'neg': 0.0, 'neu': 1.0, 'pos': 0.0, 'compound': 0.0},\n",
       " {'neg': 0.0, 'neu': 1.0, 'pos': 0.0, 'compound': 0.0},\n",
       " {'neg': 0.49, 'neu': 0.51, 'pos': 0.0, 'compound': -0.5859},\n",
       " {'neg': 0.0, 'neu': 1.0, 'pos': 0.0, 'compound': 0.0},\n",
       " {'neg': 0.0, 'neu': 1.0, 'pos': 0.0, 'compound': 0.0},\n",
       " {'neg': 0.341, 'neu': 0.556, 'pos': 0.104, 'compound': -0.8126},\n",
       " {'neg': 0.0, 'neu': 1.0, 'pos': 0.0, 'compound': 0.0},\n",
       " {'neg': 0.0, 'neu': 1.0, 'pos': 0.0, 'compound': 0.0},\n",
       " {'neg': 0.0, 'neu': 0.548, 'pos': 0.452, 'compound': 0.5106},\n",
       " {'neg': 0.0, 'neu': 0.843, 'pos': 0.157, 'compound': 0.6249},\n",
       " {'neg': 0.0, 'neu': 1.0, 'pos': 0.0, 'compound': 0.0},\n",
       " {'neg': 0.0, 'neu': 0.851, 'pos': 0.149, 'compound': 0.1027},\n",
       " {'neg': 0.0, 'neu': 1.0, 'pos': 0.0, 'compound': 0.0},\n",
       " {'neg': 0.0, 'neu': 1.0, 'pos': 0.0, 'compound': 0.0},\n",
       " {'neg': 0.0, 'neu': 1.0, 'pos': 0.0, 'compound': 0.0},\n",
       " {'neg': 0.0, 'neu': 1.0, 'pos': 0.0, 'compound': 0.0},\n",
       " {'neg': 0.0, 'neu': 1.0, 'pos': 0.0, 'compound': 0.0},\n",
       " {'neg': 0.0, 'neu': 0.707, 'pos': 0.293, 'compound': 0.4404},\n",
       " {'neg': 0.0, 'neu': 1.0, 'pos': 0.0, 'compound': 0.0},\n",
       " {'neg': 0.0, 'neu': 1.0, 'pos': 0.0, 'compound': 0.0},\n",
       " {'neg': 0.0, 'neu': 1.0, 'pos': 0.0, 'compound': 0.0},\n",
       " {'neg': 0.0, 'neu': 0.278, 'pos': 0.722, 'compound': 0.3804},\n",
       " {'neg': 0.0, 'neu': 1.0, 'pos': 0.0, 'compound': 0.0},\n",
       " {'neg': 0.0, 'neu': 1.0, 'pos': 0.0, 'compound': 0.0},\n",
       " {'neg': 0.0, 'neu': 1.0, 'pos': 0.0, 'compound': 0.0},\n",
       " {'neg': 0.0, 'neu': 0.763, 'pos': 0.237, 'compound': 0.8126},\n",
       " {'neg': 0.0, 'neu': 1.0, 'pos': 0.0, 'compound': 0.0},\n",
       " {'neg': 0.0, 'neu': 1.0, 'pos': 0.0, 'compound': 0.0},\n",
       " {'neg': 0.0, 'neu': 1.0, 'pos': 0.0, 'compound': 0.0},\n",
       " {'neg': 0.0, 'neu': 0.714, 'pos': 0.286, 'compound': 0.34},\n",
       " {'neg': 0.0, 'neu': 1.0, 'pos': 0.0, 'compound': 0.0},\n",
       " {'neg': 0.0, 'neu': 1.0, 'pos': 0.0, 'compound': 0.0},\n",
       " {'neg': 0.0, 'neu': 0.792, 'pos': 0.208, 'compound': 0.6361},\n",
       " {'neg': 0.0, 'neu': 0.467, 'pos': 0.533, 'compound': 0.6908},\n",
       " {'neg': 0.0, 'neu': 0.595, 'pos': 0.405, 'compound': 0.7783},\n",
       " {'neg': 0.0, 'neu': 0.626, 'pos': 0.374, 'compound': 0.8379},\n",
       " {'neg': 0.0, 'neu': 1.0, 'pos': 0.0, 'compound': 0.0},\n",
       " {'neg': 0.0, 'neu': 1.0, 'pos': 0.0, 'compound': 0.0},\n",
       " {'neg': 0.0, 'neu': 0.674, 'pos': 0.326, 'compound': 0.4404},\n",
       " {'neg': 0.348, 'neu': 0.652, 'pos': 0.0, 'compound': -0.395},\n",
       " {'neg': 0.0, 'neu': 0.722, 'pos': 0.278, 'compound': 0.6597},\n",
       " {'neg': 0.0, 'neu': 1.0, 'pos': 0.0, 'compound': 0.0},\n",
       " {'neg': 0.0, 'neu': 0.856, 'pos': 0.144, 'compound': 0.4019},\n",
       " {'neg': 0.0, 'neu': 0.667, 'pos': 0.333, 'compound': 0.6124},\n",
       " {'neg': 0.0, 'neu': 0.682, 'pos': 0.318, 'compound': 0.6369},\n",
       " {'neg': 0.256, 'neu': 0.744, 'pos': 0.0, 'compound': -0.3412},\n",
       " {'neg': 0.0, 'neu': 1.0, 'pos': 0.0, 'compound': 0.0},\n",
       " {'neg': 0.0, 'neu': 0.513, 'pos': 0.487, 'compound': 0.2263},\n",
       " {'neg': 0.0, 'neu': 0.508, 'pos': 0.492, 'compound': 0.4404},\n",
       " {'neg': 0.0, 'neu': 1.0, 'pos': 0.0, 'compound': 0.0},\n",
       " {'neg': 0.0, 'neu': 1.0, 'pos': 0.0, 'compound': 0.0},\n",
       " {'neg': 0.0, 'neu': 1.0, 'pos': 0.0, 'compound': 0.0},\n",
       " {'neg': 0.0, 'neu': 1.0, 'pos': 0.0, 'compound': 0.0},\n",
       " {'neg': 0.0, 'neu': 0.872, 'pos': 0.128, 'compound': 0.2263},\n",
       " {'neg': 0.084, 'neu': 0.636, 'pos': 0.28, 'compound': 0.5267},\n",
       " {'neg': 0.0, 'neu': 1.0, 'pos': 0.0, 'compound': 0.0},\n",
       " {'neg': 0.0, 'neu': 0.322, 'pos': 0.678, 'compound': 0.2755},\n",
       " {'neg': 0.0, 'neu': 0.517, 'pos': 0.483, 'compound': 0.4215},\n",
       " {'neg': 0.0, 'neu': 1.0, 'pos': 0.0, 'compound': 0.0},\n",
       " {'neg': 0.0, 'neu': 0.806, 'pos': 0.194, 'compound': 0.6249},\n",
       " {'neg': 0.0, 'neu': 1.0, 'pos': 0.0, 'compound': 0.0},\n",
       " {'neg': 0.0, 'neu': 0.872, 'pos': 0.128, 'compound': 0.2263},\n",
       " {'neg': 0.143, 'neu': 0.698, 'pos': 0.159, 'compound': 0.0624},\n",
       " {'neg': 0.0, 'neu': 1.0, 'pos': 0.0, 'compound': 0.0},\n",
       " {'neg': 0.0, 'neu': 0.864, 'pos': 0.136, 'compound': 0.5043},\n",
       " {'neg': 0.263, 'neu': 0.737, 'pos': 0.0, 'compound': -0.7769},\n",
       " {'neg': 0.0, 'neu': 0.616, 'pos': 0.384, 'compound': 0.4791},\n",
       " {'neg': 0.0, 'neu': 0.0, 'pos': 1.0, 'compound': 0.4019},\n",
       " {'neg': 0.0, 'neu': 1.0, 'pos': 0.0, 'compound': 0.0},\n",
       " {'neg': 0.0, 'neu': 1.0, 'pos': 0.0, 'compound': 0.0},\n",
       " {'neg': 0.0, 'neu': 1.0, 'pos': 0.0, 'compound': 0.0},\n",
       " {'neg': 0.0, 'neu': 1.0, 'pos': 0.0, 'compound': 0.0},\n",
       " {'neg': 0.0, 'neu': 0.947, 'pos': 0.053, 'compound': 0.3919},\n",
       " {'neg': 0.0, 'neu': 0.684, 'pos': 0.316, 'compound': 0.7178},\n",
       " {'neg': 0.0, 'neu': 0.633, 'pos': 0.367, 'compound': 0.539},\n",
       " {'neg': 0.252, 'neu': 0.748, 'pos': 0.0, 'compound': -0.5719},\n",
       " {'neg': 0.0, 'neu': 0.806, 'pos': 0.194, 'compound': 0.2323},\n",
       " {'neg': 0.0, 'neu': 1.0, 'pos': 0.0, 'compound': 0.0},\n",
       " {'neg': 0.0, 'neu': 1.0, 'pos': 0.0, 'compound': 0.0},\n",
       " {'neg': 0.076, 'neu': 0.729, 'pos': 0.195, 'compound': 0.5574},\n",
       " {'neg': 0.0, 'neu': 0.602, 'pos': 0.398, 'compound': 0.765},\n",
       " {'neg': 0.0, 'neu': 1.0, 'pos': 0.0, 'compound': 0.0},\n",
       " {'neg': 0.262, 'neu': 0.738, 'pos': 0.0, 'compound': -0.4939},\n",
       " {'neg': 0.538, 'neu': 0.462, 'pos': 0.0, 'compound': -0.3252},\n",
       " {'neg': 0.0, 'neu': 1.0, 'pos': 0.0, 'compound': 0.0},\n",
       " {'neg': 0.0, 'neu': 1.0, 'pos': 0.0, 'compound': 0.0},\n",
       " {'neg': 0.159, 'neu': 0.638, 'pos': 0.203, 'compound': 0.1739},\n",
       " {'neg': 0.388, 'neu': 0.612, 'pos': 0.0, 'compound': -0.2263},\n",
       " {'neg': 0.0, 'neu': 1.0, 'pos': 0.0, 'compound': 0.0},\n",
       " {'neg': 0.013, 'neu': 0.868, 'pos': 0.119, 'compound': 0.9795},\n",
       " {'neg': 0.0, 'neu': 1.0, 'pos': 0.0, 'compound': 0.0},\n",
       " {'neg': 0.0, 'neu': 0.351, 'pos': 0.649, 'compound': 0.5719},\n",
       " {'neg': 0.0, 'neu': 0.589, 'pos': 0.411, 'compound': 0.4201},\n",
       " {'neg': 0.0, 'neu': 1.0, 'pos': 0.0, 'compound': 0.0},\n",
       " {'neg': 0.0, 'neu': 0.735, 'pos': 0.265, 'compound': 0.6597},\n",
       " {'neg': 0.0, 'neu': 1.0, 'pos': 0.0, 'compound': 0.0},\n",
       " {'neg': 0.0, 'neu': 0.682, 'pos': 0.318, 'compound': 0.6369},\n",
       " {'neg': 0.0, 'neu': 0.84, 'pos': 0.16, 'compound': 0.2732},\n",
       " {'neg': 0.0, 'neu': 1.0, 'pos': 0.0, 'compound': 0.0},\n",
       " {'neg': 0.268, 'neu': 0.732, 'pos': 0.0, 'compound': -0.296},\n",
       " {'neg': 0.0, 'neu': 1.0, 'pos': 0.0, 'compound': 0.0},\n",
       " {'neg': 0.0, 'neu': 0.79, 'pos': 0.21, 'compound': 0.7317},\n",
       " {'neg': 0.0, 'neu': 0.857, 'pos': 0.143, 'compound': 0.3612},\n",
       " {'neg': 0.0, 'neu': 1.0, 'pos': 0.0, 'compound': 0.0},\n",
       " {'neg': 0.0, 'neu': 0.61, 'pos': 0.39, 'compound': 0.4939},\n",
       " {'neg': 0.0, 'neu': 0.585, 'pos': 0.415, 'compound': 0.7964},\n",
       " {'neg': 0.0, 'neu': 0.814, 'pos': 0.186, 'compound': 0.4939},\n",
       " {'neg': 0.179, 'neu': 0.821, 'pos': 0.0, 'compound': -0.34},\n",
       " {'neg': 0.0, 'neu': 0.759, 'pos': 0.241, 'compound': 0.5859},\n",
       " {'neg': 0.0, 'neu': 0.854, 'pos': 0.146, 'compound': 0.4404},\n",
       " {'neg': 0.0, 'neu': 0.49, 'pos': 0.51, 'compound': 0.8074},\n",
       " {'neg': 0.0, 'neu': 0.8, 'pos': 0.2, 'compound': 0.3612},\n",
       " {'neg': 0.0, 'neu': 1.0, 'pos': 0.0, 'compound': 0.0},\n",
       " {'neg': 0.355, 'neu': 0.645, 'pos': 0.0, 'compound': -0.296},\n",
       " {'neg': 0.0, 'neu': 1.0, 'pos': 0.0, 'compound': 0.0},\n",
       " {'neg': 0.183, 'neu': 0.693, 'pos': 0.124, 'compound': -0.296},\n",
       " {'neg': 0.608, 'neu': 0.392, 'pos': 0.0, 'compound': -0.4767},\n",
       " {'neg': 0.0, 'neu': 1.0, 'pos': 0.0, 'compound': 0.0},\n",
       " {'neg': 0.0, 'neu': 0.61, 'pos': 0.39, 'compound': 0.7501},\n",
       " {'neg': 0.0, 'neu': 1.0, 'pos': 0.0, 'compound': 0.0},\n",
       " {'neg': 0.0, 'neu': 1.0, 'pos': 0.0, 'compound': 0.0},\n",
       " {'neg': 0.0, 'neu': 1.0, 'pos': 0.0, 'compound': 0.0},\n",
       " {'neg': 0.0, 'neu': 0.832, 'pos': 0.168, 'compound': 0.4277},\n",
       " {'neg': 0.096, 'neu': 0.674, 'pos': 0.23, 'compound': 0.5859},\n",
       " {'neg': 0.0, 'neu': 1.0, 'pos': 0.0, 'compound': 0.0},\n",
       " {'neg': 0.0, 'neu': 1.0, 'pos': 0.0, 'compound': 0.0},\n",
       " {'neg': 0.074, 'neu': 0.926, 'pos': 0.0, 'compound': -0.0516},\n",
       " {'neg': 0.0, 'neu': 1.0, 'pos': 0.0, 'compound': 0.0},\n",
       " {'neg': 0.0, 'neu': 1.0, 'pos': 0.0, 'compound': 0.0},\n",
       " {'neg': 0.265, 'neu': 0.735, 'pos': 0.0, 'compound': -0.5574},\n",
       " {'neg': 0.0, 'neu': 1.0, 'pos': 0.0, 'compound': 0.0},\n",
       " {'neg': 0.0, 'neu': 1.0, 'pos': 0.0, 'compound': 0.0},\n",
       " {'neg': 0.0, 'neu': 1.0, 'pos': 0.0, 'compound': 0.0},\n",
       " {'neg': 0.0, 'neu': 1.0, 'pos': 0.0, 'compound': 0.0},\n",
       " {'neg': 0.061, 'neu': 0.843, 'pos': 0.096, 'compound': 0.2942},\n",
       " {'neg': 0.0, 'neu': 0.282, 'pos': 0.718, 'compound': 0.6249},\n",
       " {'neg': 0.0, 'neu': 0.591, 'pos': 0.409, 'compound': 0.7046},\n",
       " {'neg': 0.0, 'neu': 0.686, 'pos': 0.314, 'compound': 0.4939},\n",
       " {'neg': 0.0, 'neu': 1.0, 'pos': 0.0, 'compound': 0.0},\n",
       " {'neg': 0.0, 'neu': 1.0, 'pos': 0.0, 'compound': 0.0},\n",
       " {'neg': 0.0, 'neu': 1.0, 'pos': 0.0, 'compound': 0.0},\n",
       " {'neg': 0.0, 'neu': 1.0, 'pos': 0.0, 'compound': 0.0},\n",
       " {'neg': 0.0, 'neu': 0.549, 'pos': 0.451, 'compound': 0.9071},\n",
       " {'neg': 0.0, 'neu': 1.0, 'pos': 0.0, 'compound': 0.0},\n",
       " {'neg': 0.0, 'neu': 0.759, 'pos': 0.241, 'compound': 0.5411},\n",
       " {'neg': 0.0, 'neu': 1.0, 'pos': 0.0, 'compound': 0.0},\n",
       " {'neg': 0.0, 'neu': 0.631, 'pos': 0.369, 'compound': 0.6249},\n",
       " {'neg': 0.069, 'neu': 0.931, 'pos': 0.0, 'compound': -0.0286},\n",
       " {'neg': 0.0, 'neu': 1.0, 'pos': 0.0, 'compound': 0.0},\n",
       " {'neg': 0.0, 'neu': 0.549, 'pos': 0.451, 'compound': 0.6249},\n",
       " {'neg': 0.11, 'neu': 0.709, 'pos': 0.181, 'compound': 0.2263},\n",
       " {'neg': 0.056, 'neu': 0.691, 'pos': 0.253, 'compound': 0.8271},\n",
       " {'neg': 0.0, 'neu': 0.323, 'pos': 0.677, 'compound': 0.2732},\n",
       " {'neg': 0.0, 'neu': 0.0, 'pos': 1.0, 'compound': 0.4019},\n",
       " {'neg': 0.198, 'neu': 0.611, 'pos': 0.191, 'compound': -0.0258},\n",
       " {'neg': 0.306, 'neu': 0.694, 'pos': 0.0, 'compound': -0.296},\n",
       " {'neg': 0.0, 'neu': 0.448, 'pos': 0.552, 'compound': 0.5719},\n",
       " {'neg': 0.0, 'neu': 0.484, 'pos': 0.516, 'compound': 0.4939},\n",
       " {'neg': 0.0, 'neu': 0.667, 'pos': 0.333, 'compound': 0.6114},\n",
       " {'neg': 0.0, 'neu': 1.0, 'pos': 0.0, 'compound': 0.0},\n",
       " {'neg': 0.0, 'neu': 1.0, 'pos': 0.0, 'compound': 0.0},\n",
       " {'neg': 0.0, 'neu': 0.805, 'pos': 0.195, 'compound': 0.1154},\n",
       " {'neg': 0.0, 'neu': 0.435, 'pos': 0.565, 'compound': 0.5994},\n",
       " {'neg': 0.0, 'neu': 1.0, 'pos': 0.0, 'compound': 0.0},\n",
       " {'neg': 0.0, 'neu': 1.0, 'pos': 0.0, 'compound': 0.0},\n",
       " {'neg': 0.0, 'neu': 1.0, 'pos': 0.0, 'compound': 0.0},\n",
       " {'neg': 0.0, 'neu': 1.0, 'pos': 0.0, 'compound': 0.0},\n",
       " {'neg': 0.319, 'neu': 0.531, 'pos': 0.15, 'compound': -0.7588},\n",
       " {'neg': 0.0, 'neu': 1.0, 'pos': 0.0, 'compound': 0.0},\n",
       " {'neg': 0.0, 'neu': 1.0, 'pos': 0.0, 'compound': 0.0},\n",
       " {'neg': 0.255, 'neu': 0.745, 'pos': 0.0, 'compound': -0.34},\n",
       " {'neg': 0.15, 'neu': 0.476, 'pos': 0.374, 'compound': 0.5106},\n",
       " {'neg': 0.113, 'neu': 0.541, 'pos': 0.347, 'compound': 0.5574},\n",
       " {'neg': 0.0, 'neu': 1.0, 'pos': 0.0, 'compound': 0.0},\n",
       " {'neg': 0.0, 'neu': 1.0, 'pos': 0.0, 'compound': 0.0},\n",
       " {'neg': 0.0, 'neu': 0.392, 'pos': 0.608, 'compound': 0.7351},\n",
       " {'neg': 0.0, 'neu': 0.724, 'pos': 0.276, 'compound': 0.6369},\n",
       " {'neg': 0.0, 'neu': 0.577, 'pos': 0.423, 'compound': 0.6588},\n",
       " {'neg': 0.0, 'neu': 1.0, 'pos': 0.0, 'compound': 0.0},\n",
       " {'neg': 0.0, 'neu': 0.449, 'pos': 0.551, 'compound': 0.9493},\n",
       " {'neg': 0.0, 'neu': 0.682, 'pos': 0.318, 'compound': 0.5059},\n",
       " {'neg': 0.31, 'neu': 0.69, 'pos': 0.0, 'compound': -0.4005},\n",
       " {'neg': 0.0, 'neu': 0.888, 'pos': 0.112, 'compound': 0.2263},\n",
       " {'neg': 0.0, 'neu': 0.345, 'pos': 0.655, 'compound': 0.5859},\n",
       " {'neg': 0.0, 'neu': 1.0, 'pos': 0.0, 'compound': 0.0},\n",
       " {'neg': 0.121, 'neu': 0.879, 'pos': 0.0, 'compound': -0.4404},\n",
       " {'neg': 0.0, 'neu': 0.529, 'pos': 0.471, 'compound': 0.6542},\n",
       " {'neg': 0.0, 'neu': 1.0, 'pos': 0.0, 'compound': 0.0},\n",
       " {'neg': 0.0, 'neu': 1.0, 'pos': 0.0, 'compound': 0.0},\n",
       " {'neg': 0.222, 'neu': 0.593, 'pos': 0.185, 'compound': -0.1258},\n",
       " {'neg': 0.0, 'neu': 1.0, 'pos': 0.0, 'compound': 0.0},\n",
       " {'neg': 0.0, 'neu': 0.851, 'pos': 0.149, 'compound': 0.5927},\n",
       " {'neg': 0.0, 'neu': 1.0, 'pos': 0.0, 'compound': 0.0},\n",
       " {'neg': 0.0, 'neu': 1.0, 'pos': 0.0, 'compound': 0.0},\n",
       " {'neg': 0.0, 'neu': 0.376, 'pos': 0.624, 'compound': 0.8516},\n",
       " {'neg': 0.0, 'neu': 1.0, 'pos': 0.0, 'compound': 0.0},\n",
       " {'neg': 0.0, 'neu': 1.0, 'pos': 0.0, 'compound': 0.0},\n",
       " {'neg': 0.0, 'neu': 0.5, 'pos': 0.5, 'compound': 0.4588},\n",
       " {'neg': 0.0, 'neu': 0.722, 'pos': 0.278, 'compound': 0.4019},\n",
       " ...]"
      ]
     },
     "execution_count": 395,
     "metadata": {},
     "output_type": "execute_result"
    }
   ],
   "source": [
    "[s for s in scores] #Show sentiment score of individual trunks"
   ]
  },
  {
   "cell_type": "markdown",
   "metadata": {},
   "source": [
    "## Extracting Only Nouns"
   ]
  },
  {
   "cell_type": "code",
   "execution_count": 373,
   "metadata": {},
   "outputs": [],
   "source": [
    "# Extract Only Nouns\n",
    "from nltk import word_tokenize, pos_tag\n",
    "Cleaned_doc_nouns = [token for token, pos in pos_tag(word_tokenize(Cleaned_doc_aspect)) if pos.startswith('N')]"
   ]
  },
  {
   "cell_type": "code",
   "execution_count": 374,
   "metadata": {
    "scrolled": true
   },
   "outputs": [
    {
     "data": {
      "text/plain": [
       "[('park', 35641),\n",
       " ('Disney', 30240),\n",
       " ('rides', 29985),\n",
       " ('Disneyland', 27751),\n",
       " ('time', 26401),\n",
       " ('day', 25166),\n",
       " ('ride', 12373),\n",
       " ('kids', 12068),\n",
       " ('place', 11858),\n",
       " ('food', 11137),\n",
       " ('people', 9556),\n",
       " ('parks', 7971),\n",
       " ('times', 7942),\n",
       " ('days', 7884),\n",
       " ('pass', 7439),\n",
       " ('year', 6993),\n",
       " ('children', 6970),\n",
       " ('experience', 6764),\n",
       " ('characters', 6640),\n",
       " ('parade', 6543),\n",
       " ('staff', 6482),\n",
       " ('line', 6469),\n",
       " ('show', 6162),\n",
       " ('lines', 6155),\n",
       " ('fun', 6130),\n",
       " ('attractions', 6127),\n",
       " ('family', 6104),\n",
       " ('lot', 5855),\n",
       " ('visit', 5777),\n",
       " ('Paris', 5777),\n",
       " ('trip', 5542),\n",
       " ('minutes', 5510),\n",
       " ('fireworks', 5421),\n",
       " ('queues', 5385),\n",
       " ('way', 5016),\n",
       " ('Mountain', 4862),\n",
       " ('hours', 4609),\n",
       " ('years', 4585),\n",
       " ('California', 4549),\n",
       " ('everything', 4419),\n",
       " ('wait', 4407),\n",
       " ('hour', 4368),\n",
       " ('hotel', 4354),\n",
       " ('tickets', 4179),\n",
       " ('World', 4045),\n",
       " ('Park', 4033),\n",
       " ('night', 4021),\n",
       " ('things', 3641),\n",
       " ('ticket', 3491),\n",
       " ('money', 3458)]"
      ]
     },
     "execution_count": 374,
     "metadata": {},
     "output_type": "execute_result"
    }
   ],
   "source": [
    "most_freq = nltk.FreqDist(Cleaned_doc_nouns)\n",
    "most_freq.most_common(50)"
   ]
  },
  {
   "cell_type": "code",
   "execution_count": 386,
   "metadata": {},
   "outputs": [
    {
     "name": "stdout",
     "output_type": "stream",
     "text": [
      "hotels:  [0.101, 0.02]\n",
      "lines:  [0.095, 0.048]\n",
      "food:  [0.123, 0.05]\n",
      "staff:  [0.194, 0.059]\n"
     ]
    }
   ],
   "source": [
    "from statistics import mean\n",
    "#function to compute sentiment score for aspect\n",
    "def aspect_sentiment(aspect,sents,scores):\n",
    "    AspSen = []\n",
    "    for s in range(len(sents)):\n",
    "        #Check if the aspect is mentioned in the text trunk\n",
    "        Index = sents[s].find(aspect)\n",
    "        if Index > 0:\n",
    "            AspSen.append(scores[s])\n",
    "    Pos = [AspSen[x]['pos'] for x in range(len(AspSen))]\n",
    "    Neg = [AspSen[x]['neg'] for x in range(len(AspSen))]\n",
    "    #Return average of sentiment scores of aspect\n",
    "    return [round(mean(Pos),3), round(mean(Neg),3)]\n",
    "\n",
    "\n",
    "print('hotels: ', aspect_sentiment('hotels',sents,scores))  \n",
    "print('lines: ', aspect_sentiment('lines',sents,scores))\n",
    "print('food: ', aspect_sentiment('food',sents,scores))\n",
    "print('staff: ', aspect_sentiment('staff',sents,scores))"
   ]
  },
  {
   "cell_type": "markdown",
   "metadata": {},
   "source": [
    "## ANSWER ------> PART E"
   ]
  },
  {
   "cell_type": "markdown",
   "metadata": {},
   "source": [
    "Follwoing are the keywords for Facility and Services:-\n",
    "\n",
    "1. hotels\n",
    "2. lines\n",
    "3. Food\n",
    "4. staff"
   ]
  },
  {
   "cell_type": "markdown",
   "metadata": {},
   "source": [
    "According to the above score, the following aspects of facilities and services have been discussed:\n",
    "\n",
    "1. Hotels: Visitors are very satisfied with the hotel and has a positive sentiment towards this facility.\n",
    "\n",
    "\n",
    "2. lines: lines or queues have somewhat neutral sentiments\n",
    "\n",
    "\n",
    "3. food: Visitors have more positive sentiments as compared to the negative. \n",
    "\n",
    "\n",
    "4. staff: For this Service, Visitors are happy with the Staff."
   ]
  },
  {
   "cell_type": "markdown",
   "metadata": {
    "colab_type": "text",
    "id": "k_hKG084dv-W"
   },
   "source": [
    "<a id = \"cell_TopicModeling\"></a>\n",
    "### 4. Topic Modeling"
   ]
  },
  {
   "cell_type": "markdown",
   "metadata": {},
   "source": [
    "# PART F"
   ]
  },
  {
   "cell_type": "markdown",
   "metadata": {
    "colab_type": "text",
    "id": "ZEOg6rEL6jIe"
   },
   "source": [
    "\n",
    "## Latent Dirichlet Allocation (LDA)\n"
   ]
  },
  {
   "cell_type": "code",
   "execution_count": 132,
   "metadata": {},
   "outputs": [
    {
     "data": {
      "text/html": [
       "<div>\n",
       "<style scoped>\n",
       "    .dataframe tbody tr th:only-of-type {\n",
       "        vertical-align: middle;\n",
       "    }\n",
       "\n",
       "    .dataframe tbody tr th {\n",
       "        vertical-align: top;\n",
       "    }\n",
       "\n",
       "    .dataframe thead th {\n",
       "        text-align: right;\n",
       "    }\n",
       "</style>\n",
       "<table border=\"1\" class=\"dataframe\">\n",
       "  <thead>\n",
       "    <tr style=\"text-align: right;\">\n",
       "      <th></th>\n",
       "      <th>Review_ID</th>\n",
       "      <th>Rating</th>\n",
       "      <th>Sent_ML</th>\n",
       "      <th>Label</th>\n",
       "      <th>Year_Month</th>\n",
       "      <th>MONTH</th>\n",
       "      <th>Reviewer_Location</th>\n",
       "      <th>Review_Text</th>\n",
       "      <th>Branch_Encoded</th>\n",
       "      <th>Branch</th>\n",
       "      <th>Cleaned_doc_ML</th>\n",
       "      <th>Sent_Lexicon</th>\n",
       "    </tr>\n",
       "  </thead>\n",
       "  <tbody>\n",
       "    <tr>\n",
       "      <td>0</td>\n",
       "      <td>670772142</td>\n",
       "      <td>4</td>\n",
       "      <td>pos</td>\n",
       "      <td>1</td>\n",
       "      <td>2019-04</td>\n",
       "      <td>4</td>\n",
       "      <td>Australia</td>\n",
       "      <td>If you've ever been to Disneyland anywhere you...</td>\n",
       "      <td>1</td>\n",
       "      <td>Disneyland_HongKong</td>\n",
       "      <td>ever disneyland anywher find disneyland hong k...</td>\n",
       "      <td>neu</td>\n",
       "    </tr>\n",
       "    <tr>\n",
       "      <td>1</td>\n",
       "      <td>670682799</td>\n",
       "      <td>4</td>\n",
       "      <td>pos</td>\n",
       "      <td>1</td>\n",
       "      <td>2019-05</td>\n",
       "      <td>5</td>\n",
       "      <td>Philippines</td>\n",
       "      <td>Its been a while since d last time we visit HK...</td>\n",
       "      <td>1</td>\n",
       "      <td>Disneyland_HongKong</td>\n",
       "      <td>sinc last time visit disneyland time onli stay...</td>\n",
       "      <td>pos</td>\n",
       "    </tr>\n",
       "    <tr>\n",
       "      <td>2</td>\n",
       "      <td>670623270</td>\n",
       "      <td>4</td>\n",
       "      <td>pos</td>\n",
       "      <td>1</td>\n",
       "      <td>2019-04</td>\n",
       "      <td>4</td>\n",
       "      <td>United Arab Emirates</td>\n",
       "      <td>Thanks God it wasn   t too hot or too humid wh...</td>\n",
       "      <td>1</td>\n",
       "      <td>Disneyland_HongKong</td>\n",
       "      <td>thank humid visit park otherwis would issu sha...</td>\n",
       "      <td>pos</td>\n",
       "    </tr>\n",
       "  </tbody>\n",
       "</table>\n",
       "</div>"
      ],
      "text/plain": [
       "   Review_ID  Rating Sent_ML  Label Year_Month  MONTH     Reviewer_Location  \\\n",
       "0  670772142       4     pos      1    2019-04      4             Australia   \n",
       "1  670682799       4     pos      1    2019-05      5           Philippines   \n",
       "2  670623270       4     pos      1    2019-04      4  United Arab Emirates   \n",
       "\n",
       "                                         Review_Text  Branch_Encoded  \\\n",
       "0  If you've ever been to Disneyland anywhere you...               1   \n",
       "1  Its been a while since d last time we visit HK...               1   \n",
       "2  Thanks God it wasn   t too hot or too humid wh...               1   \n",
       "\n",
       "                Branch                                     Cleaned_doc_ML  \\\n",
       "0  Disneyland_HongKong  ever disneyland anywher find disneyland hong k...   \n",
       "1  Disneyland_HongKong  sinc last time visit disneyland time onli stay...   \n",
       "2  Disneyland_HongKong  thank humid visit park otherwis would issu sha...   \n",
       "\n",
       "  Sent_Lexicon  \n",
       "0          neu  \n",
       "1          pos  \n",
       "2          pos  "
      ]
     },
     "execution_count": 132,
     "metadata": {},
     "output_type": "execute_result"
    }
   ],
   "source": [
    "df.head(3)"
   ]
  },
  {
   "cell_type": "markdown",
   "metadata": {},
   "source": [
    "## POS TAGGING"
   ]
  },
  {
   "cell_type": "code",
   "execution_count": null,
   "metadata": {},
   "outputs": [],
   "source": [
    "import nltk\n",
    "from nltk.corpus import stopwords\n",
    "nltk.download('punkt')\n",
    "nltk.download('averaged_perceptron_tagger')\n",
    "import string\n",
    "from nltk import word_tokenize, pos_tag"
   ]
  },
  {
   "cell_type": "markdown",
   "metadata": {},
   "source": [
    "## Function to Extract Nouns, Verbs and Adjectives Only"
   ]
  },
  {
   "cell_type": "code",
   "execution_count": 134,
   "metadata": {},
   "outputs": [],
   "source": [
    "# Creating a function to pull only Nouns, Verbs and Adjectives from our Review_Text\n",
    "from nltk import word_tokenize, pos_tag\n",
    "def nouns(text):\n",
    "    '''Given a string of text, tokenize the text and pull out only the nouns.'''\n",
    "    \n",
    "    is_noun = lambda pos: pos[:2].startswith('J') or pos[:2].startswith('V') or pos[:2].startswith('N') \n",
    "\n",
    "    tokenized = word_tokenize(text)\n",
    "    all_nouns = [word for (word, pos) in pos_tag(tokenized) if is_noun(pos)]\n",
    "    return ' '.join(all_nouns)\n",
    "#if this code doesn't work on you, it's probably indentaion mistake coming from Medium writing format."
   ]
  },
  {
   "cell_type": "markdown",
   "metadata": {},
   "source": [
    "## Applying the above function"
   ]
  },
  {
   "cell_type": "code",
   "execution_count": 135,
   "metadata": {
    "scrolled": true
   },
   "outputs": [],
   "source": [
    "df['Cleaned_doc_LDA'] = df['Cleaned_doc_ML'].apply(nouns)"
   ]
  },
  {
   "cell_type": "code",
   "execution_count": 137,
   "metadata": {},
   "outputs": [
    {
     "data": {
      "text/plain": [
       "'disneyland find disneyland hong kong similar layout walk main street veri familiar feel small world absolut fabul worth visit fairli busi queue move'"
      ]
     },
     "execution_count": 137,
     "metadata": {},
     "output_type": "execute_result"
    }
   ],
   "source": [
    "# Checking the first Review\n",
    "df['Cleaned_doc_LDA'][0]"
   ]
  },
  {
   "cell_type": "markdown",
   "metadata": {},
   "source": [
    "## Creating a Term- Document Matrix"
   ]
  },
  {
   "cell_type": "code",
   "execution_count": 138,
   "metadata": {},
   "outputs": [],
   "source": [
    "from gensim import interfaces, utils, matutils"
   ]
  },
  {
   "cell_type": "code",
   "execution_count": 139,
   "metadata": {},
   "outputs": [
    {
     "data": {
      "text/plain": [
       "<40043x22967 sparse matrix of type '<class 'numpy.int64'>'\n",
       "\twith 1551682 stored elements in Compressed Sparse Row format>"
      ]
     },
     "execution_count": 139,
     "metadata": {},
     "output_type": "execute_result"
    }
   ],
   "source": [
    "from sklearn.feature_extraction.text import CountVectorizer\n",
    "\n",
    "count_vectorizer = CountVectorizer()# Fit and transform the processed titles\n",
    "\n",
    "count_data = count_vectorizer.fit_transform(df['Cleaned_doc_LDA'])\n",
    "count_data"
   ]
  },
  {
   "cell_type": "markdown",
   "metadata": {},
   "source": [
    "## Visualizing the Frequency of words "
   ]
  },
  {
   "cell_type": "markdown",
   "metadata": {},
   "source": [
    "## Figure F.1"
   ]
  },
  {
   "cell_type": "code",
   "execution_count": 140,
   "metadata": {},
   "outputs": [
    {
     "data": {
      "image/png": "[encoded data removed]",
      "text/plain": [
       "<Figure size 1080x288 with 1 Axes>"
      ]
     },
     "metadata": {
      "needs_background": "light"
     },
     "output_type": "display_data"
    }
   ],
   "source": [
    "terms = count_vectorizer.get_feature_names()\n",
    "\n",
    "# Count the popularity of words\n",
    "total_counts = np.zeros(len(terms))\n",
    "for t in count_data:\n",
    "    total_counts+=t.toarray()[0]\n",
    "\n",
    "\n",
    "count_dict = (zip(terms, total_counts))\n",
    "count_dict = sorted(count_dict, key=lambda x:x[1], reverse=True)[0:40] #Take the top 40 words\n",
    "    \n",
    "words = [w[0] for w in count_dict]\n",
    "counts = [w[1] for w in count_dict]\n",
    "x_pos = np.arange(len(words))\n",
    "    \n",
    "plt.figure(2, figsize=(15, 4))\n",
    "plt.subplot(title='40 most common words')\n",
    "sns.set_context(\"notebook\", font_scale=1.25, rc={\"lines.linewidth\": 2.5})\n",
    "sns.barplot(x_pos, counts, palette='husl')\n",
    "plt.xticks(x_pos, words, rotation=90) \n",
    "plt.xlabel('words')\n",
    "plt.ylabel('counts')\n",
    "plt.show()"
   ]
  },
  {
   "cell_type": "markdown",
   "metadata": {},
   "source": [
    "# Reducing the Frequent Terms"
   ]
  },
  {
   "cell_type": "code",
   "execution_count": 141,
   "metadata": {},
   "outputs": [
    {
     "name": "stdout",
     "output_type": "stream",
     "text": [
      "Number of Terms Remained:  2016\n"
     ]
    },
    {
     "data": {
      "text/plain": [
       "<40043x2016 sparse matrix of type '<class 'numpy.int64'>'\n",
       "\twith 438331 stored elements in Compressed Sparse Row format>"
      ]
     },
     "execution_count": 141,
     "metadata": {},
     "output_type": "execute_result"
    }
   ],
   "source": [
    "#Remove highly frequent (Greater than 20%) and infrequent words (less than 1%)\n",
    "keepIndex = [];\n",
    "for t in range(len(total_counts)):\n",
    "    if total_counts[t] < 1000 and total_counts[t] > 50:\n",
    "        keepIndex.append(t)\n",
    "\n",
    "print('Number of Terms Remained: ', len(keepIndex))\n",
    "\n",
    "#Save the remain ing term and frequency data\n",
    "ReducedTerm = [terms[t] for t in keepIndex]\n",
    "ReducedCount = count_data[:,keepIndex] \n",
    "ReducedCount"
   ]
  },
  {
   "cell_type": "markdown",
   "metadata": {},
   "source": [
    "## GENSIM REDUCING TERMS"
   ]
  },
  {
   "cell_type": "code",
   "execution_count": 142,
   "metadata": {},
   "outputs": [
    {
     "name": "stdout",
     "output_type": "stream",
     "text": [
      "CLEANED TEXT NEW: \n"
     ]
    }
   ],
   "source": [
    "Cleaned_doc_new = []\n",
    "print('CLEANED TEXT NEW: ')\n",
    "for r in range(len(df['Cleaned_doc_LDA'])):\n",
    "    each_item = []\n",
    "    for t in df['Cleaned_doc_LDA'][r].split():\n",
    "        #Keep only terms included in ReducedTerm\n",
    "        if t in ReducedTerm:\n",
    "             each_item.append(t)\n",
    "    Cleaned_doc_new.append(each_item) \n",
    "    #print(Cleaned_doc_new[r])"
   ]
  },
  {
   "cell_type": "code",
   "execution_count": 143,
   "metadata": {},
   "outputs": [],
   "source": [
    "# Storing the Reduced Reviews in df['Cleaned_doc']\n",
    "df['Cleaned_doc_LDA'] = Cleaned_doc_new"
   ]
  },
  {
   "cell_type": "code",
   "execution_count": 217,
   "metadata": {},
   "outputs": [
    {
     "data": {
      "text/plain": [
       "['similar', 'layout', 'familiar', 'fabul', 'fairli']"
      ]
     },
     "execution_count": 217,
     "metadata": {},
     "output_type": "execute_result"
    }
   ],
   "source": [
    "df['Cleaned_doc_LDA'][0]"
   ]
  },
  {
   "cell_type": "markdown",
   "metadata": {},
   "source": [
    "Next, construct a term dictionary following required format of LDA module in `gensim` library:"
   ]
  },
  {
   "cell_type": "markdown",
   "metadata": {},
   "source": [
    "### Creating a Term Dcitionary in the format requires of LDA in Gensim Library"
   ]
  },
  {
   "cell_type": "code",
   "execution_count": 218,
   "metadata": {},
   "outputs": [
    {
     "name": "stdout",
     "output_type": "stream",
     "text": [
      "{'fabul': 0, 'fairli': 1, 'familiar': 2, 'layout': 3, 'similar': 4, 'brand': 5, 'central': 6, 'dont': 7, 'featur': 8, 'hello': 9, 'iron': 10, 'ironman': 11, 'kowloon': 12, 'lightyear': 13, 'local': 14, 'marvel': 15, 'minu': 16, 'newli': 17, 'ocean': 18, 'previou': 19, 'sceneri': 20, 'starbuck': 21, 'suppos': 22, 'sweet': 23, 'tomorrowland': 24, 'wan': 25, 'worst': 26, 'certain': 27, 'coffe': 28, 'everywher': 29, 'gift': 30, 'grand': 31, 'humid': 32, 'interest': 33, 'longest': 34, 'otherwis': 35, 'shade': 36, 'themselv': 37, 'togeth': 38, 'underwhelm': 39, 'unfortun': 40, 'certainli': 41, 'compact': 42, 'dollar': 43, 'famou': 44, 'gone': 45, 'mainten': 46, 'midweek': 47, 'present': 48, 'citi': 49, 'fine': 50, 'accept': 51, 'basic': 52, 'call': 53, 'forget': 54, 'fountain': 55, 'mostli': 56, 'properti': 57, 'refil': 58, 'shove': 59, 'slightli': 60, 'tokyo': 61, 'cancel': 62, 'obvious': 63, 'bakeri': 64, 'biggest': 65, 'cafe': 66, 'corner': 67, 'decent': 68, 'drawback': 69, 'event': 70, 'exampl': 71, 'hongkong': 72, 'maxim': 73, 'privat': 74, 'serv': 75, 'storybook': 76, 'style': 77, 'theatr': 78, 'typic': 79, 'build': 80, 'fantasi': 81, 'signag': 82, 'terribl': 83, 'wast': 84, 'childhood': 85, 'comparison': 86, 'cruis': 87, 'design': 88, 'environ': 89, 'explor': 90, 'jungl': 91, 'lion': 92, 'maximis': 93, 'micki': 94, 'onlin': 95, 'opinion': 96, 'popcorn': 97, 'public': 98, 'regard': 99, 'remain': 100, 'river': 101, 'rush': 102, 'sunday': 103, 'talk': 104, 'true': 105, 'whatev': 106, 'admit': 107, 'catch': 108, 'grown': 109, 'hous': 110, 'list': 111, 'state': 112, 'like': 113, 'lineup': 114, 'nightli': 115, 'suitabl': 116, 'inde': 117, 'memor': 118, 'defin': 119, 'model': 120, 'order': 121, 'varieti': 122, 'advis': 123, 'brought': 124, 'deal': 125, 'easili': 126, 'refurbish': 127, 'weekday': 128, 'fairytal': 129, 'movi': 130, 'scene': 131, 'assum': 132, 'averag': 133, 'construct': 134, 'finish': 135, 'fortun': 136, 'rider': 137, 'track': 138, 'speak': 139, 'becom': 140, 'dedic': 141, 'step': 142, 'subway': 143, 'tram': 144, 'bear': 145, 'klook': 146, 'tourist': 147, 'visibl': 148, 'wondrou': 149, 'deck': 150, 'downtown': 151, 'idea': 152, 'kinda': 153, 'okay': 154, 'pleas': 155, 'read': 156, 'seeker': 157, 'slow': 158, 'suck': 159, 'wednesday': 160, 'afraid': 161, 'chines': 162, 'loud': 163, 'standard': 164, 'teacup': 165, 'appeal': 166, 'flat': 167, 'renov': 168, 'sight': 169, 'sleep': 170, 'squar': 171, 'boat': 172, 'donald': 173, 'duck': 174, 'grizzli': 175, 'gulch': 176, 'opportun': 177, 'tarzan': 178, 'tomorrow': 179, 'languag': 180, 'shame': 181, 'exist': 182, 'inexpens': 183, 'outdoor': 184, 'tidi': 185, 'vegetarian': 186, 'virtual': 187, 'warm': 188, 'chicken': 189, 'scari': 190, 'advertis': 191, 'ball': 192, 'bowl': 193, 'buffet': 194, 'burger': 195, 'charg': 196, 'cheap': 197, 'china': 198, 'combo': 199, 'crazi': 200, 'deep': 201, 'discount': 202, 'elderli': 203, 'grab': 204, 'hollywood': 205, 'insan': 206, 'kiddi': 207, 'nearbi': 208, 'note': 209, 'salad': 210, 'supermarket': 211, 'voucher': 212, 'easier': 213, 'fault': 214, 'hire': 215, 'pram': 216, 'quickli': 217, 'replac': 218, 'caramel': 219, 'cloth': 220, 'daili': 221, 'highlight': 222, 'select': 223, 'sell': 224, 'umbrella': 225, 'held': 226, 'larg': 227, 'none': 228, 'pace': 229, 'previous': 230, 'slower': 231, 'hyperspac': 232, 'shanghai': 233, 'asian': 234, 'attend': 235, 'australia': 236, 'bewar': 237, 'cantones': 238, 'card': 239, 'carriag': 240, 'choos': 241, 'code': 242, 'depend': 243, 'dine': 244, 'doubl': 245, 'email': 246, 'english': 247, 'entitl': 248, 'ferri': 249, 'link': 250, 'lodg': 251, 'manor': 252, 'market': 253, 'mine': 254, 'mystic': 255, 'philharmag': 256, 'print': 257, 'quiet': 258, 'receiv': 259, 'rough': 260, 'roughli': 261, 'scan': 262, 'sent': 263, 'shape': 264, 'shuttl': 265, 'simul': 266, 'sooo': 267, 'speed': 268, 'sunni': 269, 'transport': 270, 'uniqu': 271, 'vari': 272, 'version': 273, 'websit': 274, 'window': 275, 'australian': 276, 'chanc': 277, 'fantasyland': 278, 'heap': 279, 'kind': 280, 'navig': 281, 'racer': 282, 'simpl': 283, 'skip': 284, 'unexpect': 285, 'younger': 286, 'advisor': 287, 'bank': 288, 'centr': 289, 'cheapest': 290, 'letter': 291, 'level': 292, 'numer': 293, 'offic': 294, 'pink': 295, 'rate': 296, 'road': 297, 'rout': 298, 'sale': 299, 'swap': 300, 'taxi': 301, 'cater': 302, 'ghost': 303, 'heard': 304, 'heavili': 305, 'mainli': 306, 'town': 307, 'carniv': 308, 'clearli': 309, 'costum': 310, 'join': 311, 'novemb': 312, 'period': 313, 'sometim': 314, 'spring': 315, 'amus': 316, 'tame': 317, 'maintain': 318, 'prioriti': 319, 'comfort': 320, 'contain': 321, 'festiv': 322, 'product': 323, 'remind': 324, 'selfi': 325, 'shoe': 326, 'song': 327, 'stick': 328, 'wear': 329, 'honest': 330, 'nearli': 331, 'ridicul': 332, 'seek': 333, 'cute': 334, 'lucki': 335, 'mediocr': 336, 'nugget': 337, 'regardless': 338, 'tick': 339, 'warn': 340, 'plaza': 341, 'cover': 342, 'exhaust': 343, 'remark': 344, 'simpli': 345, 'till': 346, 'valu': 347, 'variou': 348, 'wherea': 349, 'saturday': 350, 'zone': 351, 'terrif': 352, 'bigger': 353, 'colleg': 354, 'dress': 355, 'easter': 356, 'knew': 357, 'regret': 358, 'smallest': 359, 'pricey': 360, 'addit': 361, 'appear': 362, 'corn': 363, 'downsid': 364, 'heaven': 365, 'mind': 366, 'outlet': 367, 'statu': 368, 'blew': 369, 'fill': 370, 'glad': 371, 'halal': 372, 'facil': 373, 'game': 374, 'load': 375, 'safe': 376, 'transit': 377, 'incred': 378, 'sister': 379, 'teenag': 380, 'western': 381, 'polit': 382, 'backpack': 383, 'creativ': 384, 'direct': 385, 'door': 386, 'employe': 387, 'exit': 388, 'infant': 389, 'luggag': 390, 'metro': 391, 'reach': 392, 'schedul': 393, 'sticker': 394, 'storag': 395, 'superb': 396, 'trolley': 397, 'wifi': 398, 'wont': 399, 'bonu': 400, 'interact': 401, 'random': 402, 'sign': 403, 'captur': 404, 'everyday': 405, 'item': 406, 'snap': 407, 'creat': 408, 'nostalgia': 409, 'activ': 410, 'effect': 411, 'play': 412, 'pool': 413, 'provid': 414, 'swim': 415, 'allergi': 416, 'american': 417, 'frequent': 418, 'gluten': 419, 'grandson': 420, 'icon': 421, 'improv': 422, 'menu': 423, 'recent': 424, 'steak': 425, 'tast': 426, 'couldnt': 427, 'perform': 428, 'case': 429, 'chose': 430, 'closur': 431, 'prevent': 432, 'test': 433, 'third': 434, 'upgrad': 435, 'whenev': 436, 'alot': 437, 'kept': 438, 'battl': 439, 'directli': 440, 'drop': 441, 'muslim': 442, 'rang': 443, 'tahitian': 444, 'terrac': 445, 'treehous': 446, 'worri': 447, 'cleaner': 448, 'despit': 449, 'mall': 450, 'pregnant': 451, 'regular': 452, 'shock': 453, 'attent': 454, 'march': 455, 'tuesday': 456, 'packag': 457, 'wander': 458, 'april': 459, 'balloon': 460, 'confirm': 461, 'info': 462, 'luckili': 463, 'massiv': 464, 'unabl': 465, 'moment': 466, 'partial': 467, 'sold': 468, 'runaway': 469, 'round': 470, 'trick': 471, 'whilst': 472, 'coach': 473, 'engag': 474, 'fight': 475, 'forc': 476, 'jedi': 477, 'relax': 478, 'vacat': 479, 'airport': 480, 'anyon': 481, 'charm': 482, 'current': 483, 'fair': 484, 'ideal': 485, 'realiti': 486, 'smart': 487, 'smell': 488, 'sound': 489, 'spare': 490, 'straight': 491, 'strongli': 492, 'advanc': 493, 'quieter': 494, 'bucket': 495, 'lose': 496, 'merchandis': 497, 'size': 498, 'appar': 499, 'download': 500, 'goofi': 501, 'green': 502, 'hide': 503, 'latest': 504, 'music': 505, 'parachut': 506, 'pooh': 507, 'search': 508, 'sing': 509, 'winni': 510, 'babi': 511, 'clear': 512, 'compani': 513, 'signpost': 514, 'transfer': 515, 'feet': 516, 'hubbi': 517, 'hurt': 518, 'everybodi': 519, 'inform': 520, 'shut': 521, 'shake': 522, 'spirit': 523, 'februari': 524, 'float': 525, 'newer': 526, 'shorter': 527, 'updat': 528, 'seriou': 529, 'stage': 530, 'struggl': 531, 'eateri': 532, 'peak': 533, 'signatur': 534, 'kiosk': 535, 'conveni': 536, 'driver': 537, 'dumbo': 538, 'foreign': 539, 'longer': 540, 'onsit': 541, 'quick': 542, 'makeov': 543, 'matter': 544, 'paint': 545, 'pocket': 546, 'condit': 547, 'continu': 548, 'credit': 549, 'embarrass': 550, 'ensur': 551, 'gave': 552, 'journey': 553, 'messag': 554, 'occur': 555, 'pleasant': 556, 'record': 557, 'relat': 558, 'soft': 559, 'twice': 560, 'unlik': 561, 'shot': 562, 'shower': 563, 'thoroughli': 564, 'approx': 565, 'express': 566, 'senior': 567, 'didnt': 568, 'haha': 569, 'appreci': 570, 'celebr': 571, 'refund': 572, 'ruin': 573, 'undergo': 574, 'elsa': 575, 'frozen': 576, 'session': 577, 'beat': 578, 'cultur': 579, 'horror': 580, 'singapor': 581, 'tini': 582, 'univers': 583, 'weird': 584, 'yeah': 585, 'banquet': 586, 'carri': 587, 'coupon': 588, 'decis': 589, 'hall': 590, 'importantli': 591, 'minimum': 592, 'royal': 593, 'tale': 594, 'unit': 595, 'cloud': 596, 'commerci': 597, 'giant': 598, 'inspir': 599, 'rollercoast': 600, 'afford': 601, 'beverag': 602, 'cheaper': 603, 'equal': 604, 'fulli': 605, 'profession': 606, 'classic': 607, 'counter': 608, 'doubt': 609, 'healthi': 610, 'liter': 611, 'comment': 612, 'post': 613, 'resid': 614, 'revamp': 615, 'section': 616, 'suit': 617, 'enchant': 618, 'forest': 619, 'invest': 620, 'nois': 621, 'compens': 622, 'cream': 623, 'digit': 624, 'folk': 625, 'form': 626, 'involv': 627, 'lantau': 628, 'readi': 629, 'soooo': 630, 'toddler': 631, 'traffic': 632, 'monday': 633, 'cash': 634, 'deposit': 635, 'googl': 636, 'rent': 637, 'slip': 638, 'heart': 639, 'roam': 640, 'cartoon': 641, 'cinderella': 642, 'hate': 643, 'norm': 644, 'invit': 645, 'pose': 646, 'scream': 647, 'store': 648, 'besid': 649, 'expand': 650, 'slowli': 651, 'assist': 652, 'match': 653, 'prop': 654, 'admiss': 655, 'bathroom': 656, 'floor': 657, 'meat': 658, 'consum': 659, 'tough': 660, 'word': 661, 'believ': 662, 'built': 663, 'funni': 664, 'rubbish': 665, 'encount': 666, 'fare': 667, 'overwhelm': 668, 'rode': 669, 'announc': 670, 'atmospher': 671, 'cross': 672, 'flew': 673, 'manner': 674, 'patch': 675, 'phone': 676, 'process': 677, 'surprisingli': 678, 'disappear': 679, 'poor': 680, 'stuff': 681, 'term': 682, 'today': 683, 'swing': 684, 'turnstil': 685, 'unfriendli': 686, 'wors': 687, 'counterpart': 688, 'stress': 689, 'larger': 690, 'forecast': 691, 'explan': 692, 'patient': 693, 'meant': 694, 'beef': 695, 'delici': 696, 'promis': 697, 'white': 698, 'firstli': 699, 'multipl': 700, 'occas': 701, 'particular': 702, 'perhap': 703, 'requir': 704, 'unsur': 705, 'countless': 706, 'futur': 707, 'hear': 708, 'increas': 709, 'news': 710, 'grate': 711, 'potenti': 712, 'raini': 713, 'stroll': 714, 'thru': 715, 'worthwhil': 716, 'handl': 717, 'overcrowd': 718, 'hesit': 719, 'mention': 720, 'slinki': 721, 'soldier': 722, 'spin': 723, 'grandchildren': 724, 'laid': 725, 'answer': 726, 'contact': 727, 'cram': 728, 'draw': 729, 'fewer': 730, 'fourth': 731, 'imag': 732, 'black': 733, 'empti': 734, 'japan': 735, 'loos': 736, 'mascot': 737, 'posit': 738, 'serious': 739, 'starwar': 740, 'tabl': 741, 'welcom': 742, 'delight': 743, 'lesser': 744, 'occupi': 745, 'fear': 746, 'flow': 747, 'franc': 748, 'marathon': 749, 'normal': 750, 'phantom': 751, 'pushi': 752, 'ratatouil': 753, 'rope': 754, 'signific': 755, 'tall': 756, 'type': 757, 'york': 758, 'extortion': 759, 'ignor': 760, 'particularli': 761, 'significantli': 762, 'court': 763, 'beforehand': 764, 'januari': 765, 'moder': 766, 'shortest': 767, 'wrong': 768, 'crew': 769, 'fail': 770, 'club': 771, 'venu': 772, 'winter': 773, 'tend': 774, 'golden': 775, 'minni': 776, 'busiest': 777, 'kill': 778, 'wake': 779, 'prefer': 780, 'waffl': 781, 'accommod': 782, 'cart': 783, 'cranki': 784, 'restroom': 785, 'fairi': 786, 'sadli': 787, 'approach': 788, 'collect': 789, 'back': 790, 'gather': 791, 'organ': 792, 'effort': 793, 'aspect': 794, 'expans': 795, 'mess': 796, 'ourselv': 797, 'throw': 798, 'worker': 799, 'board': 800, 'detract': 801, 'hang': 802, 'overli': 803, 'result': 804, 'west': 805, 'actor': 806, 'danc': 807, 'difficult': 808, 'immens': 809, 'titl': 810, 'jumper': 811, 'churro': 812, 'cuisin': 813, 'blown': 814, 'preciou': 815, 'concierg': 816, 'experienc': 817, 'flight': 818, 'hold': 819, 'figur': 820, 'modern': 821, 'spaciou': 822, 'prici': 823, 'granddaught': 824, 'bore': 825, 'ceremoni': 826, 'imagin': 827, 'countri': 828, 'caught': 829, 'project': 830, 'twilight': 831, 'asia': 832, 'awar': 833, 'indian': 834, 'instruct': 835, 'island': 836, 'recal': 837, 'rule': 838, 'advic': 839, 'budget': 840, 'permit': 841, 'eldest': 842, 'nation': 843, 'ambianc': 844, 'block': 845, 'dole': 846, 'scale': 847, 'snow': 848, 'whip': 849, 'women': 850, 'septemb': 851, 'affect': 852, 'america': 853, 'blast': 854, 'busier': 855, 'lead': 856, 'teen': 857, 'dissapoint': 858, 'destin': 859, 'colour': 860, 'energi': 861, 'justifi': 862, 'reliv': 863, 'anim': 864, 'lifetim': 865, 'memori': 866, 'treat': 867, 'separ': 868, 'shout': 869, 'account': 870, 'horribl': 871, 'hyper': 872, 'junk': 873, 'bother': 874, 'indic': 875, 'overpr': 876, 'stupid': 877, 'refresh': 878, 'everytim': 879, 'ladi': 880, 'lost': 881, 'recept': 882, 'refus': 883, 'request': 884, 'someon': 885, 'technolog': 886, 'unhelp': 887, 'abov': 888, 'attitud': 889, 'silli': 890, 'daisi': 891, 'machin': 892, 'woodi': 893, 'dislik': 894, 'fraction': 895, 'exhibit': 896, 'leisur': 897, 'sorri': 898, 'adrenalin': 899, 'breath': 900, 'repeat': 901, 'washroom': 902, 'vibe': 903, 'retail': 904, 'fenc': 905, 'surround': 906, 'alon': 907, 'anybodi': 908, 'garbag': 909, 'truth': 910, 'write': 911, 'challeng': 912, 'partner': 913, 'ship': 914, 'tree': 915, 'divid': 916, 'father': 917, 'protect': 918, 'rail': 919, 'twist': 920, 'vist': 921, 'minim': 922, 'frankli': 923, 'garden': 924, 'realiz': 925, 'appli': 926, 'mini': 927, 'outfit': 928, 'promot': 929, 'unpleas': 930, 'realis': 931, 'combin': 932, 'dark': 933, 'darth': 934, 'slight': 935, 'vader': 936, 'defiantli': 937, 'delay': 938, 'hurri': 939, 'reduc': 940, 'fire': 941, 'wheel': 942, 'question': 943, 'locker': 944, 'cook': 945, 'degre': 946, 'freak': 947, 'oldest': 948, 'annual': 949, 'extens': 950, 'name': 951, 'import': 952, 'purs': 953, 'well': 954, 'dish': 955, 'kingdom': 956, 'paper': 957, 'plastic': 958, 'site': 959, 'therefor': 960, 'unbeliev': 961, 'decemb': 962, 'princ': 963, 'wheelchair': 964, 'hype': 965, 'intern': 966, 'jacket': 967, 'learn': 968, 'lesson': 969, 'count': 970, 'pure': 971, 'blue': 972, 'fascin': 973, 'focu': 974, 'focus': 975, 'greet': 976, 'initi': 977, 'photograph': 978, 'railroad': 979, 'strong': 980, 'termin': 981, 'turkey': 982, 'balanc': 983, 'deliv': 984, 'perfectli': 985, 'thursday': 986, 'necessari': 987, 'accid': 988, 'badg': 989, 'broke': 990, 'genuin': 991, 'glass': 992, 'patron': 993, 'piec': 994, 'discov': 995, 'chung': 996, 'diner': 997, 'escap': 998, 'purpos': 999, 'strang': 1000, 'touch': 1001, 'tung': 1002, 'adequ': 1003, 'miser': 1004, 'superior': 1005, 'caus': 1006, 'unforgett': 1007, 'restrict': 1008, 'suffici': 1009, 'dare': 1010, 'doesnt': 1011, 'souveni': 1012, 'complaint': 1013, 'effici': 1014, 'gain': 1015, 'pick': 1016, 'pleasantli': 1017, 'ultim': 1018, 'handi': 1019, 'outstand': 1020, 'spread': 1021, 'bright': 1022, 'guess': 1023, 'remov': 1024, 'offici': 1025, 'wrote': 1026, 'doabl': 1027, 'sour': 1028, 'appropri': 1029, 'soak': 1030, 'wise': 1031, 'accompani': 1032, 'anticip': 1033, 'cynic': 1034, 'deserv': 1035, 'gear': 1036, 'guid': 1037, 'rise': 1038, 'riverboat': 1039, 'safeti': 1040, 'shoot': 1041, 'video': 1042, 'ador': 1043, 'base': 1044, 'exactli': 1045, 'height': 1046, 'justic': 1047, 'stock': 1048, 'warmer': 1049, 'scare': 1050, 'anywher': 1051, 'laugh': 1052, 'proof': 1053, 'twenti': 1054, 'atleast': 1055, 'maze': 1056, 'prohibit': 1057, 'refer': 1058, 'youngest': 1059, 'cent': 1060, 'begin': 1061, 'candi': 1062, 'friday': 1063, 'apolog': 1064, 'anymor': 1065, 'claim': 1066, 'confus': 1067, 'excess': 1068, 'gotten': 1069, 'greatli': 1070, 'inevit': 1071, 'itinerari': 1072, 'mcqueen': 1073, 'midnight': 1074, 'mobil': 1075, 'perk': 1076, 'respect': 1077, 'connect': 1078, 'calm': 1079, 'hardli': 1080, 'maximum': 1081, 'smelli': 1082, 'stall': 1083, 'support': 1084, 'altern': 1085, 'mainstreet': 1086, 'oper': 1087, 'send': 1088, 'upset': 1089, 'anoth': 1090, 'date': 1091, 'elev': 1092, 'wallet': 1093, 'ambienc': 1094, 'mood': 1095, 'parti': 1096, 'tradit': 1097, 'revisit': 1098, 'alton': 1099, 'tower': 1100, 'barrier': 1101, 'clock': 1102, 'strike': 1103, 'breez': 1104, 'lover': 1105, 'follow': 1106, 'timer': 1107, 'specif': 1108, 'skill': 1109, 'fall': 1110, 'cashier': 1111, 'control': 1112, 'squeez': 1113, 'happili': 1114, 'realist': 1115, 'intend': 1116, 'understood': 1117, 'pain': 1118, 'august': 1119, 'juli': 1120, 'mass': 1121, 'stood': 1122, 'chip': 1123, 'fish': 1124, 'somewher': 1125, 'dramat': 1126, 'costli': 1127, 'dirti': 1128, 'doll': 1129, 'instanc': 1130, 'museum': 1131, 'octob': 1132, 'shirt': 1133, 'worn': 1134, 'cleanest': 1135, 'lastli': 1136, 'mainland': 1137, 'yearli': 1138, 'wide': 1139, 'allot': 1140, 'circl': 1141, 'endur': 1142, 'kiddo': 1143, 'tasti': 1144, 'heavi': 1145, 'outdat': 1146, 'sausag': 1147, 'hassl': 1148, 'grandkid': 1149, 'vendor': 1150, 'bang': 1151, 'buck': 1152, 'disabl': 1153, 'intens': 1154, 'advantag': 1155, 'noon': 1156, 'cinema': 1157, 'bench': 1158, 'consist': 1159, 'race': 1160, 'hidden': 1161, 'honestli': 1162, 'abil': 1163, 'imposs': 1164, 'known': 1165, 'movement': 1166, 'path': 1167, 'amen': 1168, 'share': 1169, 'amongst': 1170, 'attempt': 1171, 'dale': 1172, 'hilari': 1173, 'launch': 1174, 'spoke': 1175, 'wall': 1176, 'repair': 1177, 'frustrat': 1178, 'pluto': 1179, 'respons': 1180, 'yell': 1181, 'bottom': 1182, 'concern': 1183, 'hors': 1184, 'slot': 1185, 'split': 1186, 'wasnt': 1187, 'angri': 1188, 'behaviour': 1189, 'crap': 1190, 'guard': 1191, 'polic': 1192, 'stare': 1193, 'complimentari': 1194, 'convert': 1195, 'factor': 1196, 'electr': 1197, 'flash': 1198, 'plate': 1199, 'portion': 1200, 'desir': 1201, 'landscap': 1202, 'girlfriend': 1203, 'needless': 1204, 'anytim': 1205, 'stun': 1206, 'minor': 1207, 'asid': 1208, 'hundr': 1209, 'unhappi': 1210, 'transform': 1211, 'blog': 1212, 'chao': 1213, 'bare': 1214, 'jack': 1215, 'plain': 1216, 'villain': 1217, 'audienc': 1218, 'soar': 1219, 'solo': 1220, 'cousin': 1221, 'practic': 1222, 'chees': 1223, 'sandwich': 1224, 'henc': 1225, 'research': 1226, 'dampen': 1227, 'eeyor': 1228, 'frame': 1229, 'grow': 1230, 'inner': 1231, 'patienc': 1232, 'quicker': 1233, 'reflect': 1234, 'spotless': 1235, 'unlimit': 1236, 'accordingli': 1237, 'blow': 1238, 'illumin': 1239, 'consider': 1240, 'raincoat': 1241, 'surviv': 1242, 'upkeep': 1243, 'wore': 1244, 'heat': 1245, 'motion': 1246, 'reli': 1247, 'trash': 1248, 'prior': 1249, 'unfair': 1250, 'agre': 1251, 'railway': 1252, 'adventureland': 1253, 'cleanli': 1254, 'higher': 1255, 'hospit': 1256, 'joke': 1257, 'matterhorn': 1258, 'team': 1259, 'repres': 1260, 'litter': 1261, 'picnic': 1262, 'hair': 1263, 'hell': 1264, 'pour': 1265, 'pull': 1266, 'suddenli': 1267, 'tune': 1268, 'bite': 1269, 'brother': 1270, 'constant': 1271, 'constantli': 1272, 'corpor': 1273, 'dust': 1274, 'fanci': 1275, 'wherev': 1276, 'excus': 1277, 'repli': 1278, 'crow': 1279, 'element': 1280, 'grandpar': 1281, 'franchis': 1282, 'pixar': 1283, 'ident': 1284, 'util': 1285, 'smooth': 1286, 'action': 1287, 'arrang': 1288, 'bump': 1289, 'cabin': 1290, 'valid': 1291, 'buse': 1292, 'lane': 1293, 'redeem': 1294, 'nephew': 1295, 'organis': 1296, 'basi': 1297, 'lunchtim': 1298, 'proceed': 1299, 'trek': 1300, 'written': 1301, 'angel': 1302, 'pavement': 1303, 'honeymoon': 1304, 'kitchen': 1305, 'authent': 1306, 'june': 1307, 'extend': 1308, 'forev': 1309, 'progress': 1310, 'poncho': 1311, 'shelter': 1312, 'ground': 1313, 'typhoon': 1314, 'emot': 1315, 'voic': 1316, 'eurodisney': 1317, 'screen': 1318, 'natur': 1319, 'fanat': 1320, 'produc': 1321, 'middl': 1322, 'unbear': 1323, 'annoy': 1324, 'fianc': 1325, 'jump': 1326, 'neck': 1327, 'nightmar': 1328, 'pointless': 1329, 'visual': 1330, 'difficulti': 1331, 'chill': 1332, 'score': 1333, 'concept': 1334, 'spectacl': 1335, 'programm': 1336, 'click': 1337, 'explain': 1338, 'nobodi': 1339, 'penni': 1340, 'ventur': 1341, 'wouldnt': 1342, 'cooler': 1343, 'stomach': 1344, 'broken': 1345, 'button': 1346, 'flood': 1347, 'press': 1348, 'coat': 1349, 'palac': 1350, 'polici': 1351, 'impact': 1352, 'sort': 1353, 'cell': 1354, 'ring': 1355, 'storm': 1356, 'toler': 1357, 'distribut': 1358, 'nearest': 1359, 'gorgeou': 1360, 'immacul': 1361, 'orient': 1362, 'sunscreen': 1363, 'describ': 1364, 'fuss': 1365, 'thumb': 1366, 'nighttim': 1367, 'prove': 1368, 'wild': 1369, 'bodi': 1370, 'stitch': 1371, 'passport': 1372, 'bummer': 1373, 'exceed': 1374, 'shown': 1375, 'academi': 1376, 'benefit': 1377, 'class': 1378, 'climb': 1379, 'nostalg': 1380, 'theater': 1381, 'forgot': 1382, 'satisfi': 1383, 'restur': 1384, 'closest': 1385, 'loop': 1386, 'cant': 1387, 'center': 1388, 'greed': 1389, 'plane': 1390, 'silver': 1391, 'eaten': 1392, 'daytim': 1393, 'await': 1394, 'immers': 1395, 'fresh': 1396, 'hotdog': 1397, 'drive': 1398, 'past': 1399, 'cooki': 1400, 'individu': 1401, 'indoor': 1402, 'spoil': 1403, 'anniversari': 1404, 'sick': 1405, 'properli': 1406, 'east': 1407, 'film': 1408, 'frighten': 1409, 'grew': 1410, 'notch': 1411, 'yummi': 1412, 'amazingli': 1413, 'mcdonald': 1414, 'useless': 1415, 'faint': 1416, 'soup': 1417, 'parc': 1418, 'got': 1419, 'ta': 1420, 'unusu': 1421, 'grill': 1422, 'vision': 1423, 'fond': 1424, 'arrog': 1425, 'atract': 1426, 'burn': 1427, 'noth': 1428, 'translat': 1429, 'bell': 1430, 'technic': 1431, 'comfi': 1432, 'rock': 1433, 'stuck': 1434, 'ampl': 1435, 'citizen': 1436, 'ordinari': 1437, 'lower': 1438, 'structur': 1439, 'agent': 1440, 'equip': 1441, 'roll': 1442, 'south': 1443, 'orang': 1444, 'isnt': 1445, 'greatest': 1446, 'approxim': 1447, 'luck': 1448, 'rice': 1449, 'sake': 1450, 'stolen': 1451, 'beer': 1452, 'rare': 1453, 'forward': 1454, 'lake': 1455, 'student': 1456, 'earlier': 1457, 'mistak': 1458, 'establish': 1459, 'fake': 1460, 'length': 1461, 'chaotic': 1462, 'common': 1463, 'dread': 1464, 'immedi': 1465, 'sauc': 1466, 'wave': 1467, 'neat': 1468, 'bypass': 1469, 'midday': 1470, 'hydrat': 1471, 'uncomfort': 1472, 'sport': 1473, 'alloc': 1474, 'thousand': 1475, 'cope': 1476, 'trap': 1477, 'sens': 1478, 'complain': 1479, 'brave': 1480, 'strict': 1481, 'avid': 1482, 'chain': 1483, 'hill': 1484, 'proper': 1485, 'speaker': 1486, 'aliv': 1487, 'vast': 1488, 'courteou': 1489, 'marri': 1490, 'steep': 1491, 'success': 1492, 'accord': 1493, 'gang': 1494, 'jolli': 1495, 'priceless': 1496, 'finger': 1497, 'phenomen': 1498, 'regist': 1499, 'iphon': 1500, 'ariel': 1501, 'mile': 1502, 'tigger': 1503, 'self': 1504, 'tear': 1505, 'thur': 1506, 'distanc': 1507, 'breathtak': 1508, 'regularli': 1509, 'guarante': 1510, 'outing': 1511, 'desert': 1512, 'renew': 1513, 'congest': 1514, 'bearabl': 1515, 'batteri': 1516, 'camera': 1517, 'boyfriend': 1518, 'yesterday': 1519, 'shortli': 1520, 'cherish': 1521, 'instal': 1522, 'trust': 1523, 'cheer': 1524, 'coast': 1525, 'gold': 1526, 'spoilt': 1527, 'target': 1528, 'background': 1529, 'magnific': 1530, 'raft': 1531, 'alcohol': 1532, 'danger': 1533, 'upto': 1534, 'enthusiast': 1535, 'obviou': 1536, 'reopen': 1537, 'bake': 1538, 'dancer': 1539, 'melt': 1540, 'mouth': 1541, 'began': 1542, 'concess': 1543, 'hero': 1544, 'tight': 1545, 'smoothli': 1546, 'fulfil': 1547, 'personnel': 1548, 'veggi': 1549, 'decad': 1550, 'introduc': 1551, 'laser': 1552, 'foot': 1553, 'rais': 1554, 'color': 1555, 'towel': 1556, 'dessert': 1557, 'fave': 1558, 'alik': 1559, 'piti': 1560, 'exorbit': 1561, 'perspect': 1562, 'switch': 1563, 'shine': 1564, 'europ': 1565, 'peac': 1566, 'suitcas': 1567, 'autograph': 1568, 'drag': 1569, 'program': 1570, 'function': 1571, 'cave': 1572, 'thrown': 1573, 'correct': 1574, 'goer': 1575, 'conclus': 1576, 'role': 1577, 'bargain': 1578, 'execut': 1579, 'poppin': 1580, 'counti': 1581, 'coke': 1582, 'planet': 1583, 'kick': 1584, 'playground': 1585, 'galaxi': 1586, 'anna': 1587, 'stretch': 1588, 'enabl': 1589, 'later': 1590, 'apart': 1591, 'strateg': 1592, 'temperatur': 1593, 'happier': 1594, 'epcot': 1595, 'holder': 1596, 'secondli': 1597, 'bunch': 1598, 'desper': 1599, 'pixi': 1600, 'dozen': 1601, 'lengthi': 1602, 'inconveni': 1603, 'ridden': 1604, 'competit': 1605, 'subject': 1606, 'boutiqu': 1607, 'knock': 1608, 'continent': 1609, 'estim': 1610, 'walkway': 1611, 'veteran': 1612, 'critic': 1613, 'channel': 1614, 'photopass': 1615, 'gripe': 1616, 'chair': 1617, 'staf': 1618, 'innov': 1619, 'cake': 1620, 'orbitron': 1621, 'mental': 1622, 'barg': 1623, 'freez': 1624, 'arcad': 1625, 'situat': 1626, 'badli': 1627, 'european': 1628, 'fell': 1629, 'carousel': 1630, 'endless': 1631, 'paradis': 1632, 'irrit': 1633, 'heck': 1634, 'hungri': 1635, 'pleasur': 1636, 'niec': 1637, 'rental': 1638, 'desk': 1639, 'knowledg': 1640, 'appoint': 1641, 'jostl': 1642, 'accur': 1643, 'horrend': 1644, 'sidewalk': 1645, 'earn': 1646, 'mark': 1647, 'mother': 1648, 'risk': 1649, 'report': 1650, 'spotlessli': 1651, 'bubbl': 1652, 'user': 1653, 'faster': 1654, 'sunshin': 1655, 'eleph': 1656, 'exchang': 1657, 'physic': 1658, 'soda': 1659, 'internet': 1660, 'enforc': 1661, 'temporarili': 1662, 'commun': 1663, 'impecc': 1664, 'closer': 1665, 'windi': 1666, 'forth': 1667, 'memorabilia': 1668, 'spur': 1669, 'quaint': 1670, 'histori': 1671, 'occasion': 1672, 'pier': 1673, 'reput': 1674, 'judg': 1675, 'pair': 1676, 'treatment': 1677, 'vehicl': 1678, 'overlook': 1679, 'attack': 1680, 'settl': 1681, 'monster': 1682, 'bread': 1683, 'exact': 1684, 'hamburg': 1685, 'aggress': 1686, 'curiou': 1687, 'studi': 1688, 'wonderland': 1689, 'joint': 1690, 'hatter': 1691, 'beast': 1692, 'pressur': 1693, 'incid': 1694, 'crush': 1695, 'multi': 1696, 'dull': 1697, 'complex': 1698, 'emerg': 1699, 'equival': 1700, 'copi': 1701, 'becam': 1702, 'escort': 1703, 'vantag': 1704, 'captiv': 1705, 'disast': 1706, 'elsewher': 1707, 'troubl': 1708, 'utilis': 1709, 'favour': 1710, 'chase': 1711, 'calendar': 1712, 'sheer': 1713, 'depart': 1714, 'durat': 1715, 'content': 1716, 'develop': 1717, 'keen': 1718, 'summari': 1719, 'passeng': 1720, 'stamp': 1721, 'valuabl': 1722, 'power': 1723, 'grumpi': 1724, 'opposit': 1725, 'encourag': 1726, 'whatsoev': 1727, 'wrap': 1728, 'sparkl': 1729, 'pretzel': 1730, 'appal': 1731, 'band': 1732, 'cramp': 1733, 'tinkerbel': 1734, 'autopia': 1735, 'mission': 1736, 'wine': 1737, 'reaction': 1738, 'shell': 1739, 'tripadvisor': 1740, 'pretend': 1741, 'flag': 1742, 'quarter': 1743, 'sept': 1744, 'host': 1745, 'disgust': 1746, 'observ': 1747, 'particip': 1748, 'trade': 1749, 'standbi': 1750, 'strategi': 1751, 'terror': 1752, 'discoveri': 1753, 'thin': 1754, 'eventu': 1755, 'essenti': 1756, 'volum': 1757, 'insist': 1758, 'fruit': 1759, 'junki': 1760, 'pineappl': 1761, 'wind': 1762, 'dear': 1763, 'gon': 1764, 'outrag': 1765, 'fashion': 1766, 'shoulder': 1767, 'dragon': 1768, 'nicer': 1769, 'astro': 1770, 'blaster': 1771, 'rocket': 1772, 'buggi': 1773, 'pizza': 1774, 'blame': 1775, 'socal': 1776, 'relief': 1777, 'chocol': 1778, 'rapunzel': 1779, 'grant': 1780, 'dead': 1781, 'achiev': 1782, 'convent': 1783, 'deni': 1784, 'unaccept': 1785, 'attach': 1786, 'suppli': 1787, 'woman': 1788, 'fade': 1789, 'cali': 1790, 'suffer': 1791, 'sawyer': 1792, 'romant': 1793, 'plant': 1794, 'lock': 1795, 'medic': 1796, 'headach': 1797, 'hakuna': 1798, 'matata': 1799, 'feed': 1800, 'pushchair': 1801, 'health': 1802, 'steam': 1803, 'bless': 1804, 'lighter': 1805, 'stake': 1806, 'clever': 1807, 'bridg': 1808, 'southern': 1809, 'bill': 1810, 'measur': 1811, 'capac': 1812, 'listen': 1813, 'premium': 1814, 'flower': 1815, 'bird': 1816, 'juic': 1817, 'twin': 1818, 'invent': 1819, 'evid': 1820, 'privileg': 1821, 'flexibl': 1822, 'sugar': 1823, 'disapoint': 1824, 'curb': 1825, 'predict': 1826, 'horrif': 1827, 'moan': 1828, 'queen': 1829, 'enthusiasm': 1830, 'supervisor': 1831, 'concentr': 1832, 'templ': 1833, 'intent': 1834, 'favor': 1835, 'poorli': 1836, 'hectic': 1837, 'lame': 1838, 'chosen': 1839, 'convers': 1840, 'receipt': 1841, 'filthi': 1842, 'chilli': 1843, 'human': 1844, 'nasti': 1845, 'santa': 1846, 'london': 1847, 'milk': 1848, 'sneak': 1849, 'pasta': 1850, 'hunt': 1851, 'uniform': 1852, 'hint': 1853, 'aerosmith': 1854, 'address': 1855, 'potato': 1856, 'alic': 1857, 'convinc': 1858, 'robinson': 1859, 'swiss': 1860, 'toon': 1861, 'chef': 1862, 'refurb': 1863, 'determin': 1864, 'motel': 1865, 'orlean': 1866, 'booth': 1867, 'upsid': 1868, 'distract': 1869, 'animatron': 1870, 'perman': 1871, 'enorm': 1872, 'demand': 1873, 'wipe': 1874, 'appl': 1875, 'radiat': 1876, 'substanti': 1877, 'mania': 1878, 'toad': 1879, 'discuss': 1880, 'profit': 1881, 'harbor': 1882, 'mermaid': 1883, 'hook': 1884, 'carribean': 1885, 'rabbit': 1886, 'roger': 1887, 'mechan': 1888, 'homework': 1889, 'frontier': 1890, 'pavilion': 1891, 'wash': 1892, 'enhanc': 1893, 'disgrac': 1894, 'lift': 1895, 'metal': 1896, 'villag': 1897, 'labor': 1898, 'captain': 1899, 'treasur': 1900, 'hole': 1901, 'drove': 1902, 'motor': 1903, 'handicap': 1904, 'crack': 1905, 'beach': 1906, 'canada': 1907, 'stair': 1908, 'harder': 1909, 'terrifi': 1910, 'legoland': 1911, 'inch': 1912, 'slice': 1913, 'thanksgiv': 1914, 'born': 1915, 'nemo': 1916, 'submarin': 1917, 'tunnel': 1918, 'cattl': 1919, 'cowboy': 1920, 'secret': 1921, 'england': 1922, 'utterli': 1923, 'grotto': 1924, 'frontierland': 1925, 'expir': 1926, 'obtain': 1927, 'junior': 1928, 'herd': 1929, 'scooter': 1930, 'monorail': 1931, 'aladdin': 1932, 'http': 1933, 'starter': 1934, 'shrug': 1935, 'shabbi': 1936, 'tiki': 1937, 'fantasm': 1938, 'smoker': 1939, 'butt': 1940, 'annett': 1941, 'pound': 1942, 'british': 1943, 'port': 1944, 'rose': 1945, 'twain': 1946, 'lazer': 1947, 'camp': 1948, 'farm': 1949, 'carpet': 1950, 'passhold': 1951, 'bobsl': 1952, 'magician': 1953, 'autism': 1954, 'layer': 1955, 'diego': 1956, 'crisp': 1957, 'ranch': 1958, 'californian': 1959, 'sore': 1960, 'militari': 1961, 'guardian': 1962, 'histor': 1963, 'inflat': 1964, 'pinocchio': 1965, 'maxpass': 1966, 'bayou': 1967, 'grad': 1968, 'carnat': 1969, 'berri': 1970, 'knott': 1971, 'ridemax': 1972, 'toontown': 1973, 'breakdown': 1974, 'lincoln': 1975, 'mexican': 1976, 'critter': 1977, 'garag': 1978, 'unoffici': 1979, 'soarin': 1980, 'screamin': 1981, 'beignet': 1982, 'casey': 1983, 'cigarett': 1984, 'footstep': 1985, 'mari': 1986, 'blanket': 1987, 'peril': 1988, 'steakhous': 1989, 'rainforest': 1990, 'vega': 1991, 'crockett': 1992, 'carsland': 1993, 'circu': 1994, 'newport': 1995, 'waiter': 1996, 'lagoon': 1997, 'davi': 1998, 'diamond': 1999, 'sequoia': 2000, 'stunt': 2001, 'buffalo': 2002, 'earl': 2003, 'pavillion': 2004, 'croissant': 2005, 'discoveryland': 2006, 'cheyenn': 2007, 'eurostar': 2008, 'auberg': 2009, 'cendrillon': 2010, 'remi': 2011, 'marn': 2012, 'labyrinth': 2013, 'valle': 2014, 'armageddon': 2015}\n"
     ]
    }
   ],
   "source": [
    "import gensim.corpora as corpora\n",
    "\n",
    "# Construct term dictionary in the format \"Term : Index\"\n",
    "id2word = corpora.Dictionary(df['Cleaned_doc_LDA'])\n",
    "print(id2word.token2id)"
   ]
  },
  {
   "cell_type": "code",
   "execution_count": 221,
   "metadata": {},
   "outputs": [
    {
     "name": "stdout",
     "output_type": "stream",
     "text": [
      "[[(0, 1), (1, 1), (2, 1), (3, 1), (4, 1)], [(5, 2), (6, 1), (7, 1), (8, 1), (9, 1), (10, 1), (11, 1), (12, 1), (13, 1), (14, 1), (15, 1), (16, 1), (17, 1), (18, 1), (19, 1), (20, 1), (21, 1), (22, 1), (23, 1), (24, 1), (25, 1), (26, 1)], [(21, 1), (27, 1), (28, 1), (29, 1), (30, 1), (31, 1), (32, 1), (33, 1), (34, 1), (35, 1), (36, 1), (37, 1), (38, 1), (39, 1), (40, 1)], [(40, 1), (41, 1), (42, 1), (43, 1), (44, 1), (45, 1), (46, 1), (47, 1), (48, 1)], [(49, 1), (50, 1)], [(26, 1), (30, 1), (51, 1), (52, 1), (53, 1), (54, 1), (55, 1), (56, 1), (57, 1), (58, 1), (59, 1), (60, 1), (61, 1)], [(62, 1), (63, 1)], [(64, 1), (65, 1), (66, 1), (67, 1), (68, 1), (69, 1), (70, 1), (71, 1), (72, 1), (73, 1), (74, 1), (75, 1), (76, 1), (77, 1), (78, 1), (79, 1)], [(7, 1), (80, 1), (81, 1), (82, 1), (83, 1), (84, 1)], [(85, 1), (86, 1), (87, 1), (88, 1), (89, 1), (90, 1), (91, 1), (92, 1), (93, 1), (94, 1), (95, 1), (96, 1), (97, 1), (98, 1), (99, 1), (100, 1), (101, 1), (102, 1), (103, 1), (104, 1), (105, 1), (106, 1)]]\n"
     ]
    }
   ],
   "source": [
    "#Bag of Word Representation\n",
    "Corpus = [id2word.doc2bow(text) for text in df['Cleaned_doc_LDA']]\n",
    "print(Corpus[:10])"
   ]
  },
  {
   "cell_type": "markdown",
   "metadata": {},
   "source": [
    "## Applying Gensim Model"
   ]
  },
  {
   "cell_type": "code",
   "execution_count": 147,
   "metadata": {
    "scrolled": true
   },
   "outputs": [
    {
     "name": "stdout",
     "output_type": "stream",
     "text": [
      "[(0,\n",
      "  '0.019*\"complain\" + 0.015*\"deal\" + 0.014*\"buggi\" + 0.013*\"charg\" + '\n",
      "  '0.013*\"europ\" + 0.012*\"sign\" + 0.012*\"didnt\" + 0.011*\"cheap\" + 0.011*\"hole\" '\n",
      "  '+ 0.010*\"idea\"'),\n",
      " (1,\n",
      "  '0.017*\"floor\" + 0.012*\"machin\" + 0.012*\"date\" + 0.011*\"menu\" + '\n",
      "  '0.011*\"coffe\" + 0.011*\"poorli\" + 0.010*\"rock\" + 0.010*\"themselv\" + '\n",
      "  '0.010*\"slip\" + 0.010*\"alton\"'),\n",
      " (2,\n",
      "  '0.027*\"carribean\" + 0.021*\"lodg\" + 0.019*\"broke\" + 0.015*\"laser\" + '\n",
      "  '0.014*\"lightyear\" + 0.012*\"cafe\" + 0.011*\"wander\" + 0.010*\"tigger\" + '\n",
      "  '0.010*\"fantasyland\" + 0.010*\"beer\"'),\n",
      " (3,\n",
      "  '0.031*\"tower\" + 0.026*\"buffet\" + 0.020*\"broken\" + 0.016*\"burger\" + '\n",
      "  '0.013*\"pick\" + 0.011*\"terror\" + 0.010*\"cafe\" + 0.010*\"driver\" + '\n",
      "  '0.010*\"door\" + 0.010*\"captain\"'),\n",
      " (4,\n",
      "  '0.026*\"dont\" + 0.024*\"eurodisney\" + 0.016*\"fade\" + 0.016*\"younger\" + '\n",
      "  '0.014*\"shuttl\" + 0.013*\"stitch\" + 0.013*\"suffer\" + 0.011*\"photograph\" + '\n",
      "  '0.011*\"phone\" + 0.011*\"compani\"'),\n",
      " (5,\n",
      "  '0.012*\"sell\" + 0.012*\"chip\" + 0.012*\"litter\" + 0.011*\"round\" + '\n",
      "  '0.011*\"search\" + 0.010*\"bill\" + 0.010*\"autograph\" + 0.010*\"coffe\" + '\n",
      "  '0.010*\"fresh\" + 0.009*\"shame\"'),\n",
      " (6,\n",
      "  '0.024*\"shuttl\" + 0.017*\"sign\" + 0.014*\"call\" + 0.012*\"english\" + '\n",
      "  '0.012*\"readi\" + 0.009*\"technic\" + 0.009*\"crush\" + 0.009*\"speak\" + '\n",
      "  '0.009*\"game\" + 0.008*\"inform\"'),\n",
      " (7,\n",
      "  '0.053*\"villag\" + 0.040*\"snow\" + 0.012*\"dirti\" + 0.011*\"ratatouil\" + '\n",
      "  '0.009*\"mcdonald\" + 0.009*\"lightyear\" + 0.008*\"eurostar\" + 0.008*\"minni\" + '\n",
      "  '0.008*\"smoker\" + 0.008*\"becam\"'),\n",
      " (8,\n",
      "  '0.027*\"disabl\" + 0.018*\"true\" + 0.017*\"comfort\" + 0.016*\"european\" + '\n",
      "  '0.016*\"wear\" + 0.015*\"santa\" + 0.014*\"disgust\" + 0.014*\"pavement\" + '\n",
      "  '0.014*\"hall\" + 0.013*\"fabul\"'),\n",
      " (9,\n",
      "  '0.023*\"franc\" + 0.013*\"pushchair\" + 0.010*\"american\" + 0.009*\"term\" + '\n",
      "  '0.008*\"york\" + 0.008*\"frustrat\" + 0.008*\"standard\" + 0.008*\"organis\" + '\n",
      "  '0.008*\"count\" + 0.008*\"rubbish\"')]\n"
     ]
    }
   ],
   "source": [
    "import gensim\n",
    "from gensim.models.ldamodel import LdaModel\n",
    "from pprint import pprint#\n",
    "\n",
    "#Train model using bag of word reprentation\n",
    "lda_model = gensim.models.ldamodel.LdaModel(corpus=Corpus,\n",
    "                                       id2word=id2word,\n",
    "                                       num_topics=10,\n",
    "                                       random_state=100)\n",
    "\n",
    "#Print the Keyword in the 10 topics\n",
    "pprint(lda_model.print_topics(num_words=10))\n",
    "doc_lda = lda_model[Corpus]"
   ]
  },
  {
   "cell_type": "markdown",
   "metadata": {},
   "source": [
    "### Computing Coherence Score"
   ]
  },
  {
   "cell_type": "code",
   "execution_count": 148,
   "metadata": {},
   "outputs": [
    {
     "name": "stdout",
     "output_type": "stream",
     "text": [
      "\n",
      "Coherence Score:  0.424837834523899\n"
     ]
    }
   ],
   "source": [
    "from gensim.models import CoherenceModel\n",
    "\n",
    "# Compute Coherence Score. Note: that CoherenceModel require \n",
    "# text input format (Cleaned_doc_new) instead of bag of word \n",
    "coherence_model_lda = CoherenceModel(model=lda_model, \n",
    "                                     texts=Cleaned_doc_new, \n",
    "                                     dictionary=id2word, \n",
    "                                     coherence='c_v')\n",
    "\n",
    "\n",
    "coherence_lda = coherence_model_lda.get_coherence()\n",
    "print('\\nCoherence Score: ', coherence_lda)"
   ]
  },
  {
   "cell_type": "markdown",
   "metadata": {},
   "source": [
    "<a id = \"cell_Experiment\"></a>\n",
    "###  Experiment with Topic Numbers to select the Best Model\n",
    "\n",
    "In the following Code, we will make multiple LDA models with varied numbers of topics and evaluate their coherence score. "
   ]
  },
  {
   "cell_type": "code",
   "execution_count": 149,
   "metadata": {},
   "outputs": [
    {
     "name": "stdout",
     "output_type": "stream",
     "text": [
      "Topic Number: 2 -- Coherence: 0.3171622409219222\n",
      "Topic Number: 3 -- Coherence: 0.39729388004396543\n",
      "Topic Number: 4 -- Coherence: 0.35467060768259584\n",
      "Topic Number: 5 -- Coherence: 0.4006777983606118\n",
      "Topic Number: 6 -- Coherence: 0.3875197019196848\n",
      "Topic Number: 7 -- Coherence: 0.4107070039517341\n",
      "Topic Number: 8 -- Coherence: 0.4417670892925956\n",
      "Topic Number: 9 -- Coherence: 0.4349756150145399\n",
      "Topic Number: 10 -- Coherence: 0.424837834523899\n"
     ]
    }
   ],
   "source": [
    "#Evaluation models with topics numbers from 2 to 10\n",
    "Topics = list(range(2,11,1))\n",
    "coherence_scores = []\n",
    "Trained_Models = []\n",
    "for top in Topics:\n",
    "    lda_model = gensim.models.ldamodel.LdaModel(corpus=Corpus,\n",
    "                                               id2word=id2word,\n",
    "                                               num_topics=top,\n",
    "                                               random_state=100)\n",
    "    #Keep the trained models\n",
    "    Trained_Models.append(lda_model)\n",
    "    #Compute coherence score for each model\n",
    "    coherence_model_lda = CoherenceModel(model=lda_model, \n",
    "                                         texts=Cleaned_doc_new, \n",
    "                                         dictionary=id2word, \n",
    "                                         coherence='c_v')\n",
    "    coherence = coherence_model_lda.get_coherence()\n",
    "    #Save and print the coherence scores \n",
    "    coherence_scores.append(coherence)\n",
    "    print('Topic Number: {0} -- Coherence: {1}'.format(top, coherence))"
   ]
  },
  {
   "cell_type": "markdown",
   "metadata": {},
   "source": [
    "## Figure F.2"
   ]
  },
  {
   "cell_type": "code",
   "execution_count": 222,
   "metadata": {},
   "outputs": [
    {
     "data": {
      "image/png": "[encoded data removed]",
      "text/plain": [
       "<Figure size 432x288 with 1 Axes>"
      ]
     },
     "metadata": {
      "needs_background": "light"
     },
     "output_type": "display_data"
    }
   ],
   "source": [
    "pyplot.plot(coherence_scores)\n",
    "pyplot.xticks(range(0,len(Topics)),Topics)\n",
    "pyplot.title('Coherence Score by Topic Number', fontsize=16)\n",
    "pyplot.xlabel('Topic Number')\n",
    "pyplot.ylabel('Coherence');"
   ]
  },
  {
   "cell_type": "markdown",
   "metadata": {},
   "source": [
    "## Best Model"
   ]
  },
  {
   "cell_type": "code",
   "execution_count": 279,
   "metadata": {
    "scrolled": true
   },
   "outputs": [
    {
     "data": {
      "text/plain": [
       "[(0,\n",
       "  '0.013*\"complain\" + 0.012*\"sign\" + 0.010*\"poorli\" + 0.010*\"deal\" + 0.010*\"autograph\" + 0.009*\"imagin\" + 0.009*\"rock\" + 0.009*\"buggi\" + 0.008*\"shut\" + 0.008*\"alton\"'),\n",
       " (1,\n",
       "  '0.021*\"dirti\" + 0.020*\"broken\" + 0.017*\"poor\" + 0.016*\"franc\" + 0.012*\"machin\" + 0.010*\"pushchair\" + 0.009*\"coffe\" + 0.008*\"terribl\" + 0.008*\"kept\" + 0.008*\"build\"'),\n",
       " (2,\n",
       "  '0.019*\"carribean\" + 0.015*\"cafe\" + 0.012*\"captain\" + 0.012*\"laser\" + 0.011*\"menu\" + 0.009*\"search\" + 0.009*\"phantom\" + 0.007*\"broke\" + 0.007*\"enabl\" + 0.007*\"fresh\"'),\n",
       " (3,\n",
       "  '0.024*\"tower\" + 0.024*\"villag\" + 0.016*\"burger\" + 0.013*\"disabl\" + 0.013*\"chip\" + 0.012*\"eurostar\" + 0.010*\"lodg\" + 0.009*\"terror\" + 0.009*\"pick\" + 0.009*\"shuttl\"'),\n",
       " (4,\n",
       "  '0.019*\"santa\" + 0.016*\"dont\" + 0.015*\"european\" + 0.014*\"younger\" + 0.013*\"childhood\" + 0.013*\"partner\" + 0.012*\"pavement\" + 0.012*\"shuttl\" + 0.012*\"american\" + 0.011*\"memori\"'),\n",
       " (5,\n",
       "  '0.021*\"villag\" + 0.013*\"comfort\" + 0.012*\"wear\" + 0.011*\"lodg\" + 0.011*\"hole\" + 0.010*\"rainforest\" + 0.009*\"larg\" + 0.009*\"round\" + 0.009*\"februari\" + 0.009*\"shoe\"'),\n",
       " (6,\n",
       "  '0.021*\"buffet\" + 0.016*\"call\" + 0.009*\"english\" + 0.008*\"shock\" + 0.008*\"crush\" + 0.008*\"game\" + 0.008*\"inform\" + 0.007*\"readi\" + 0.007*\"websit\" + 0.007*\"technic\"'),\n",
       " (7,\n",
       "  '0.035*\"snow\" + 0.017*\"lightyear\" + 0.013*\"shuttl\" + 0.010*\"litter\" + 0.009*\"eurodisney\" + 0.008*\"dumbo\" + 0.008*\"floor\" + 0.008*\"fantasyland\" + 0.007*\"flight\" + 0.007*\"wild\"')]"
      ]
     },
     "execution_count": 279,
     "metadata": {},
     "output_type": "execute_result"
    }
   ],
   "source": [
    "import numpy\n",
    "lda_model = Trained_Models[numpy.argmax(coherence_scores)]\n",
    "\n",
    "#Show top 10 words in each topic\n",
    "lda_model.show_topics(num_words=10)"
   ]
  },
  {
   "cell_type": "markdown",
   "metadata": {},
   "source": [
    "# Finding the most representative Document for each Topic"
   ]
  },
  {
   "cell_type": "code",
   "execution_count": 287,
   "metadata": {},
   "outputs": [],
   "source": [
    "data = df.Review_Text.values.tolist()\n",
    "\n",
    "def format_topics_sentences(ldamodel=None, corpus=Corpus, texts=data):\n",
    "    # Init output\n",
    "    sent_topics_df = pd.DataFrame()\n",
    "\n",
    "    # Get main topic in each document\n",
    "    for i, row_list in enumerate(ldamodel[Corpus]):\n",
    "        row = row_list[0] if ldamodel.per_word_topics else row_list            \n",
    "        # print(row)\n",
    "        row = sorted(row, key=lambda x: (x[1]), reverse=True)\n",
    "        # Get the Dominant topic, Perc Contribution and Keywords for each document\n",
    "        for j, (topic_num, prop_topic) in enumerate(row):\n",
    "            if j == 0:  # => dominant topic\n",
    "                wp = ldamodel.show_topic(topic_num)\n",
    "                topic_keywords = \", \".join([word for word, prop in wp])\n",
    "                sent_topics_df = sent_topics_df.append(pd.Series([int(topic_num), \n",
    "                                                                  round(prop_topic,4),\n",
    "                                                                  topic_keywords]), \n",
    "                                                                    ignore_index=True)\n",
    "            else:\n",
    "                break\n",
    "    sent_topics_df.columns = ['Dominant_Topic', 'Perc_Contribution', 'Topic_Keywords']\n",
    "\n",
    "    # Add original text to the end of the output\n",
    "    contents = pd.Series(texts)\n",
    "    sent_topics_df = pd.concat([sent_topics_df, contents], axis=1)\n",
    "    return(sent_topics_df)\n",
    "\n",
    "\n",
    "df_topic_sents_keywords = format_topics_sentences(ldamodel=lda_model, corpus=Corpus, texts=df['Review_Text'])\n",
    "\n",
    "# Format\n",
    "df_dominant_topic = df_topic_sents_keywords.reset_index()\n",
    "df_dominant_topic.columns = ['Document_No', 'Dominant_Topic', 'Topic_Perc_Contrib', 'Keywords', 'Text']"
   ]
  },
  {
   "cell_type": "code",
   "execution_count": 301,
   "metadata": {},
   "outputs": [
    {
     "data": {
      "text/html": [
       "<div>\n",
       "<style scoped>\n",
       "    .dataframe tbody tr th:only-of-type {\n",
       "        vertical-align: middle;\n",
       "    }\n",
       "\n",
       "    .dataframe tbody tr th {\n",
       "        vertical-align: top;\n",
       "    }\n",
       "\n",
       "    .dataframe thead th {\n",
       "        text-align: right;\n",
       "    }\n",
       "</style>\n",
       "<table border=\"1\" class=\"dataframe\">\n",
       "  <thead>\n",
       "    <tr style=\"text-align: right;\">\n",
       "      <th></th>\n",
       "      <th>Topic_Num</th>\n",
       "      <th>Topic_Perc_Contrib</th>\n",
       "      <th>Keywords</th>\n",
       "      <th>Representative Text</th>\n",
       "    </tr>\n",
       "  </thead>\n",
       "  <tbody>\n",
       "    <tr>\n",
       "      <td>0</td>\n",
       "      <td>0.0</td>\n",
       "      <td>0.9561</td>\n",
       "      <td>complain, sign, poorli, deal, autograph, imagin, rock, buggi, shut, alton</td>\n",
       "      <td>Unlike Universal or Ocean park, Disneyland does not have concept of express pass. However they d...</td>\n",
       "    </tr>\n",
       "    <tr>\n",
       "      <td>1</td>\n",
       "      <td>1.0</td>\n",
       "      <td>0.9562</td>\n",
       "      <td>dirti, broken, poor, franc, machin, pushchair, coffe, terribl, kept, build</td>\n",
       "      <td>The castle was closed! No Street Parade! Pricey food and souvenirs! When they will re open the c...</td>\n",
       "    </tr>\n",
       "    <tr>\n",
       "      <td>2</td>\n",
       "      <td>2.0</td>\n",
       "      <td>0.9513</td>\n",
       "      <td>carribean, cafe, captain, laser, menu, search, phantom, broke, enabl, fresh</td>\n",
       "      <td>Return visit. Smaller than Paris one but ok for a day. Went on a weekend but longest we queued w...</td>\n",
       "    </tr>\n",
       "    <tr>\n",
       "      <td>3</td>\n",
       "      <td>3.0</td>\n",
       "      <td>0.9484</td>\n",
       "      <td>tower, villag, burger, disabl, chip, eurostar, lodg, terror, pick, shuttl</td>\n",
       "      <td>After living in Hong Kong for a few months, I had not heard great things about HK Disneyland. Bu...</td>\n",
       "    </tr>\n",
       "    <tr>\n",
       "      <td>4</td>\n",
       "      <td>4.0</td>\n",
       "      <td>0.9416</td>\n",
       "      <td>santa, dont, european, younger, childhood, partner, pavement, shuttl, american, memori</td>\n",
       "      <td>A great day out even for adults.We can early and we're able to do almost all rides in a couple o...</td>\n",
       "    </tr>\n",
       "    <tr>\n",
       "      <td>5</td>\n",
       "      <td>5.0</td>\n",
       "      <td>0.9485</td>\n",
       "      <td>villag, comfort, wear, lodg, hole, rainforest, larg, round, februari, shoe</td>\n",
       "      <td>Compared to other Disneyland this is just a small portion compacted altogether what they have..I...</td>\n",
       "    </tr>\n",
       "    <tr>\n",
       "      <td>6</td>\n",
       "      <td>6.0</td>\n",
       "      <td>0.9452</td>\n",
       "      <td>buffet, call, english, shock, crush, game, inform, readi, websit, technic</td>\n",
       "      <td>Just wanted to post a warning to anyone visiting Disneyland in the spring 2012. Yes, they are ha...</td>\n",
       "    </tr>\n",
       "    <tr>\n",
       "      <td>7</td>\n",
       "      <td>7.0</td>\n",
       "      <td>0.9539</td>\n",
       "      <td>snow, lightyear, shuttl, litter, eurodisney, dumbo, floor, fantasyland, flight, wild</td>\n",
       "      <td>My 3 yr old and 7 yr old girls loved it very bit. The idea was to let them see the characters an...</td>\n",
       "    </tr>\n",
       "  </tbody>\n",
       "</table>\n",
       "</div>"
      ],
      "text/plain": [
       "   Topic_Num  Topic_Perc_Contrib  \\\n",
       "0        0.0              0.9561   \n",
       "1        1.0              0.9562   \n",
       "2        2.0              0.9513   \n",
       "3        3.0              0.9484   \n",
       "4        4.0              0.9416   \n",
       "5        5.0              0.9485   \n",
       "6        6.0              0.9452   \n",
       "7        7.0              0.9539   \n",
       "\n",
       "                                                                                 Keywords  \\\n",
       "0               complain, sign, poorli, deal, autograph, imagin, rock, buggi, shut, alton   \n",
       "1              dirti, broken, poor, franc, machin, pushchair, coffe, terribl, kept, build   \n",
       "2             carribean, cafe, captain, laser, menu, search, phantom, broke, enabl, fresh   \n",
       "3               tower, villag, burger, disabl, chip, eurostar, lodg, terror, pick, shuttl   \n",
       "4  santa, dont, european, younger, childhood, partner, pavement, shuttl, american, memori   \n",
       "5              villag, comfort, wear, lodg, hole, rainforest, larg, round, februari, shoe   \n",
       "6               buffet, call, english, shock, crush, game, inform, readi, websit, technic   \n",
       "7    snow, lightyear, shuttl, litter, eurodisney, dumbo, floor, fantasyland, flight, wild   \n",
       "\n",
       "                                                                                   Representative Text  \n",
       "0  Unlike Universal or Ocean park, Disneyland does not have concept of express pass. However they d...  \n",
       "1  The castle was closed! No Street Parade! Pricey food and souvenirs! When they will re open the c...  \n",
       "2  Return visit. Smaller than Paris one but ok for a day. Went on a weekend but longest we queued w...  \n",
       "3  After living in Hong Kong for a few months, I had not heard great things about HK Disneyland. Bu...  \n",
       "4  A great day out even for adults.We can early and we're able to do almost all rides in a couple o...  \n",
       "5  Compared to other Disneyland this is just a small portion compacted altogether what they have..I...  \n",
       "6  Just wanted to post a warning to anyone visiting Disneyland in the spring 2012. Yes, they are ha...  \n",
       "7  My 3 yr old and 7 yr old girls loved it very bit. The idea was to let them see the characters an...  "
      ]
     },
     "execution_count": 301,
     "metadata": {},
     "output_type": "execute_result"
    }
   ],
   "source": [
    "# Display setting to show more characters in column\n",
    "pd.options.display.max_colwidth = 100\n",
    "\n",
    "sent_topics_sorteddf_mallet = pd.DataFrame()\n",
    "sent_topics_outdf_grpd = df_topic_sents_keywords.groupby('Dominant_Topic')\n",
    "\n",
    "for i, grp in sent_topics_outdf_grpd:\n",
    "    sent_topics_sorteddf_mallet = pd.concat([sent_topics_sorteddf_mallet, \n",
    "                                             grp.sort_values(['Perc_Contribution'], ascending=False).head(1)], \n",
    "                                            axis=0)\n",
    "\n",
    "# Reset Index    \n",
    "sent_topics_sorteddf_mallet.reset_index(drop=True, inplace=True)\n",
    "\n",
    "# Format\n",
    "sent_topics_sorteddf_mallet.columns = ['Topic_Num', \"Topic_Perc_Contrib\", \"Keywords\", \"Representative Text\"]\n",
    "\n",
    "# Show\n",
    "sent_topics_sorteddf_mallet"
   ]
  },
  {
   "cell_type": "code",
   "execution_count": 358,
   "metadata": {},
   "outputs": [
    {
     "data": {
      "text/plain": [
       "\"After living in Hong Kong for a few months, I had not heard great things about HK Disneyland. But, I decided to go with some friends and had a really fantastic time! We got there right when it opened and the lines were quite short in the morning. We didn't spend more than 20 minutes in a line! The park is small; I was able to go on my favorite rides multiple times throughout the day, with and without fast passes. Because of its size, visiting the park is one day is more than feasible. I personally loved Space Mountain and Grizzly Gulch rollercoasters.The food was not as good as food at other Disney parks. The Mickey waffles and ice cream were tasty, but the popcorn wasn't warm and the sandwiches from bakeries on in Street barely had any meat and cheese in them. I recommend bringing your own food into the park.I wouldn't get a season pass for HK Disney because it's too small and it would get old quickly if I went there too often, but I will definitely visit every once in a while!\""
      ]
     },
     "execution_count": 358,
     "metadata": {},
     "output_type": "execute_result"
    }
   ],
   "source": [
    "sent_topics_sorteddf_mallet['Representative Text'][3]  ## Change the index value to obtain the required Topic"
   ]
  },
  {
   "cell_type": "code",
   "execution_count": null,
   "metadata": {},
   "outputs": [],
   "source": [
    "# With the following Code, we can look at each Representative Texts by their desceding Probability Topic Contribution\n",
    "\n",
    "df_texts = df_dominant_topic[df_dominant_topic['Dominant_Topic'] == 3.0]\\  # Change the required Topic number \n",
    "                .sort_values(by='Topic_Perc_Contrib', ascending =False)\\\n",
    "                .reset_index()\n",
    "\n",
    "df_texts['Text'][1] ## Change for the required Representative Text"
   ]
  },
  {
   "cell_type": "markdown",
   "metadata": {},
   "source": [
    "## Answer ---------> Part F"
   ]
  },
  {
   "cell_type": "markdown",
   "metadata": {},
   "source": [
    "The above table shows us the most matching Review in each Topic\n",
    "\n",
    "By Reading the Each Review Text in the above 8 Topics, the Following are the Concerns and Interests of the Visitors that are identified by studying each Topic.\n",
    "\n",
    "The Visitors are mainly \"Concerned\" about the following:-\n",
    "\n",
    "1. Food quality and its expensive price \n",
    "2. the long Wait time and queues \n",
    "3. lack of shade in hot weather -----> 4, \n",
    "4. Very Long Walks \n",
    "\n",
    "The Visitors are mainly \"Interested\" about the following:-\n",
    "\n",
    "1. Iron Man Experience\n",
    "2. Fireworks\n",
    "3. Space Mountain\n",
    "4. Grizzly Gulch Rollercoasters\n",
    "5. Shopping, Disney Gifts and Clothing."
   ]
  },
  {
   "cell_type": "markdown",
   "metadata": {},
   "source": [
    "The most Concerns and Interests are discussed in Topic 2, 3 and 4.\n",
    "\n",
    "Topic 2 mostly talks about the Concerns related to Food Quality, its tastes and its expensive Price. \n",
    "\n",
    "Topic 3 is a bit about the concerns related to Food and mainly interests in Experiences such as Iron Man Ride, Grizzly Gulch Rollercoasters and Space Mountain. \n",
    "\n",
    "Topic 4 mostly talks about the concerns related to Long Walks, lack of Shades in Hot Weather. Also, it talks about the interests of Adults in Shopping liek Disney gifts and Clothing. \n",
    "\n",
    "All the above three topics and mostly all the topics show concerns regarding the Very Long Queues and Long waiting Time. \n",
    "\n",
    "Also, the topics show interests in Fireworks.\n"
   ]
  },
  {
   "cell_type": "markdown",
   "metadata": {},
   "source": [
    "### Strengths and Weaknesses of SVD and LDA:-"
   ]
  },
  {
   "cell_type": "markdown",
   "metadata": {},
   "source": [
    "The Follwoing are the Strengths and Weaknesses of SVD and LDA are:-\n",
    "\n",
    "1. SVD does not require to specify the number of Topics as compared to LDA where we have to select the number of   Topics. \n",
    "\n",
    "\n",
    "\n",
    "2. Moroever, it works both with TF-IDF and Term Frequency Representation.\n",
    "\n",
    "\n",
    "3. SVD is computationally expensive and intensive as compared to LDA which is relatively fast.\n",
    "\n",
    "\n",
    "4. LDA performs better than with more meaningful results. \n",
    "\n",
    "\n",
    "5. Also, its easy to update as new data comes in."
   ]
  },
  {
   "cell_type": "markdown",
   "metadata": {},
   "source": [
    "# PART G"
   ]
  },
  {
   "cell_type": "markdown",
   "metadata": {},
   "source": [
    "## Figure G.1"
   ]
  },
  {
   "cell_type": "code",
   "execution_count": 168,
   "metadata": {
    "scrolled": false
   },
   "outputs": [
    {
     "data": {
      "image/png": "[encoded data removed]",
      "text/plain": [
       "<Figure size 1008x720 with 1 Axes>"
      ]
     },
     "metadata": {
      "needs_background": "light"
     },
     "output_type": "display_data"
    }
   ],
   "source": [
    "Selected_Branch = ['Disneyland_California', 'Disneyland_HongKong', 'Disneyland_Paris']\n",
    "Group_Prob = []\n",
    "for i in range(len(Selected_Branch)):\n",
    "    Index = df['Branch'] == Selected_Branch[i]\n",
    "    Corpus_Selected = [Corpus[i] for i, x in enumerate(Index) if x]\n",
    "    GroupDoc_Pro = lda_model.get_document_topics(Corpus_Selected)\n",
    "    Margina_Pro = np.zeros(8) #Replace the number in bracket with the number of topics in your best model\n",
    "    for doc in range(len(GroupDoc_Pro)):\n",
    "        EachDoc = GroupDoc_Pro[doc]\n",
    "        for top in range(len(EachDoc)):\n",
    "            EachTopic = EachDoc[top]\n",
    "            Margina_Pro[EachTopic[0]] = Margina_Pro[EachTopic[0]] + EachTopic[1]          \n",
    "    Group_Prob.append(Margina_Pro/sum(Margina_Pro))\n",
    "\n",
    "Bar_index = np.asarray(range(1,lda_model.num_topics+1))\n",
    "pyplot.figure(figsize=(14,10)) \n",
    "pyplot.title('Topic Probability Distribution  by Document', fontsize=16)\n",
    "pyplot.xlabel('Topic')\n",
    "pyplot.ylabel('Probability')\n",
    "width = 0.15   \n",
    "for i in range(len(Selected_Branch)):\n",
    "    pyplot.bar(Bar_index + i*width, Group_Prob[i].tolist(), width,  label=Selected_Branch[i])\n",
    "    \n",
    "pyplot.xticks(Bar_index + 1.5*width, Bar_index)\n",
    "pyplot.legend()\n",
    "pyplot.show();"
   ]
  },
  {
   "cell_type": "markdown",
   "metadata": {},
   "source": [
    "## ANSWER ------> Part G"
   ]
  },
  {
   "cell_type": "markdown",
   "metadata": {},
   "source": [
    "#### Due to the change in the index, the chosen Topics in the above graph are 3, 4 and 5."
   ]
  },
  {
   "cell_type": "markdown",
   "metadata": {},
   "source": [
    "We have picked our Concerns from Topics 3, 4 and 5. \n",
    "\n",
    "We will define the Differences Theme Park Wise:\n",
    "\n",
    "First of all, we will define what are the Concerns and Interests in the Chosen topics:-\n",
    "\n",
    "1. Topic 3 mostly talks about the Concerns related to Food Quality, its tastes and its expensive Price. \n",
    "\n",
    "\n",
    "2. Topic 4 is a bit about the concerns related to Food and mainly interests in Experiences such as Iron Man Ride,        Grizzly Gulch Rollercoasters and Space Mountain. \n",
    "\n",
    "\n",
    "3. Topic 5 mostly talks about the concerns related to Long Walks, lack of Shades in Hot Weather. Also, it talks about    the interests of Adults in Shopping liek Disney gifts and Clothing. \n",
    "\n",
    "\n",
    "We will discuss the differences according to the chosen Topics:-\n",
    "\n",
    "Topic 3:\n",
    "\n",
    "As we can observe in the graph, DisneyLand California and HongKong have the same concerns, whereas DisneyLand Paris shows a bit less concerned reqarding the Food.\n",
    "\n",
    "Topic 4:\n",
    "\n",
    "The concerns and interests of DisneyLand California and HongKong are same where as Topic 4 is more popular in DisneyLand Paris.\n",
    "\n",
    "Topic 5:\n",
    "\n",
    "The concerns and interests of DisneyLand California and Paris are same where as Topic 5 is more popular in DisneyLand HongKong.\n",
    "\n",
    "To conclude, visitors at DisneyLand California mostly have concerned related to food, followed by Lack of Shade and Interests in Iron Man Ride, Space Mountain and other experiences.\n",
    "\n",
    "Visitors at DisneyLand HongKong are mostly concerned regarding the Lack of Shades and interests in Shopping. \n",
    "\n",
    "Visitors at DisneyLand Paris have mostly equal concerns and interests.\n"
   ]
  },
  {
   "cell_type": "markdown",
   "metadata": {},
   "source": [
    "# PART H"
   ]
  },
  {
   "cell_type": "markdown",
   "metadata": {},
   "source": [
    "## Figure H.1"
   ]
  },
  {
   "cell_type": "code",
   "execution_count": 170,
   "metadata": {},
   "outputs": [
    {
     "data": {
      "image/png": "[encoded data removed]",
      "text/plain": [
       "<Figure size 1008x720 with 1 Axes>"
      ]
     },
     "metadata": {
      "needs_background": "light"
     },
     "output_type": "display_data"
    }
   ],
   "source": [
    "import numpy as np\n",
    "\n",
    "Selected_Location = ['Australia','United States','United Kingdom']\n",
    "\n",
    "Group_Prob = []\n",
    "for i in range(len(Selected_Location)):\n",
    "    Index = df['Reviewer_Location'] == Selected_Location[i]\n",
    "    Corpus_Selected = [Corpus[i] for i, x in enumerate(Index) if x]\n",
    "    GroupDoc_Pro = lda_model.get_document_topics(Corpus_Selected)\n",
    "    Margina_Pro = np.zeros(8) #Replace the number in bracket with the number of topics in your best model\n",
    "    for doc in range(len(GroupDoc_Pro)):\n",
    "        EachDoc = GroupDoc_Pro[doc]\n",
    "        for top in range(len(EachDoc)):\n",
    "            EachTopic = EachDoc[top]\n",
    "            Margina_Pro[EachTopic[0]] = Margina_Pro[EachTopic[0]] + EachTopic[1]          \n",
    "    Group_Prob.append(Margina_Pro/sum(Margina_Pro))\n",
    "\n",
    "Bar_index = np.asarray(range(1,lda_model.num_topics+1))\n",
    "pyplot.figure(figsize=(14,10)) \n",
    "pyplot.title('Topic Probability Distribution  by Document', fontsize=16)\n",
    "pyplot.xlabel('Topic')\n",
    "pyplot.ylabel('Probability')\n",
    "width = 0.15   \n",
    "for i in range(len(Selected_Location)):\n",
    "    pyplot.bar(Bar_index + i*width, Group_Prob[i].tolist(), width,  label=Selected_Location[i])\n",
    "    \n",
    "pyplot.xticks(Bar_index + 1.5*width, Bar_index)\n",
    "pyplot.legend()\n",
    "pyplot.show();"
   ]
  },
  {
   "cell_type": "markdown",
   "metadata": {},
   "source": [
    "## ANSWER -----> PART H"
   ]
  },
  {
   "cell_type": "markdown",
   "metadata": {},
   "source": [
    "#### Due to the change in the index, the chosen Topics in the above graph are 3, 4 and 5."
   ]
  },
  {
   "cell_type": "markdown",
   "metadata": {},
   "source": [
    "We have picked our Concerns from Topics 3, 4 and 5. \n",
    "\n",
    "We will define the Differences according to Visitors group:\n",
    "\n",
    "First of all, we will define what are the Concerns and Interests in the Chosen topics:-\n",
    "\n",
    "1. Topic 3 mostly talks about the Concerns related to Food Quality, its tastes and its expensive Price. \n",
    "\n",
    "\n",
    "2. Topic 4 is a bit about the concerns related to Food and mainly interests in Experiences such as Iron Man Ride,        Grizzly Gulch Rollercoasters and Space Mountain. \n",
    "\n",
    "\n",
    "3. Topic 5 mostly talks about the concerns related to Long Walks, lack of Shades in Hot Weather. Also, it talks about    the interests of Adults in Shopping liek Disney gifts and Clothing. \n",
    "\n",
    "\n",
    "The concerns and interests of DisneyLand California and Paris are same where as Topic 5 is more popular in DisneyLand HongKong.\n",
    "\n",
    "To conclude, visitors from United States mostly have concerned related to food, followed by Lack of Shade whereas, they have Interest in Shopping from Disney Outlets\n",
    "\n",
    "Visitors from Australia are mostly concerned regarding the Lack of Shades, followed by the Food quality and its Pricing whereas they have high interests in Shopping.\n",
    "\n",
    "Visitors from United Kingdom have almost equal concerns and interests.  \n"
   ]
  },
  {
   "cell_type": "markdown",
   "metadata": {
    "colab_type": "text",
    "id": "Ooqxs37-dv-Z"
   },
   "source": [
    "<a id = \"cell_Practicalimplication\"></a>\n",
    "### 5. Practical Implication"
   ]
  },
  {
   "cell_type": "markdown",
   "metadata": {},
   "source": [
    "## Following are some Recommendations:-"
   ]
  },
  {
   "cell_type": "markdown",
   "metadata": {
    "colab": {},
    "colab_type": "code",
    "id": "zvROMdFk6jI3"
   },
   "source": [
    "The Management Team is looking to create a better customer experience by improving their customer service. \n",
    "\n",
    "Following are the recommendations that could help in solving the business problem:-\n",
    "\n",
    "1. Many Visitors have found Food Quality to be decreasing despite its expensive Price. A special focus on maintaining the Food Quality is needed.\n",
    "\n",
    "\n",
    "\n",
    "2. Many Visitors have concerns regarding the Long waiting time for the Rides. The number of most popular Rides could be doubled or the capacity could be increased to accommodate more customers. This could result in short Waiting times. \n",
    "\n",
    "\n",
    "\n",
    "\n",
    "3. Also, in Hot Weather, Visitors were concerned regarding lack of Shade areas. If more shade areas where Visitors could rest, then that would really enhance the customer experience.  "
   ]
  },
  {
   "cell_type": "markdown",
   "metadata": {
    "colab_type": "text",
    "id": "HlMRE9Nedv-Z"
   },
   "source": [
    "### References: "
   ]
  },
  {
   "cell_type": "markdown",
   "metadata": {},
   "source": [
    "https://towardsdatascience.com/topic-modeling-with-nlp-on-amazon-reviews-an-application-of-latent-dirichlet-allocation-lda-ae42a4c8b369"
   ]
  },
  {
   "cell_type": "markdown",
   "metadata": {},
   "source": [
    "https://stackabuse.com/python-for-nlp-sentiment-analysis-with-scikit-learn/"
   ]
  },
  {
   "cell_type": "markdown",
   "metadata": {},
   "source": [
    "https://www.machinelearningplus.com/nlp/topic-modeling-gensim-python/"
   ]
  },
  {
   "cell_type": "markdown",
   "metadata": {},
   "source": [
    "https://www.machinelearningplus.com/nlp/topic-modeling-gensim-python/"
   ]
  }
 ],
 "metadata": {
  "colab": {
   "collapsed_sections": [],
   "name": "AI_DISNEY.ipynb",
   "provenance": []
  },
  "kernelspec": {
   "display_name": "Python 3",
   "language": "python",
   "name": "python3"
  },
  "language_info": {
   "codemirror_mode": {
    "name": "ipython",
    "version": 3
   },
   "file_extension": ".py",
   "mimetype": "text/x-python",
   "name": "python",
   "nbconvert_exporter": "python",
   "pygments_lexer": "ipython3",
   "version": "3.8.5"
  }
 },
 "nbformat": 4,
 "nbformat_minor": 1
}
